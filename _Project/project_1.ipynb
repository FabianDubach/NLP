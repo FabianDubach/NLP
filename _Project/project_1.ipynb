{
 "cells": [
  {
   "cell_type": "markdown",
   "metadata": {},
   "source": [
    "# **FS25 NLP Project 1: Word Embeddings/Recurrent Neural Networks**"
   ]
  },
  {
   "cell_type": "markdown",
   "metadata": {},
   "source": [
    "Fabian Dubach"
   ]
  },
  {
   "cell_type": "markdown",
   "metadata": {},
   "source": [
    "# **Introduction**"
   ]
  },
  {
   "cell_type": "markdown",
   "metadata": {},
   "source": [
    "The task for this project was to answer common sense questions with the usage of two different architectures: Word embeddings (word2vec, GloVe or fastText) with a classifier and a 2-layer RNN architecture with a classifier (LSTM or GRU). We had to also track the trainings with Wandb (workspace URL: https://wandb.ai/fabian-dubach-hochschule-luzern/CommonsenseQA/workspace?nw=nwuserfabiandubach)."
   ]
  },
  {
   "cell_type": "markdown",
   "metadata": {},
   "source": [
    "# **Setup**"
   ]
  },
  {
   "cell_type": "markdown",
   "metadata": {},
   "source": [
    "Import all libraries needed to run the code."
   ]
  },
  {
   "cell_type": "code",
   "execution_count": 1,
   "metadata": {},
   "outputs": [
    {
     "name": "stderr",
     "output_type": "stream",
     "text": [
      "c:\\Users\\fabia\\AppData\\Local\\Programs\\Python\\Python312\\Lib\\site-packages\\tqdm\\auto.py:21: TqdmWarning: IProgress not found. Please update jupyter and ipywidgets. See https://ipywidgets.readthedocs.io/en/stable/user_install.html\n",
      "  from .autonotebook import tqdm as notebook_tqdm\n"
     ]
    }
   ],
   "source": [
    "import os\n",
    "import time\n",
    "from datetime import datetime\n",
    "from collections import Counter\n",
    "\n",
    "import numpy as np\n",
    "import pandas as pd\n",
    "import matplotlib.pyplot as plt\n",
    "import seaborn as sns\n",
    "\n",
    "import torch\n",
    "import torch.nn as nn\n",
    "from torch.utils.data import DataLoader, Dataset\n",
    "from torch.nn.utils.rnn import pad_sequence, pack_padded_sequence\n",
    "\n",
    "import nltk\n",
    "from nltk.corpus import stopwords\n",
    "from nltk.tokenize import word_tokenize\n",
    "import gensim\n",
    "\n",
    "from datasets import load_dataset\n",
    "from huggingface_hub import hf_hub_download\n",
    "\n",
    "from tqdm import tqdm, trange\n",
    "import wandb"
   ]
  },
  {
   "cell_type": "markdown",
   "metadata": {},
   "source": [
    "Setup random seed to ensure reproducibility.\n",
    "\n",
    "_Info about the seed value: The field of natural language processing began in the 1940s, after World War II. At this time, people recognized the importance of translation from one language to another and hoped to create a machine that could do this sort of translation automatically._"
   ]
  },
  {
   "cell_type": "code",
   "execution_count": 2,
   "metadata": {},
   "outputs": [],
   "source": [
    "SEED = 1940 # normal: 42\n",
    "\n",
    "np.random.seed(SEED)\n",
    "torch.manual_seed(SEED)\n",
    "torch.cuda.manual_seed(SEED)\n",
    "torch.backends.cudnn.deterministic = True"
   ]
  },
  {
   "cell_type": "markdown",
   "metadata": {},
   "source": [
    "Download tokenizer files."
   ]
  },
  {
   "cell_type": "code",
   "execution_count": 3,
   "metadata": {},
   "outputs": [
    {
     "name": "stderr",
     "output_type": "stream",
     "text": [
      "[nltk_data] Downloading package punkt_tab to\n",
      "[nltk_data]     C:\\Users\\fabia\\AppData\\Roaming\\nltk_data...\n",
      "[nltk_data]   Package punkt_tab is already up-to-date!\n",
      "[nltk_data] Downloading package stopwords to\n",
      "[nltk_data]     C:\\Users\\fabia\\AppData\\Roaming\\nltk_data...\n",
      "[nltk_data]   Package stopwords is already up-to-date!\n"
     ]
    },
    {
     "data": {
      "text/plain": [
       "True"
      ]
     },
     "execution_count": 3,
     "metadata": {},
     "output_type": "execute_result"
    }
   ],
   "source": [
    "nltk.download('punkt_tab')\n",
    "nltk.download('stopwords')"
   ]
  },
  {
   "cell_type": "markdown",
   "metadata": {},
   "source": [
    "Load pre-trained FastText word embeddings (300 dimensions)\n",
    "\n",
    "I first wanted to choose GloVe, because I've seen that GloVe performs very good on semantic similarity and analogical reasoning. Due to the fact that GloVe can only handle uncased embeddings (lowercase), I chose to use FastText. I used 300 dimensions, because it represents word meanings more completely than smaller options (50- or 100 dimensions) while still being practical to use."
   ]
  },
  {
   "cell_type": "code",
   "execution_count": 4,
   "metadata": {},
   "outputs": [],
   "source": [
    "model_path = hf_hub_download(repo_id=\"facebook/fasttext-en-vectors\", filename=\"model.bin\")"
   ]
  },
  {
   "cell_type": "code",
   "execution_count": 5,
   "metadata": {},
   "outputs": [],
   "source": [
    "fasttext_model = gensim.models.fasttext.load_facebook_model(model_path)\n",
    "wv = fasttext_model.wv"
   ]
  },
  {
   "cell_type": "markdown",
   "metadata": {},
   "source": [
    "Look at vector- and vocab size from the loaded embedding."
   ]
  },
  {
   "cell_type": "code",
   "execution_count": 6,
   "metadata": {},
   "outputs": [
    {
     "name": "stdout",
     "output_type": "stream",
     "text": [
      "Vector size: 300\n",
      "Vocab size: 2000000\n"
     ]
    }
   ],
   "source": [
    "print(\"Vector size:\", wv.vector_size)\n",
    "print(\"Vocab size:\", len(wv.index_to_key))"
   ]
  },
  {
   "cell_type": "markdown",
   "metadata": {},
   "source": [
    "Check if known and unknown words create vectors."
   ]
  },
  {
   "cell_type": "code",
   "execution_count": 7,
   "metadata": {},
   "outputs": [
    {
     "name": "stdout",
     "output_type": "stream",
     "text": [
      "[ 0.18165089  0.11567269  0.0433396   0.07706802  0.05069138  0.03688334\n",
      "  0.07828845  0.04980808 -0.00644083  0.01029488 -0.04722646 -0.00791209\n",
      " -0.11451723  0.03025086  0.09307548  0.01062883 -0.07683911 -0.10517459\n",
      "  0.00246387  0.07702646  0.04039837  0.01229953 -0.11466632  0.05460778\n",
      "  0.08104917  0.0413662   0.01208615  0.08066231 -0.10937778  0.0893073\n",
      " -0.03935073 -0.03060348 -0.08027591  0.08209406 -0.03217232 -0.03641732\n",
      "  0.01242283  0.05759722 -0.05894108  0.02777894 -0.18341364 -0.05084793\n",
      "  0.02241275  0.00440608  0.07912826  0.04474901 -0.03937861 -0.0721626\n",
      "  0.05589562  0.02635202  0.01346619  0.0173357   0.12057565 -0.019653\n",
      " -0.01023086 -0.00223926  0.03043848  0.00747647  0.04588774  0.06308782\n",
      " -0.1178913   0.10388953 -0.03564711  0.12567218  0.1470628   0.06018791\n",
      " -0.0574099   0.01620604  0.12471652  0.04412995  0.10071367 -0.02047683\n",
      " -0.13367647 -0.07360457 -0.13447621 -0.03744629 -0.0009886   0.0684141\n",
      "  0.06370986  0.05818591 -0.04122961 -0.0223539   0.0769026   0.09776731\n",
      "  0.02858542 -0.02261026  0.02192976  0.02389368 -0.02181333 -0.05587808\n",
      " -0.10528626 -0.01707761  0.16739199 -0.07432255  0.05840709 -0.03762028\n",
      " -0.00207798  0.01510621  0.03805321  0.03398537 -0.00906375 -0.07027729\n",
      "  0.04727545  0.02308086  0.04358866 -0.01768984  0.03916318  0.06372152\n",
      " -0.02831535  0.04534719  0.02102193  0.01108286 -0.03659292  0.04093347\n",
      " -0.06203868 -0.10862799  0.00680049  0.03481388 -0.06817614  0.02137695\n",
      " -0.00345266  0.1150042  -0.04496847 -0.08819682 -0.04952236  0.01701073\n",
      "  0.02326014 -0.04779105  0.04800141 -0.07515921 -0.01634037 -0.0811061\n",
      " -0.09424134 -0.00833836 -0.04380025 -0.03635019  0.00569909  0.00082589\n",
      " -0.11013471 -0.05401219 -0.01574623  0.04228688 -0.1068991  -0.03638983\n",
      " -0.05132256 -0.00147617 -0.10611109 -0.04120749  0.14517301  0.01697615\n",
      "  0.04895845 -0.05139152 -0.07904777 -0.03195062 -0.01784976 -0.01884896\n",
      "  0.01083412 -0.04916894  0.03224476  0.07400668 -0.03882392  0.03726387\n",
      " -0.12158169 -0.02310036  0.07332714 -0.11492305  0.06320892  0.0763358\n",
      "  0.03122582 -0.07115757 -0.01897454 -0.06736365 -0.0635465   0.07702038\n",
      "  0.06505896 -0.01860097  0.01857694  0.01654613  0.07221819 -0.00398161\n",
      "  0.18419957  0.05156292  0.00093686  0.09514098  0.06906874  0.03903695\n",
      "  0.0858674   0.02365539 -0.01141509 -0.05531562 -0.04065567 -0.17426042\n",
      " -0.05206808 -0.05193314 -0.05110309 -0.0522124  -0.1663761   0.10091858\n",
      "  0.00916502  0.09908608 -0.12705521 -0.00574662  0.04638401  0.0341948\n",
      " -0.2017314  -0.01244436  0.03252782 -0.02472054 -0.05050343  0.01227911\n",
      " -0.02038734  0.0036418  -0.05424974 -0.07783546 -0.01223209  0.0302521\n",
      " -0.00328729  0.00968582 -0.00269379 -0.0475513  -0.04994595  0.01874385\n",
      "  0.07220112 -0.05906899  0.1008291   0.02528204 -0.0778743  -0.10279019\n",
      " -0.02604302  0.0789118   0.02627861  0.09560115 -0.0089255  -0.07674091\n",
      "  0.01429606  0.01313404 -0.03895061  0.11260032 -0.04728229 -0.01135568\n",
      " -0.05426588 -0.15327632 -0.01439532  0.12041174  0.18071084 -0.00982607\n",
      "  0.0427782   0.16305949 -0.04483898 -0.05071171  0.01258892 -0.05913531\n",
      "  0.07538383 -0.09350947  0.03784867  0.1473783  -0.01954721 -0.02140094\n",
      "  0.07979327  0.05211494  0.03398424 -0.03633638 -0.02617038 -0.04646286\n",
      "  0.00825945 -0.04652121 -0.10042215 -0.03944197  0.0306065  -0.07439391\n",
      "  0.02664843 -0.10097454 -0.12594806  0.06312321 -0.00922106 -0.01078579\n",
      " -0.06060401 -0.10091601 -0.04235916 -0.01697931 -0.12506312 -0.08156627\n",
      " -0.07982061  0.05424746 -0.01857662  0.07154027  0.0322356  -0.19313999\n",
      "  0.04096438 -0.05646858  0.06730992  0.08486427 -0.11022168 -0.02145613\n",
      "  0.03925505  0.00298458 -0.04771789  0.07572205 -0.05758004  0.05284115]\n",
      "[ 2.97031272e-03  3.40607017e-04  1.35063501e-02  2.93574780e-02\n",
      " -1.66248605e-02 -4.51960368e-03 -8.67080130e-03 -1.12947375e-02\n",
      "  5.02542593e-04 -2.30718181e-02  5.68294479e-03 -3.38404393e-03\n",
      " -3.09460368e-02 -1.09714689e-02 -2.44773198e-02 -3.85160223e-02\n",
      " -4.03666310e-03  9.80488118e-03  2.64563505e-02  1.16144745e-02\n",
      " -2.05351971e-02 -1.66083947e-02 -1.57732107e-02  1.37995873e-02\n",
      "  6.12373911e-02  2.04167552e-02 -2.18895636e-02  1.36729470e-02\n",
      " -7.38288276e-04  4.07587364e-02  9.82565433e-03 -5.22660743e-03\n",
      " -2.72591747e-02  2.39877030e-04  2.72601694e-02 -7.30554573e-03\n",
      " -7.46898074e-03  3.45904604e-02 -1.36964126e-02  8.17707554e-03\n",
      " -3.78858764e-04 -1.66866789e-03 -4.06378694e-03  1.16347906e-03\n",
      " -1.48788150e-02 -1.11557706e-03 -2.64112502e-02  1.93093754e-02\n",
      "  4.82143369e-05  1.11076599e-02 -5.57333278e-03 -2.02334821e-02\n",
      " -5.56224864e-03 -1.40912673e-02 -4.07067593e-03 -1.03690466e-02\n",
      "  1.03850681e-02 -1.74085610e-04  1.87323149e-03  6.40070857e-03\n",
      " -2.11857259e-02  2.32436489e-02  2.91495547e-02  1.68980546e-02\n",
      "  1.82434507e-02 -7.73929153e-03  1.24754850e-04  3.14254016e-02\n",
      " -1.45284357e-02 -3.61171342e-03  1.89932454e-02  1.73607543e-02\n",
      "  2.68886834e-02 -9.54429246e-03  3.21093481e-03  2.74840128e-02\n",
      "  2.84707323e-02 -3.91487079e-03 -3.98980305e-02  9.42743290e-03\n",
      " -5.71705354e-03  8.97879433e-03 -2.02749725e-02 -1.72194261e-02\n",
      " -1.56093184e-02  1.08502861e-02 -2.46748626e-02 -1.43537782e-02\n",
      "  1.35887396e-02 -8.45968444e-03 -1.35286013e-02 -5.01403864e-03\n",
      " -4.48085777e-02 -3.08049601e-02  3.79183553e-02  2.43808702e-02\n",
      " -3.35939345e-03 -2.70930771e-02  9.02074948e-03 -9.43065993e-03\n",
      " -8.52887053e-03  2.13081688e-02 -1.14998790e-02  3.32715586e-02\n",
      "  3.25527275e-03 -2.28147060e-02  2.05057748e-02 -6.26413152e-04\n",
      " -1.83614921e-02 -1.79118495e-02 -2.35025696e-02 -1.30714970e-02\n",
      "  2.03093532e-02  1.70697533e-02  3.10187973e-03  1.46194333e-02\n",
      "  1.90508738e-02 -4.25692531e-04  1.53421955e-02  1.19441962e-02\n",
      " -1.82501115e-02  1.81834511e-02  2.02173367e-02  1.03911823e-02\n",
      "  1.32278595e-02  3.40679288e-02 -3.91585007e-03 -1.21597517e-02\n",
      " -3.20007317e-02 -4.53492627e-02 -1.37786716e-02  2.59805052e-03\n",
      "  1.04692494e-02  7.84383155e-03  1.00294286e-02  2.98436992e-02\n",
      "  2.26405542e-03 -6.88534603e-02  5.67903509e-04  2.41571292e-02\n",
      "  3.25823277e-02  2.73115188e-03  3.12146135e-02 -2.77856737e-03\n",
      " -2.80041881e-02 -1.32836225e-02 -4.72761244e-02  8.95016082e-03\n",
      "  1.37353586e-02 -9.06289183e-03 -9.90835205e-03 -2.22451612e-02\n",
      " -4.23793234e-02  1.15017984e-02 -1.13643520e-02 -5.86752780e-03\n",
      "  1.97005048e-02 -1.65714752e-02 -3.29226032e-02 -3.40121016e-02\n",
      " -1.42437983e-02 -3.28963995e-02 -2.42249426e-02 -1.94186112e-04\n",
      "  2.79154489e-03  1.65105611e-02 -1.69017445e-03 -1.43269617e-02\n",
      "  1.87001675e-02  3.19226235e-02  1.38433184e-03  1.35733746e-03\n",
      "  6.50663953e-03  4.00839783e-02  1.95277035e-02  1.99907795e-02\n",
      "  2.27622110e-02 -2.01473311e-02 -4.46982123e-03 -1.65324099e-02\n",
      " -8.98451544e-03  5.89326955e-02  1.64911151e-04 -4.51234542e-02\n",
      " -8.38645268e-03 -2.88774259e-02  4.81655523e-02 -1.78609192e-02\n",
      "  4.33279295e-03  1.69598730e-03  2.18791002e-03 -5.14529757e-02\n",
      "  1.13792485e-02  1.45653859e-02  7.55027635e-03 -4.22895979e-03\n",
      " -1.68361403e-02 -9.19132959e-03  1.15000028e-02  7.05640689e-02\n",
      " -3.06501165e-02 -2.66216602e-02 -1.16075836e-02  9.75436182e-04\n",
      "  1.90271437e-02 -1.22778583e-03  1.93538722e-02 -1.18292756e-02\n",
      " -1.17262881e-02 -3.88801144e-03  8.71444494e-03 -8.63834564e-03\n",
      "  4.71205711e-02 -3.17980675e-03 -3.98652535e-03 -3.67477909e-02\n",
      "  5.05029224e-03 -8.52162018e-04  2.24850699e-02  1.90338120e-02\n",
      "  2.18193000e-03 -6.26519462e-03  6.64199516e-03  3.27939838e-02\n",
      " -1.07904226e-02  2.56617740e-02 -3.96525767e-03  1.32368263e-02\n",
      "  4.46370151e-03  3.89272422e-02 -4.79178177e-03  2.30782684e-02\n",
      " -9.04239714e-03 -4.27850196e-03  1.37756765e-03  2.42634136e-02\n",
      "  1.96271557e-02 -1.84338465e-02 -1.19003309e-02  2.79325228e-02\n",
      "  2.62266435e-02 -1.89277017e-03  5.57764154e-03  9.38646961e-04\n",
      "  1.00615583e-02 -5.87627385e-03 -3.74485888e-02  7.30309810e-04\n",
      "  2.61170976e-03  1.31001249e-02  5.17663807e-02 -6.09678123e-03\n",
      "  2.08204240e-03  3.05297645e-03 -6.55129086e-04  3.70363481e-02\n",
      "  2.09345110e-02  2.66017374e-02 -2.22177505e-02  6.65352121e-03\n",
      " -4.22321353e-03 -3.90813574e-02 -5.70038706e-02 -6.74200896e-03\n",
      " -3.33354156e-03  2.69167684e-02 -1.34572312e-02 -1.81922615e-02\n",
      " -2.74327490e-03  5.70894331e-02 -1.24959555e-02  1.40244532e-02\n",
      " -3.02684549e-02 -3.32553647e-02 -6.50998484e-03  4.89529921e-03\n",
      " -2.79670209e-03 -4.29512933e-04 -3.40325907e-02  1.51196644e-02\n",
      " -4.84470464e-03 -1.25906412e-02 -2.59634238e-02 -1.98244564e-02\n",
      "  4.63081989e-03 -2.00663246e-02  9.28043202e-03 -4.17923965e-02\n",
      "  4.47282568e-03 -9.66400094e-03  1.92939490e-02  1.55542558e-02\n",
      " -6.89376099e-03 -2.16794945e-02  2.61401087e-02 -2.22004335e-02\n",
      " -1.60159566e-03  1.69389732e-02  1.71379279e-03 -2.13609561e-02]\n"
     ]
    }
   ],
   "source": [
    "print(wv[\"Hello\"])\n",
    "print(wv[\"jwadAJKJDwljlkdajl\"])"
   ]
  },
  {
   "cell_type": "markdown",
   "metadata": {},
   "source": [
    "For the project, we had to use the CommonsenseQA dataset, which is a multiple-choice question answering dataset that contains 12'247 different questions and was developed to benchmark machine understanding of everyday knowledge. For each questions there are 5 given answer choices, where only one of them is correct. To be able to answer these questions, \"commonsense\" is needed. The dataset is available on HuggingFace: https://huggingface.co/datasets/tau/commonsense_qa."
   ]
  },
  {
   "cell_type": "markdown",
   "metadata": {},
   "source": [
    "I split the dataset into training, validation and test sets to allow for model development and evaluation. I used the last 1'000 examples from the training set for validation and the original validation set for testing, since the real test set has no answer keys."
   ]
  },
  {
   "cell_type": "code",
   "execution_count": 8,
   "metadata": {},
   "outputs": [
    {
     "name": "stdout",
     "output_type": "stream",
     "text": [
      "8741 1000 1221\n"
     ]
    }
   ],
   "source": [
    "train = load_dataset(\"tau/commonsense_qa\", split=\"train[:-1000]\")\n",
    "valid = load_dataset(\"tau/commonsense_qa\", split=\"train[-1000:]\")\n",
    "test = load_dataset(\"tau/commonsense_qa\", split=\"validation\")\n",
    "\n",
    "print(len(train), len(valid), len(test))"
   ]
  },
  {
   "cell_type": "markdown",
   "metadata": {},
   "source": [
    "Login for the experiment tracking."
   ]
  },
  {
   "cell_type": "code",
   "execution_count": 9,
   "metadata": {},
   "outputs": [
    {
     "name": "stderr",
     "output_type": "stream",
     "text": [
      "\u001b[34m\u001b[1mwandb\u001b[0m: Using wandb-core as the SDK backend.  Please refer to https://wandb.me/wandb-core for more information.\n",
      "\u001b[34m\u001b[1mwandb\u001b[0m: Currently logged in as: \u001b[33mfabian-dubach\u001b[0m (\u001b[33mfabian-dubach-hochschule-luzern\u001b[0m) to \u001b[32mhttps://api.wandb.ai\u001b[0m. Use \u001b[1m`wandb login --relogin`\u001b[0m to force relogin\n"
     ]
    },
    {
     "data": {
      "text/plain": [
       "True"
      ]
     },
     "execution_count": 9,
     "metadata": {},
     "output_type": "execute_result"
    }
   ],
   "source": [
    "wandb.login()"
   ]
  },
  {
   "cell_type": "markdown",
   "metadata": {},
   "source": [
    "# **Data Exploration**"
   ]
  },
  {
   "cell_type": "markdown",
   "metadata": {},
   "source": [
    "In this section I tried to get some insight to understand its structure and patterns."
   ]
  },
  {
   "cell_type": "markdown",
   "metadata": {},
   "source": [
    "### 1. Explore dataset structure"
   ]
  },
  {
   "cell_type": "code",
   "execution_count": 10,
   "metadata": {},
   "outputs": [
    {
     "name": "stdout",
     "output_type": "stream",
     "text": [
      "\u001b[4mDataset Features\u001b[0m\n",
      "id\n",
      "question\n",
      "question_concept\n",
      "choices\n",
      "answerKey\n",
      "\n",
      "\u001b[4mExample\u001b[0m\n",
      "id: 075e483d21c29a511267ef62bedc0461\n",
      "question: The sanctions against the school were a punishing blow, and they seemed to what the efforts the school had made to change?\n",
      "question_concept: punishing\n",
      "choices: {'label': ['A', 'B', 'C', 'D', 'E'], 'text': ['ignore', 'enforce', 'authoritarian', 'yell at', 'avoid']}\n",
      "answerKey: A\n"
     ]
    }
   ],
   "source": [
    "print(\"\\033[4m\" + \"Dataset Features\" + \"\\033[0m\")\n",
    "for feature in train.features:\n",
    "    print(feature)\n",
    "print(\"\\n\" + \"\\033[4m\" + \"Example\" + \"\\033[0m\")\n",
    "for feature in train.features:\n",
    "    print(feature + \":\", train[0][str(feature)])"
   ]
  },
  {
   "cell_type": "markdown",
   "metadata": {},
   "source": [
    "### 2. Get a general info about each dataset"
   ]
  },
  {
   "cell_type": "code",
   "execution_count": 11,
   "metadata": {},
   "outputs": [],
   "source": [
    "def dataset_to_df(dataset):\n",
    "    return pd.DataFrame(dataset)\n",
    "\n",
    "train_df = dataset_to_df(train)\n",
    "valid_df = dataset_to_df(valid)\n",
    "test_df = dataset_to_df(test)"
   ]
  },
  {
   "cell_type": "code",
   "execution_count": 12,
   "metadata": {},
   "outputs": [
    {
     "name": "stdout",
     "output_type": "stream",
     "text": [
      "\u001b[4mTrain Info\u001b[0m\n",
      "<class 'pandas.core.frame.DataFrame'>\n",
      "RangeIndex: 8741 entries, 0 to 8740\n",
      "Data columns (total 5 columns):\n",
      " #   Column            Non-Null Count  Dtype \n",
      "---  ------            --------------  ----- \n",
      " 0   id                8741 non-null   object\n",
      " 1   question          8741 non-null   object\n",
      " 2   question_concept  8741 non-null   object\n",
      " 3   choices           8741 non-null   object\n",
      " 4   answerKey         8741 non-null   object\n",
      "dtypes: object(5)\n",
      "memory usage: 341.6+ KB\n",
      "None\n"
     ]
    }
   ],
   "source": [
    "print(\"\\033[4m\" + \"Train Info\" + \"\\033[0m\")\n",
    "print(train_df.info())"
   ]
  },
  {
   "cell_type": "code",
   "execution_count": 13,
   "metadata": {},
   "outputs": [
    {
     "name": "stdout",
     "output_type": "stream",
     "text": [
      "\u001b[4mValidation Info\u001b[0m\n",
      "<class 'pandas.core.frame.DataFrame'>\n",
      "RangeIndex: 1000 entries, 0 to 999\n",
      "Data columns (total 5 columns):\n",
      " #   Column            Non-Null Count  Dtype \n",
      "---  ------            --------------  ----- \n",
      " 0   id                1000 non-null   object\n",
      " 1   question          1000 non-null   object\n",
      " 2   question_concept  1000 non-null   object\n",
      " 3   choices           1000 non-null   object\n",
      " 4   answerKey         1000 non-null   object\n",
      "dtypes: object(5)\n",
      "memory usage: 39.2+ KB\n",
      "None\n"
     ]
    }
   ],
   "source": [
    "print(\"\\033[4m\" + \"Validation Info\" + \"\\033[0m\")\n",
    "print(valid_df.info())"
   ]
  },
  {
   "cell_type": "code",
   "execution_count": 14,
   "metadata": {},
   "outputs": [
    {
     "name": "stdout",
     "output_type": "stream",
     "text": [
      "\u001b[4mTest Info\u001b[0m\n",
      "<class 'pandas.core.frame.DataFrame'>\n",
      "RangeIndex: 1221 entries, 0 to 1220\n",
      "Data columns (total 5 columns):\n",
      " #   Column            Non-Null Count  Dtype \n",
      "---  ------            --------------  ----- \n",
      " 0   id                1221 non-null   object\n",
      " 1   question          1221 non-null   object\n",
      " 2   question_concept  1221 non-null   object\n",
      " 3   choices           1221 non-null   object\n",
      " 4   answerKey         1221 non-null   object\n",
      "dtypes: object(5)\n",
      "memory usage: 47.8+ KB\n",
      "None\n"
     ]
    }
   ],
   "source": [
    "print(\"\\033[4m\" + \"Test Info\" + \"\\033[0m\")\n",
    "print(test_df.info())"
   ]
  },
  {
   "cell_type": "markdown",
   "metadata": {},
   "source": [
    "### 3. Analyze question lengths"
   ]
  },
  {
   "cell_type": "code",
   "execution_count": 15,
   "metadata": {},
   "outputs": [
    {
     "name": "stdout",
     "output_type": "stream",
     "text": [
      "\u001b[4mQuestion length (characters)\u001b[0m\n",
      "Min: 15\n",
      "Max: 376\n",
      "Mean: 69.31\n",
      "Median: 64.0\n",
      "\n",
      "\u001b[4mQuestion Word Count\u001b[0m\n",
      "Min: 3\n",
      "Max: 63\n",
      "Mean: 13.23\n",
      "Median: 12.0\n"
     ]
    }
   ],
   "source": [
    "combined_df = pd.concat([train_df, valid_df, test_df], ignore_index=True)\n",
    "\n",
    "combined_df['question_length'] = combined_df['question'].apply(len)\n",
    "combined_df['question_word_count'] = combined_df['question'].apply(lambda x: len(x.split()))\n",
    "\n",
    "print(\"\\033[4m\" + \"Question length (characters)\" + \"\\033[0m\")\n",
    "print(f\"Min: {combined_df['question_length'].min()}\")\n",
    "print(f\"Max: {combined_df['question_length'].max()}\")\n",
    "print(f\"Mean: {combined_df['question_length'].mean():.2f}\")\n",
    "print(f\"Median: {combined_df['question_length'].median()}\")\n",
    "\n",
    "print(\"\\n\\033[4m\" + \"Question Word Count\" + \"\\033[0m\")\n",
    "print(f\"Min: {combined_df['question_word_count'].min()}\")\n",
    "print(f\"Max: {combined_df['question_word_count'].max()}\")\n",
    "print(f\"Mean: {combined_df['question_word_count'].mean():.2f}\")\n",
    "print(f\"Median: {combined_df['question_word_count'].median()}\")"
   ]
  },
  {
   "cell_type": "markdown",
   "metadata": {},
   "source": [
    "### 4. Analyze option lengths"
   ]
  },
  {
   "cell_type": "code",
   "execution_count": 16,
   "metadata": {},
   "outputs": [
    {
     "name": "stdout",
     "output_type": "stream",
     "text": [
      "\u001b[4mOption length (characters)\u001b[0m\n",
      "Min: 3\n",
      "Max: 149\n",
      "Mean: 9.34\n",
      "Median: 9.0\n",
      "\u001b[4m\n",
      "Option word count\u001b[0m\n",
      "Min: 1\n",
      "Max: 26\n",
      "Mean: 1.52\n",
      "Median: 1.0\n"
     ]
    }
   ],
   "source": [
    "def get_option_lengths(choices):\n",
    "    return [len(text) for text in choices['text']]\n",
    "\n",
    "def get_option_word_counts(choices):\n",
    "    return [len(text.split()) for text in choices['text']]\n",
    "\n",
    "combined_df['option_lengths'] = combined_df['choices'].apply(get_option_lengths)\n",
    "combined_df['option_word_counts'] = combined_df['choices'].apply(get_option_word_counts)\n",
    "\n",
    "# Flatten the lists for analysis\n",
    "all_option_lengths = [length for lengths in combined_df['option_lengths'] for length in lengths]\n",
    "all_option_word_counts = [count for counts in combined_df['option_word_counts'] for count in counts]\n",
    "\n",
    "print(\"\\033[4m\" + \"Option length (characters)\" + \"\\033[0m\")\n",
    "print(f\"Min: {min(all_option_lengths)}\")\n",
    "print(f\"Max: {max(all_option_lengths)}\")\n",
    "print(f\"Mean: {np.mean(all_option_lengths):.2f}\")\n",
    "print(f\"Median: {np.median(all_option_lengths)}\")\n",
    "\n",
    "print(\"\\033[4m\" + \"\\nOption word count\" + \"\\033[0m\")\n",
    "print(f\"Min: {min(all_option_word_counts)}\")\n",
    "print(f\"Max: {max(all_option_word_counts)}\")\n",
    "print(f\"Mean: {np.mean(all_option_word_counts):.2f}\")\n",
    "print(f\"Median: {np.median(all_option_word_counts)}\")"
   ]
  },
  {
   "cell_type": "markdown",
   "metadata": {},
   "source": [
    "### 5. Analyze answer distribution"
   ]
  },
  {
   "cell_type": "code",
   "execution_count": 17,
   "metadata": {},
   "outputs": [
    {
     "name": "stdout",
     "output_type": "stream",
     "text": [
      "\u001b[4mAnswer Distribution\u001b[0m\n",
      "answer_letter\n",
      "D    2236\n",
      "B    2228\n",
      "C    2187\n",
      "E    2163\n",
      "A    2148\n",
      "Name: count, dtype: int64 \n",
      "\n",
      "answer_letter\n",
      "D     20.4%\n",
      "B    20.32%\n",
      "C    19.95%\n",
      "E    19.73%\n",
      "A    19.59%\n",
      "Name: proportion, dtype: object\n"
     ]
    }
   ],
   "source": [
    "def extract_answer_letter(example):\n",
    "    return example['answerKey']\n",
    "\n",
    "combined_df['answer_letter'] = combined_df.apply(extract_answer_letter, axis=1)\n",
    "\n",
    "print(\"\\033[4m\" + \"Answer Distribution\" + \"\\033[0m\")\n",
    "print(combined_df['answer_letter'].value_counts(), \"\\n\")\n",
    "print(combined_df['answer_letter'].value_counts(normalize=True).mul(100).round(2).astype(str) + '%')"
   ]
  },
  {
   "cell_type": "markdown",
   "metadata": {},
   "source": [
    "### 6. Extract common question words/phrases"
   ]
  },
  {
   "cell_type": "code",
   "execution_count": 18,
   "metadata": {},
   "outputs": [
    {
     "name": "stdout",
     "output_type": "stream",
     "text": [
      "\u001b[4mCommon Words in Questions\u001b[0m\n",
      "would: 1101\n",
      "people: 694\n",
      "might: 669\n",
      "likely: 637\n",
      "someone: 556\n",
      "find: 509\n",
      "could: 502\n",
      "person: 498\n",
      "get: 372\n",
      "one: 367\n"
     ]
    }
   ],
   "source": [
    "def get_common_words(text_series, top_n=20):\n",
    "    stop_words = set(stopwords.words('english'))\n",
    "    all_words = []\n",
    "    \n",
    "    for text in text_series:\n",
    "        words = word_tokenize(text.lower())\n",
    "        filtered_words = [word for word in words if word.isalnum() and word not in stop_words]\n",
    "        all_words.extend(filtered_words)\n",
    "    \n",
    "    return Counter(all_words).most_common(top_n)\n",
    "\n",
    "print(\"\\033[4m\" + \"Common Words in Questions\" + \"\\033[0m\")\n",
    "common_words = get_common_words(train_df['question'], 10)\n",
    "for word, count in common_words:\n",
    "    print(f\"{word}: {count}\")"
   ]
  },
  {
   "cell_type": "markdown",
   "metadata": {},
   "source": [
    "### 7. Visualize question length distribution"
   ]
  },
  {
   "cell_type": "code",
   "execution_count": 19,
   "metadata": {},
   "outputs": [
    {
     "data": {
      "text/plain": [
       "Text(0, 0.5, 'Frequency')"
      ]
     },
     "execution_count": 19,
     "metadata": {},
     "output_type": "execute_result"
    },
    {
     "data": {
      "image/png": "[encoded data removed]",
      "text/plain": [
       "<Figure size 800x400 with 1 Axes>"
      ]
     },
     "metadata": {},
     "output_type": "display_data"
    }
   ],
   "source": [
    "plt.figure(figsize=(8, 4))\n",
    "sns.histplot(combined_df['question_word_count'], bins=20, kde=True)\n",
    "plt.title('Distribution of Question Word Count')\n",
    "plt.xlabel('Number of Words')\n",
    "plt.ylabel('Frequency')"
   ]
  },
  {
   "cell_type": "markdown",
   "metadata": {},
   "source": [
    "### 8. Visualize answer distribution"
   ]
  },
  {
   "cell_type": "code",
   "execution_count": 20,
   "metadata": {},
   "outputs": [
    {
     "data": {
      "text/plain": [
       "Text(0, 0.5, 'Count')"
      ]
     },
     "execution_count": 20,
     "metadata": {},
     "output_type": "execute_result"
    },
    {
     "data": {
      "image/png": "[encoded data removed]",
      "text/plain": [
       "<Figure size 800x400 with 1 Axes>"
      ]
     },
     "metadata": {},
     "output_type": "display_data"
    }
   ],
   "source": [
    "plt.figure(figsize=(8, 4))\n",
    "sns.countplot(x='answer_letter', data=combined_df, order=combined_df['answer_letter'].value_counts().index)\n",
    "plt.title('Distribution of Answers')\n",
    "plt.xlabel('Answer Option')\n",
    "plt.ylabel('Count')"
   ]
  },
  {
   "cell_type": "markdown",
   "metadata": {},
   "source": [
    "# **Preprocessing**"
   ]
  },
  {
   "cell_type": "markdown",
   "metadata": {},
   "source": [
    "For the preprocessing I looked at the following points:\n",
    "\n",
    "1. Tokenization\n",
    "2. Lowercasing, stemming, lemmatizing, stopword/punctuation removal \n",
    "3. Removal of unknown/other words \n",
    "4. Format cleaning (e.g. html-extracted text) \n",
    "5. Truncation \n",
    "6. Feature selection "
   ]
  },
  {
   "cell_type": "markdown",
   "metadata": {},
   "source": [
    "Here are my decisions and justifications for using or not using the above listed preprocessing methods:\n",
    "\n",
    "1. Tokenization is absolutely mandatory.\n",
    "2. I chose not to use lowercasing to keep the semantic meaning of the words. Stemming and lemmatizing are not needed, because FastText already captures semantic similarities. Stopword/Punctuation removal is generally not a needed for a RNN due to the fact that the model can then learn to ignore irrelevant words by itself.\n",
    "3. Removal of unknown/other words is also not needed, because FastText can handle them.\n",
    "4. Format cleaning is not needed, because the CommonsenseQA dataset doesn't include any markup text.\n",
    "5. Due to the fact that the longest question is 376 characters long, truncation is not needed.\n",
    "6. Feature selection is also not needed. RNNs typically work with the full sequence rather than selected features."
   ]
  },
  {
   "cell_type": "code",
   "execution_count": 21,
   "metadata": {},
   "outputs": [],
   "source": [
    "def preprocessing(text):\n",
    "    tokens = nltk.tokenize.word_tokenize(text)\n",
    "    return tokens"
   ]
  },
  {
   "cell_type": "markdown",
   "metadata": {},
   "source": [
    "The `get_embedding()` function transforms any text sentence into a fixed-length vector representation by averaging the word embeddings of each token in the sentence. If no tokens were found, a zero vector is being returned."
   ]
  },
  {
   "cell_type": "code",
   "execution_count": null,
   "metadata": {},
   "outputs": [],
   "source": [
    "def get_embedding(sentence):\n",
    "    tokens = preprocessing(sentence)\n",
    "    word_vectors = []\n",
    "    for token in tokens:\n",
    "        try:\n",
    "            word_vectors.append(fasttext_model.wv[token])\n",
    "        except KeyError:\n",
    "            continue\n",
    "    \n",
    "    # Return the mean of the word vectors\n",
    "    if word_vectors:\n",
    "        return np.mean(word_vectors, axis=0)\n",
    "    else:\n",
    "        return np.zeros(fasttext_model.vector_size)  # Return a zero vector if no tokens were found"
   ]
  },
  {
   "cell_type": "markdown",
   "metadata": {},
   "source": [
    "For the model to interpret the answers correctly, I converted the answer keys into numerical indices (0, 1, 2, 3, 4)."
   ]
  },
  {
   "cell_type": "code",
   "execution_count": 23,
   "metadata": {},
   "outputs": [],
   "source": [
    "def answer_key_to_index(answer_key):\n",
    "  return ord(answer_key) - ord(\"A\")"
   ]
  },
  {
   "cell_type": "markdown",
   "metadata": {},
   "source": [
    "The `compute_embeddings()` function creates embeddings for every text data (questions and choices)."
   ]
  },
  {
   "cell_type": "code",
   "execution_count": 24,
   "metadata": {},
   "outputs": [
    {
     "name": "stderr",
     "output_type": "stream",
     "text": [
      "Map: 100%|██████████| 8741/8741 [00:04<00:00, 1875.84 examples/s]\n",
      "Map: 100%|██████████| 1000/1000 [00:00<00:00, 1032.72 examples/s]\n"
     ]
    }
   ],
   "source": [
    "def compute_embeddings(example):\n",
    "    question_embeddings = get_embedding(example[\"question\"])\n",
    "    choice_embeddings = [get_embedding(choice) for choice in example[\"choices\"][\"text\"]]\n",
    "    \n",
    "    example[\"question_emb\"] = question_embeddings.tolist()\n",
    "    example[\"choice_embs\"] = [embedding.tolist() for embedding in choice_embeddings]\n",
    "    return example\n",
    "\n",
    "train = train.map(compute_embeddings)\n",
    "valid = valid.map(compute_embeddings)"
   ]
  },
  {
   "cell_type": "markdown",
   "metadata": {},
   "source": [
    "### **Word Embedding**"
   ]
  },
  {
   "cell_type": "markdown",
   "metadata": {},
   "source": [
    "Implement a class which can convert a regular dataset into a PyTorch-compatible dataset."
   ]
  },
  {
   "cell_type": "code",
   "execution_count": 25,
   "metadata": {},
   "outputs": [],
   "source": [
    "class CommonsenseQADataset(Dataset):\n",
    "    def __init__(self, dataset):\n",
    "        self.data = dataset\n",
    "\n",
    "    def __len__(self):\n",
    "        return len(self.data)\n",
    "\n",
    "    def __getitem__(self, idx):\n",
    "        example = self.data[idx]\n",
    "        question_tensor = torch.tensor(example[\"question_emb\"]).float()\n",
    "        choices_tensor = torch.tensor(example[\"choice_embs\"]).float()\n",
    "        answer_index = answer_key_to_index(example[\"answerKey\"])\n",
    "        return question_tensor, choices_tensor, torch.tensor(answer_index).long()"
   ]
  },
  {
   "cell_type": "markdown",
   "metadata": {},
   "source": [
    "### **RNN**"
   ]
  },
  {
   "cell_type": "markdown",
   "metadata": {},
   "source": [
    "Implement class that creates a PyTorch-compatible dataset for processing question-answering pairs through an RNN model. It tokenizes text, combines each question with each possible answer (separated by a special token), converts tokens to embedding vectors and returns these sequences along with their lengths and the correct answer index."
   ]
  },
  {
   "cell_type": "code",
   "execution_count": 26,
   "metadata": {},
   "outputs": [],
   "source": [
    "class CommonsenseRNNDataset(Dataset):\n",
    "    def __init__(self, hf_dataset, word_vectors, embedding_dim=300):\n",
    "        self.data = hf_dataset\n",
    "        self.wv = word_vectors\n",
    "        self.embedding_dim = embedding_dim\n",
    "    \n",
    "    def __len__(self):\n",
    "        return len(self.data)\n",
    "    \n",
    "    def __getitem__(self, idx):\n",
    "        example = self.data[idx]\n",
    "        \n",
    "        # Get question and choices\n",
    "        question = example[\"question\"]\n",
    "        choices = example[\"choices\"][\"text\"]\n",
    "        \n",
    "        # Process question\n",
    "        question_emb = get_embedding(question)\n",
    "        \n",
    "        # Process choices\n",
    "        choice_embs = [get_embedding(choice) for choice in choices]\n",
    "        choice_tensor = torch.tensor(np.array(choice_embs), dtype=torch.float32)\n",
    "        \n",
    "        # Get answer index\n",
    "        answer_idx = answer_key_to_index(example[\"answerKey\"])\n",
    "        \n",
    "        return torch.tensor(question_emb, dtype=torch.float32), choice_tensor, torch.tensor(answer_idx)"
   ]
  },
  {
   "cell_type": "markdown",
   "metadata": {},
   "source": [
    "This function prepares batches of sequence data for efficient RNN processing.\n",
    "\n",
    "1. Collect and flatten all sequences, lengths and answers from the batch\n",
    "2. Sort sequences by length in descending order (optimizing RNN computation)\n",
    "3. Pad shorter sequences to match the longest one\n",
    "4. Create a mapping index to help reconstruct the original batch organization\n",
    "5. Return the padded sequences, their sorted lengths, reconstruction indices and answer labels\n",
    "\n",
    "The sorting step is important for using packed sequences in RNNs, which improves efficiency by processing only valid parts of each sequence, while the indices allow the model to match processed sequences back to their original question-answer pairs."
   ]
  },
  {
   "cell_type": "code",
   "execution_count": null,
   "metadata": {},
   "outputs": [],
   "source": [
    "def rnn_collate_fn(batch):\n",
    "    questions, choices, labels = zip(*batch)\n",
    "    \n",
    "    question_tensors = [torch.tensor(q, dtype=torch.float32) for q in questions]\n",
    "    choice_tensors = [[torch.tensor(c, dtype=torch.float32) for c in cs] for cs in choices]\n",
    "    label_tensors = torch.tensor(labels, dtype=torch.long)\n",
    "    \n",
    "    padded_questions = pad_sequence(question_tensors, batch_first=True)\n",
    "    question_lengths = torch.tensor([len(q) for q in question_tensors])\n",
    "    \n",
    "    all_choices = []\n",
    "    choice_lengths = []\n",
    "    for choice_set in choice_tensors:\n",
    "        all_choices.extend(choice_set)\n",
    "        choice_lengths.extend([len(c) for c in choice_set])\n",
    "    \n",
    "    padded_choices = pad_sequence(all_choices, batch_first=True)\n",
    "    choice_lengths = torch.tensor(choice_lengths)\n",
    "\n",
    "    batch_size = len(batch)\n",
    "    num_choices = len(choice_tensors[0])\n",
    "    indices = torch.zeros(batch_size, num_choices, dtype=torch.long)\n",
    "    \n",
    "    current_idx = 0\n",
    "    for i in range(batch_size):\n",
    "        for j in range(num_choices):\n",
    "            indices[i, j] = current_idx\n",
    "            current_idx += 1\n",
    "    \n",
    "    return padded_questions, question_lengths, padded_choices, choice_lengths, indices, label_tensors"
   ]
  },
  {
   "cell_type": "markdown",
   "metadata": {},
   "source": [
    "# **Model**"
   ]
  },
  {
   "cell_type": "markdown",
   "metadata": {},
   "source": [
    "### Word embeddings"
   ]
  },
  {
   "cell_type": "markdown",
   "metadata": {},
   "source": [
    "This `WordEmbeddingQAClassifier()` is a neural network model for multiple-choice question answering using pre-computed word embeddings.\n",
    "\n",
    "1. Take already-embedded question and choice vectors as input\n",
    "2. Expand the question embedding to pair with each answer choice\n",
    "3. Concatenate each question-choice pair along the feature dimension\n",
    "4. Processe these concatenated vectors through a simple feed-forward network:\n",
    "    - A hidden layer with ReLU activation and dropout for regularization\n",
    "    - An output layer that produces a single score for each question-choice pair\n",
    "\n",
    "\n",
    "\n",
    "The model essentially measures compatibility between questions and potential answers, with higher scores indicating better matches. During training, these scores are compared against the correct answer to tune the model's parameters."
   ]
  },
  {
   "cell_type": "code",
   "execution_count": null,
   "metadata": {},
   "outputs": [],
   "source": [
    "class WordEmbeddingQAClassifier(nn.Module):\n",
    "    def __init__(self, embedding_dim, hidden_dim, dropout_rate):\n",
    "        super(WordEmbeddingQAClassifier, self).__init__()\n",
    "\n",
    "        self.embedding_dim = embedding_dim\n",
    "        self.hidden_dim = hidden_dim\n",
    "\n",
    "        self.fc1 = nn.Linear(2 * embedding_dim, hidden_dim)\n",
    "        self.relu = nn.ReLU()\n",
    "        self.dropout = nn.Dropout(dropout_rate)\n",
    "        self.fc2 = nn.Linear(hidden_dim, 1)\n",
    "\n",
    "    def forward(self, question, choices):\n",
    "        question_expanded = question.unsqueeze(1).expand(-1, choices.size(1), -1)\n",
    "        \n",
    "        combined = torch.cat((question_expanded, choices), dim=2)\n",
    "\n",
    "        x = self.fc1(combined)\n",
    "        x = self.relu(x)\n",
    "        x = self.dropout(x)\n",
    "        x = self.fc2(x)\n",
    "        \n",
    "        return x.squeeze(-1)"
   ]
  },
  {
   "cell_type": "markdown",
   "metadata": {},
   "source": [
    "### RNN"
   ]
  },
  {
   "cell_type": "markdown",
   "metadata": {},
   "source": [
    "This `QARNNModel()` class implements a neural network for question answering using an LSTM (Long Short-Term Memory) network. The reason why I chose the LSTM network is, that I think the LSTM's memory cell structure might better preserve information across the combined question-answer sequences, especially when there are key contextual elements that need to be remembered from earlier parts of the sequence to evaluate answer choices properly.\n",
    "\n",
    "1. Process sequences of word embeddings through a bidirectional LSTM with 2 layers\n",
    "2. The LSTM handles variable-length sequences efficiently by using packed sequences\n",
    "3. After processing through the LSTM, it extracts the final hidden states from both directions (forward and backward) and concatenates them\n",
    "4. These concatenated hidden states are passed through a classification head (a simple feed-forward network)\n",
    "5. The classification head outputs a score for each sequence\n",
    "6. The scores are then rearranged to match each question with its multiple answer choices using the indices parameter\n",
    "\n",
    "The bidirectional nature of the LSTM allows the model to incorporate context from both before and after each word in the sequence. The model combines the question and each potential answer into a single sequence, processes them through the LSTM, and outputs scores indicating which answer is most likely correct."
   ]
  },
  {
   "cell_type": "code",
   "execution_count": null,
   "metadata": {},
   "outputs": [],
   "source": [
    "class QARNNModel(nn.Module):\n",
    "    def __init__(self, embedding_dim=300, hidden_dim=64, num_choices=5, dropout_rate=0.2):\n",
    "        super(QARNNModel, self).__init__()\n",
    "        \n",
    "        self.question_encoder = nn.Sequential(\n",
    "            nn.Linear(embedding_dim, hidden_dim),\n",
    "            nn.ReLU(),\n",
    "            nn.Dropout(dropout_rate)\n",
    "        )\n",
    "        \n",
    "        self.choice_encoder = nn.Sequential(\n",
    "            nn.Linear(embedding_dim, hidden_dim),\n",
    "            nn.ReLU(),\n",
    "            nn.Dropout(dropout_rate)\n",
    "        )\n",
    "        \n",
    "        self.scoring = nn.Sequential(\n",
    "            nn.Linear(hidden_dim * 2, hidden_dim),\n",
    "            nn.ReLU(),\n",
    "            nn.Dropout(dropout_rate),\n",
    "            nn.Linear(hidden_dim, 1)\n",
    "        )\n",
    "        \n",
    "    def forward(self, questions, _, choices, __, indices):\n",
    "        batch_size = questions.size(0)\n",
    "\n",
    "        question_encoded = self.question_encoder(questions)\n",
    "        choice_encoded = self.choice_encoder(choices)\n",
    "        \n",
    "        scores = []\n",
    "        for i in range(batch_size):\n",
    "            q_encoded = question_encoded[i]\n",
    "            choice_idxs = indices[i]\n",
    "            q_choices = []\n",
    "\n",
    "            for idx in choice_idxs:\n",
    "                q_choices.append(choice_encoded[idx])\n",
    "            \n",
    "            q_choices = torch.stack(q_choices)\n",
    "            q_expanded = q_encoded.unsqueeze(0).expand(len(choice_idxs), -1)\n",
    "            combined = torch.cat([q_expanded, q_choices], dim=1)\n",
    "            \n",
    "            score = self.scoring(combined).squeeze(-1)\n",
    "            scores.append(score)\n",
    "        \n",
    "        return torch.stack(scores)"
   ]
  },
  {
   "cell_type": "markdown",
   "metadata": {},
   "source": [
    "# **Training**"
   ]
  },
  {
   "cell_type": "markdown",
   "metadata": {},
   "source": [
    " Check if a CUDA-compatible GPU is available and set the device for tensor computations accordingly, otherwise use CPU."
   ]
  },
  {
   "cell_type": "code",
   "execution_count": 30,
   "metadata": {},
   "outputs": [
    {
     "name": "stdout",
     "output_type": "stream",
     "text": [
      "cuda\n"
     ]
    }
   ],
   "source": [
    "device = torch.device(\"cuda\" if torch.cuda.is_available() else \"cpu\")\n",
    "print(device)"
   ]
  },
  {
   "cell_type": "markdown",
   "metadata": {},
   "source": [
    "This `save_checkpoint()` function saves model checkpoints during training by storing the model's state, optimizer state, current epoch and best validation accuracy to a file path. When saving the best-performing model, it also logs this information to Weights & Biases (wandb) for tracking, with error handling in case the logging fails."
   ]
  },
  {
   "cell_type": "code",
   "execution_count": null,
   "metadata": {},
   "outputs": [],
   "source": [
    "def save_checkpoint(model, optimizer, epoch, save_path, best_val_accuracy):\n",
    "    \n",
    "    os.makedirs(os.path.dirname(save_path), exist_ok=True)\n",
    "\n",
    "    checkpoint = {\n",
    "        'epoch': epoch,\n",
    "        'model_state_dict': model.state_dict(),\n",
    "        'optimizer_state_dict': optimizer.state_dict(),\n",
    "        'best_val_accuracy': best_val_accuracy\n",
    "    }\n",
    "    torch.save(checkpoint, save_path)\n",
    "    try:\n",
    "        if 'best_model' in save_path:\n",
    "            wandb.log({\n",
    "                \"best_model_checkpoint\": {\n",
    "                    \"path\": save_path,\n",
    "                    \"epoch\": epoch,\n",
    "                    \"val_accuracy\": best_val_accuracy\n",
    "                }\n",
    "            })\n",
    "    except Exception as e:\n",
    "        print(f\"Error logging checkpoint to wandb: {e}\")"
   ]
  },
  {
   "cell_type": "markdown",
   "metadata": {},
   "source": [
    "### **Word Embedding Training**"
   ]
  },
  {
   "cell_type": "markdown",
   "metadata": {},
   "source": [
    "Set hyperparameters for the word embedding model.\n",
    "\n",
    "Embedding Dimension: **300**<br>\n",
    "Hidden Dimension: **64 - 256**<br>\n",
    "Dropout Rate: **0.2 - 0.4**<br>\n",
    "Learning Rate: **1e-4 - 1e-3**<br>\n",
    "Weight Decay: **1e-6 - 1e-3**<br>\n",
    "Batch Size: **32 - 2048**<br>\n",
    "Epochs: **50 - 100**<br>\n",
    "Gradient Clipping: **0.5 - 2**\n",
    "\n",
    "The embedding dimension was fixed at 300 to match the pre-trained FastText model. I started with smaller hidden dimensions (64) and gradually increased to 256 to see if larger representation capacity improved performance. Dropout rates were kept moderate (0.2-0.4) to prevent overfitting while preserving enough information flow. Learning rates were maintained in the standard range for NLP tasks (1e-4 to 1e-3), with smaller values for more stability. Weight decay values varied from 1e-6 to 1e-3 to test different regularization strengths. I experimented with a wide range of batch sizes (32 to 2048) to find the optimal trade-off between training speed and generalization. For the epochs I first chose 100, but then saw, that the model started to overfit already before, so I cut them down to 50. I also tried out different gradient clipping values, but I never went under 0."
   ]
  },
  {
   "cell_type": "code",
   "execution_count": 92,
   "metadata": {},
   "outputs": [],
   "source": [
    "embedding_dim_word_embedding = 300 # FastText -> 300d\n",
    "hidden_dim_word_embedding = 128\n",
    "dropout_rate_word_embedding = 0.2\n",
    "learning_rate_word_embedding = 1e-4\n",
    "weight_decay_word_embedding = 1e-3\n",
    "batch_size_word_embedding = 64\n",
    "num_epochs_word_embedding = 50\n",
    "gradient_clip_val_word_embedding = 0.5"
   ]
  },
  {
   "cell_type": "markdown",
   "metadata": {},
   "source": [
    "Create a PyTorch-compatible dataset for the train and the validation dataset."
   ]
  },
  {
   "cell_type": "code",
   "execution_count": 103,
   "metadata": {},
   "outputs": [],
   "source": [
    "train_dataset_word_embedding = CommonsenseQADataset(train)\n",
    "valid_dataset_word_embedding = CommonsenseQADataset(valid)"
   ]
  },
  {
   "cell_type": "markdown",
   "metadata": {},
   "source": [
    "Create two PyTorch DataLoader objects to efficiently batch and load data during training."
   ]
  },
  {
   "cell_type": "code",
   "execution_count": 104,
   "metadata": {},
   "outputs": [],
   "source": [
    "train_loader = DataLoader(\n",
    "    train_dataset_word_embedding, \n",
    "    batch_size=batch_size_word_embedding, \n",
    "    shuffle=True, \n",
    "    num_workers=0,\n",
    "    pin_memory=True\n",
    ")\n",
    "\n",
    "valid_loader = DataLoader(\n",
    "    valid_dataset_word_embedding, \n",
    "    batch_size=batch_size_word_embedding, \n",
    "    shuffle=False,  # No need to shuffle validation data\n",
    "    num_workers=0,\n",
    "    pin_memory=True\n",
    ")"
   ]
  },
  {
   "cell_type": "markdown",
   "metadata": {},
   "source": [
    "Initialize the word embedding model and move it to the appropriate computing device."
   ]
  },
  {
   "cell_type": "code",
   "execution_count": 105,
   "metadata": {},
   "outputs": [
    {
     "name": "stdout",
     "output_type": "stream",
     "text": [
      "WordEmbeddingQAClassifier(\n",
      "  (fc1): Linear(in_features=600, out_features=128, bias=True)\n",
      "  (relu): ReLU()\n",
      "  (dropout): Dropout(p=0.2, inplace=False)\n",
      "  (fc2): Linear(in_features=128, out_features=1, bias=True)\n",
      ")\n"
     ]
    }
   ],
   "source": [
    "word_embedding_model = WordEmbeddingQAClassifier(embedding_dim=embedding_dim_word_embedding, hidden_dim=hidden_dim_word_embedding, dropout_rate=dropout_rate_word_embedding)\n",
    "word_embedding_model = word_embedding_model.to(device)\n",
    "\n",
    "print(word_embedding_model)"
   ]
  },
  {
   "cell_type": "markdown",
   "metadata": {},
   "source": [
    "Set up the loss function and optimizer for training the word embedding model.\n",
    "\n",
    "I'm using CrossEntropyLoss as my loss function because it's well-suited for multi-class classification problems. As a optimizer I chose AdamW, because it combines the benefits of Adam with proper weight decay regularization. This helps prevent overfitting while maintaining good convergence properties"
   ]
  },
  {
   "cell_type": "code",
   "execution_count": 108,
   "metadata": {},
   "outputs": [],
   "source": [
    "criterion_word_embedding = nn.CrossEntropyLoss()\n",
    "optimizer_word_embedding = torch.optim.AdamW(word_embedding_model.parameters(), lr=learning_rate_word_embedding, weight_decay=weight_decay_word_embedding)"
   ]
  },
  {
   "cell_type": "markdown",
   "metadata": {},
   "source": [
    "Initializes wandb tracking run for experiment monitoring of the word embedding model training."
   ]
  },
  {
   "cell_type": "code",
   "execution_count": null,
   "metadata": {},
   "outputs": [],
   "source": [
    "word_embedding_run = wandb.init(\n",
    "  project=\"CommonsenseQA\",\n",
    "  name=f\"word_embedding-{datetime.now().strftime('%Y-%m-%dT%H:%M:%S')}\",\n",
    "  config={\n",
    "    \"model\": \"word_embedding\",\n",
    "    \"embedding_dim\": embedding_dim_word_embedding,\n",
    "    \"hidden_dim\": hidden_dim_word_embedding,\n",
    "    \"batch_size\": batch_size_word_embedding,\n",
    "    \"epoch\": num_epochs_word_embedding,\n",
    "    \"dropout_rate\": dropout_rate_word_embedding,\n",
    "    \"weight_decay\": weight_decay_word_embedding,\n",
    "  },\n",
    "  reinit=True,\n",
    ")"
   ]
  },
  {
   "cell_type": "markdown",
   "metadata": {},
   "source": [
    "The `train_word_embedding()` function trains a model that uses pre-computed word embeddings for question answering. It handles the complete training cycle including batch processing, optimization, evaluation and model saving. The function implements early stopping to prevent overfitting by monitoring validation accuracy and halting training when no improvement occurs for a specified number of epochs. It uses gradient clipping to stabilize training and logs metrics to Weights & Biases for experiment tracking. Throughout training, it saves checkpoints at regular intervals and maintains the best performing model based on validation accuracy."
   ]
  },
  {
   "cell_type": "code",
   "execution_count": null,
   "metadata": {},
   "outputs": [],
   "source": [
    "def train_word_embedding(\n",
    "    model, \n",
    "    train_loader, \n",
    "    valid_loader, \n",
    "    criterion, \n",
    "    optimizer, \n",
    "    num_epochs, \n",
    "    device, \n",
    "    checkpoint_dir='checkpoints', \n",
    "    gradient_clip_val=1,\n",
    "    save_interval=1,\n",
    "    patience=5\n",
    "):\n",
    "    os.makedirs(checkpoint_dir, exist_ok=True)\n",
    "    \n",
    "    # Initialize best validation accuracy\n",
    "    best_word_embedding_accuracy = 0\n",
    "    start_epoch = 0\n",
    "    \n",
    "    # Early stopping variables\n",
    "    no_improve_count = 0\n",
    "    early_stop = False\n",
    "    \n",
    "    for epoch in (pbar := trange(start_epoch, num_epochs)):\n",
    "        if early_stop:\n",
    "            print(f\"\\nEarly stopping triggered after {epoch} epochs!\")\n",
    "            break\n",
    "            \n",
    "        pbar.set_description(f\"Epoch {epoch+1}/{num_epochs}\")\n",
    "\n",
    "        model.train()\n",
    "        train_total_loss = 0.0\n",
    "        train_correct = 0\n",
    "        train_total = 0\n",
    "\n",
    "        for question_batch, choices_batch, y_batch in train_loader:\n",
    "            optimizer.zero_grad()\n",
    "\n",
    "            question_batch = question_batch.to(device)\n",
    "            choices_batch = choices_batch.to(device)\n",
    "            y_batch = y_batch.to(device)\n",
    "\n",
    "            # Forward pass\n",
    "            outputs = model(question_batch, choices_batch)\n",
    "\n",
    "            # Compute loss\n",
    "            train_batch_loss = criterion(outputs, y_batch)\n",
    "            train_total_loss += train_batch_loss.item()\n",
    "\n",
    "            # Compute accuracy\n",
    "            train_predictions = torch.argmax(outputs, dim=1)\n",
    "            train_correct += (train_predictions == y_batch).sum().item()\n",
    "            train_total += y_batch.size(0)\n",
    "\n",
    "            # Backward pass\n",
    "            train_batch_loss.backward()\n",
    "\n",
    "            # Apply gradient clipping before optimizer step\n",
    "            if gradient_clip_val > 0:\n",
    "                nn.utils.clip_grad_norm_(model.parameters(), gradient_clip_val)\n",
    "\n",
    "            optimizer.step()\n",
    "\n",
    "        # Calculate train statistics\n",
    "        avg_train_loss = train_total_loss / len(train_loader)\n",
    "        train_accuracy = train_correct / train_total\n",
    "\n",
    "        # Evaluate\n",
    "        model.eval()\n",
    "        val_correct = 0\n",
    "        val_total = 0\n",
    "        val_total_loss = 0\n",
    "\n",
    "        with torch.no_grad():\n",
    "            for question_batch, choices_batch, y_batch in valid_loader:\n",
    "                question_batch = question_batch.to(device)\n",
    "                choices_batch = choices_batch.to(device)\n",
    "                y_batch = y_batch.to(device)\n",
    "\n",
    "                val_outputs = model(question_batch, choices_batch)\n",
    "\n",
    "                # Calculate validation loss\n",
    "                val_batch_loss = criterion(val_outputs, y_batch)\n",
    "                val_total_loss += val_batch_loss.item()\n",
    "\n",
    "                val_predictions = torch.argmax(val_outputs, dim=1)\n",
    "                val_correct += (val_predictions == y_batch).sum().item()\n",
    "                val_total += y_batch.size(0)\n",
    "\n",
    "        # Calculate validation statistics\n",
    "        avg_val_loss = val_total_loss / len(valid_loader)\n",
    "        val_accuracy = val_correct / val_total\n",
    "        \n",
    "        pbar.set_postfix({\n",
    "            \"train_loss\": avg_train_loss, \n",
    "            \"train_acc\": train_accuracy, \n",
    "            \"val_acc\": val_accuracy\n",
    "        })\n",
    "\n",
    "        # Log metrics to wandb\n",
    "        wandb.log({\n",
    "            \"epoch\": epoch,\n",
    "            \"train_loss\": avg_train_loss,\n",
    "            \"train_accuracy\": train_accuracy,\n",
    "            \"val_loss\": avg_val_loss,\n",
    "            \"val_accuracy\": val_accuracy,\n",
    "            \"learning_rate\": optimizer.param_groups[0]['lr'],\n",
    "        })\n",
    "\n",
    "        # Save checkpoint periodically\n",
    "        if (epoch + 1) % save_interval == 0:\n",
    "            checkpoint_path = os.path.join(checkpoint_dir, f'checkpoint_epoch_{epoch+1}.pt')\n",
    "            save_checkpoint(model, optimizer, epoch+1, checkpoint_path, best_word_embedding_accuracy)\n",
    "\n",
    "        # Save best model based on validation accuracy\n",
    "        if val_accuracy > best_word_embedding_accuracy:\n",
    "            no_improve_count = 0  # Reset early stopping counter\n",
    "            best_word_embedding_accuracy = val_accuracy\n",
    "            best_model_path = os.path.join(checkpoint_dir, 'best_model.pt')\n",
    "            save_checkpoint(model, optimizer, epoch+1, best_model_path, best_word_embedding_accuracy)\n",
    "            print(f\"New best validation accuracy: {best_word_embedding_accuracy:.4f}\")\n",
    "        else:\n",
    "            no_improve_count += 1\n",
    "            print(f\"No improvement for {no_improve_count} epochs (patience: {patience})\")\n",
    "            \n",
    "        # Check early stopping condition\n",
    "        if no_improve_count >= patience:\n",
    "            print(f\"Early stopping triggered! No improvement for {patience} epochs.\")\n",
    "            early_stop = True\n",
    "\n",
    "    # Final save\n",
    "    final_model_path = os.path.join(checkpoint_dir, 'final_model.pt')\n",
    "    save_checkpoint(model, optimizer, num_epochs, final_model_path, best_word_embedding_accuracy)\n",
    "    \n",
    "    wandb.finish()\n",
    "    \n",
    "    return model, best_word_embedding_accuracy"
   ]
  },
  {
   "cell_type": "markdown",
   "metadata": {},
   "source": [
    "Define checkpoint directory for the word embedding model."
   ]
  },
  {
   "cell_type": "code",
   "execution_count": null,
   "metadata": {},
   "outputs": [],
   "source": [
    "checkpoint_dir_embedding_model = f\"./checkpoints/embedding-{datetime.now().strftime('%Y-%m-%d-%H-%M-%S')}\"\n",
    "os.makedirs(checkpoint_dir_embedding_model, exist_ok=True)"
   ]
  },
  {
   "cell_type": "markdown",
   "metadata": {},
   "source": [
    "Run the training for the word embedding model."
   ]
  },
  {
   "cell_type": "code",
   "execution_count": null,
   "metadata": {},
   "outputs": [],
   "source": [
    "model, best_word_embedding_accuracy = train_word_embedding(\n",
    "    model=word_embedding_model,\n",
    "    train_loader=train_loader,\n",
    "    valid_loader=valid_loader,\n",
    "    criterion=criterion_word_embedding,\n",
    "    optimizer=optimizer_word_embedding,\n",
    "    num_epochs=num_epochs_word_embedding,\n",
    "    device=device,\n",
    "    checkpoint_dir=checkpoint_dir_embedding_model,\n",
    "    gradient_clip_val=gradient_clip_val_word_embedding,\n",
    "    save_interval=1,\n",
    "    patience=5\n",
    ")\n",
    "\n",
    "print(f\"Word embedding training complete! Best validation accuracy: {best_word_embedding_accuracy:.4f}\")"
   ]
  },
  {
   "cell_type": "markdown",
   "metadata": {},
   "source": [
    "### **RNN Training**"
   ]
  },
  {
   "cell_type": "markdown",
   "metadata": {},
   "source": [
    "Set hyperparameters for the word embedding model.\n",
    "\n",
    "Embedding Dimension: **300**<br>\n",
    "Hidden Dimension: **128 - 256**<br>\n",
    "Dropout Rate: **0.2 - 0.3**<br>\n",
    "Learning Rate: **1e-5**<br>\n",
    "Weight Decay: **1e-6 - 1e-4**<br>\n",
    "Batch Size: **32 - 128**<br>\n",
    "Epochs: **50**<br>\n",
    "Gradient Clipping: **0.5 - 1**\n",
    "\n",
    "For RNN models, I used larger hidden dimensions (128-256) compared to some word embedding runs because RNNs need to retain sequential information. Learning rates were kept smaller (1e-5) than for word embedding models because RNNs are more sensitive to learning rate and can become unstable with larger values. I maintained moderate dropout (0.2-0.3) to regularize without disrupting sequence learning. For the learning rate I always chose 1e-5, because my model didn't respond well to much bigger or smaller values. I explored different weight decay values (1e-6 to 1e-4) to find the right balance of regularization without impeding the learning of temporal patterns. Batch sizes were kept relatively small (32-128) due to the increased memory requirements of processing sequences. For the epochs I chose 50, due to the reason that more would be overkill and my early stopping either way always stopped it before reaching the value. Gradient clipping was essential for RNNs and kept between 0.5-1 to prevent the common problem of exploding gradients."
   ]
  },
  {
   "cell_type": "code",
   "execution_count": 120,
   "metadata": {},
   "outputs": [],
   "source": [
    "embedding_dim_rnn = 300 # FastText -> 300d\n",
    "hidden_dim_rnn = 128\n",
    "dropout_rate_rnn = 0.3\n",
    "learning_rate_rnn = 1e-5\n",
    "weight_decay_rnn = 1e-5\n",
    "batch_size_rnn = 64\n",
    "num_epochs_rnn = 50\n",
    "gradient_clip_val_rnn = 1"
   ]
  },
  {
   "cell_type": "markdown",
   "metadata": {},
   "source": [
    "Create a PyTorch-compatible dataset for the train and the validation dataset."
   ]
  },
  {
   "cell_type": "code",
   "execution_count": 83,
   "metadata": {},
   "outputs": [],
   "source": [
    "train_rnn_dataset = CommonsenseRNNDataset(train, wv, embedding_dim=embedding_dim_rnn)\n",
    "valid_rnn_dataset = CommonsenseRNNDataset(valid, wv, embedding_dim=embedding_dim_rnn)"
   ]
  },
  {
   "cell_type": "markdown",
   "metadata": {},
   "source": [
    "Create two PyTorch DataLoader objects to efficiently batch and load data during training. **Training only works with num_workers=0**"
   ]
  },
  {
   "cell_type": "code",
   "execution_count": 84,
   "metadata": {},
   "outputs": [],
   "source": [
    "train_rnn_loader = DataLoader(\n",
    "    train_rnn_dataset,\n",
    "    batch_size=batch_size_rnn,\n",
    "    shuffle=True,\n",
    "    num_workers=0,\n",
    "    pin_memory=True,\n",
    "    collate_fn=rnn_collate_fn\n",
    ")\n",
    "\n",
    "valid_rnn_loader = DataLoader(\n",
    "    valid_rnn_dataset,\n",
    "    batch_size=batch_size_rnn,\n",
    "    shuffle=False,\n",
    "    num_workers=0,\n",
    "    pin_memory=True,\n",
    "    collate_fn=rnn_collate_fn\n",
    ")"
   ]
  },
  {
   "cell_type": "markdown",
   "metadata": {},
   "source": [
    "Initialize the RNN model and move it to the appropriate computing device."
   ]
  },
  {
   "cell_type": "code",
   "execution_count": 85,
   "metadata": {},
   "outputs": [
    {
     "name": "stdout",
     "output_type": "stream",
     "text": [
      "QARNNModel(\n",
      "  (question_encoder): Sequential(\n",
      "    (0): Linear(in_features=300, out_features=256, bias=True)\n",
      "    (1): ReLU()\n",
      "    (2): Dropout(p=0.2, inplace=False)\n",
      "  )\n",
      "  (choice_encoder): Sequential(\n",
      "    (0): Linear(in_features=300, out_features=256, bias=True)\n",
      "    (1): ReLU()\n",
      "    (2): Dropout(p=0.2, inplace=False)\n",
      "  )\n",
      "  (scoring): Sequential(\n",
      "    (0): Linear(in_features=512, out_features=256, bias=True)\n",
      "    (1): ReLU()\n",
      "    (2): Dropout(p=0.2, inplace=False)\n",
      "    (3): Linear(in_features=256, out_features=1, bias=True)\n",
      "  )\n",
      ")\n"
     ]
    }
   ],
   "source": [
    "rnn_model = QARNNModel(embedding_dim=embedding_dim_rnn, hidden_dim=hidden_dim_rnn, dropout_rate=dropout_rate_rnn)\n",
    "rnn_model = rnn_model.to(device)\n",
    "\n",
    "print(rnn_model)"
   ]
  },
  {
   "cell_type": "markdown",
   "metadata": {},
   "source": [
    "Set up the loss function and optimizer for training the word embedding model.\n",
    "\n",
    "I'm using CrossEntropyLoss as my loss function because it's well-suited for multi-class classification problems. As a optimizer I chose AdamW, because it combines the benefits of Adam with proper weight decay regularization. This helps prevent overfitting while maintaining good convergence properties"
   ]
  },
  {
   "cell_type": "code",
   "execution_count": 86,
   "metadata": {},
   "outputs": [],
   "source": [
    "criterion_rnn = nn.CrossEntropyLoss()\n",
    "optimizer_rnn = torch.optim.AdamW(rnn_model.parameters(), lr=learning_rate_rnn, weight_decay=weight_decay_rnn)"
   ]
  },
  {
   "cell_type": "markdown",
   "metadata": {},
   "source": [
    "Initializes wandb tracking run for experiment monitoring of the RNN training."
   ]
  },
  {
   "cell_type": "code",
   "execution_count": 88,
   "metadata": {},
   "outputs": [
    {
     "data": {
      "text/html": [],
      "text/plain": [
       "<IPython.core.display.HTML object>"
      ]
     },
     "metadata": {},
     "output_type": "display_data"
    },
    {
     "data": {
      "text/html": [
       " View run <strong style=\"color:#cdcd00\">rnn-2025-04-07T20:56:10</strong> at: <a href='https://wandb.ai/fabian-dubach-hochschule-luzern/CommonsenseQA/runs/yhvthgk9' target=\"_blank\">https://wandb.ai/fabian-dubach-hochschule-luzern/CommonsenseQA/runs/yhvthgk9</a><br> View project at: <a href='https://wandb.ai/fabian-dubach-hochschule-luzern/CommonsenseQA' target=\"_blank\">https://wandb.ai/fabian-dubach-hochschule-luzern/CommonsenseQA</a><br>Synced 5 W&B file(s), 0 media file(s), 0 artifact file(s) and 0 other file(s)"
      ],
      "text/plain": [
       "<IPython.core.display.HTML object>"
      ]
     },
     "metadata": {},
     "output_type": "display_data"
    },
    {
     "data": {
      "text/html": [
       "Find logs at: <code>.\\wandb\\run-20250407_205610-yhvthgk9\\logs</code>"
      ],
      "text/plain": [
       "<IPython.core.display.HTML object>"
      ]
     },
     "metadata": {},
     "output_type": "display_data"
    },
    {
     "data": {
      "text/html": [
       "Tracking run with wandb version 0.19.8"
      ],
      "text/plain": [
       "<IPython.core.display.HTML object>"
      ]
     },
     "metadata": {},
     "output_type": "display_data"
    },
    {
     "data": {
      "text/html": [
       "Run data is saved locally in <code>d:\\Dateien\\Github_FabianDubach\\NLP\\_Project\\wandb\\run-20250407_205613-c16ap6f6</code>"
      ],
      "text/plain": [
       "<IPython.core.display.HTML object>"
      ]
     },
     "metadata": {},
     "output_type": "display_data"
    },
    {
     "data": {
      "text/html": [
       "Syncing run <strong><a href='https://wandb.ai/fabian-dubach-hochschule-luzern/CommonsenseQA/runs/c16ap6f6' target=\"_blank\">rnn-2025-04-07T20:56:13</a></strong> to <a href='https://wandb.ai/fabian-dubach-hochschule-luzern/CommonsenseQA' target=\"_blank\">Weights & Biases</a> (<a href='https://wandb.me/developer-guide' target=\"_blank\">docs</a>)<br>"
      ],
      "text/plain": [
       "<IPython.core.display.HTML object>"
      ]
     },
     "metadata": {},
     "output_type": "display_data"
    },
    {
     "data": {
      "text/html": [
       " View project at <a href='https://wandb.ai/fabian-dubach-hochschule-luzern/CommonsenseQA' target=\"_blank\">https://wandb.ai/fabian-dubach-hochschule-luzern/CommonsenseQA</a>"
      ],
      "text/plain": [
       "<IPython.core.display.HTML object>"
      ]
     },
     "metadata": {},
     "output_type": "display_data"
    },
    {
     "data": {
      "text/html": [
       " View run at <a href='https://wandb.ai/fabian-dubach-hochschule-luzern/CommonsenseQA/runs/c16ap6f6' target=\"_blank\">https://wandb.ai/fabian-dubach-hochschule-luzern/CommonsenseQA/runs/c16ap6f6</a>"
      ],
      "text/plain": [
       "<IPython.core.display.HTML object>"
      ]
     },
     "metadata": {},
     "output_type": "display_data"
    }
   ],
   "source": [
    "rnn_run = wandb.init(\n",
    "  project=\"CommonsenseQA\",\n",
    "  name=f\"rnn-{datetime.now().strftime('%Y-%m-%dT%H:%M:%S')}\",\n",
    "  config={\n",
    "    \"model\": \"rnn\",\n",
    "    \"embedding_dim\": embedding_dim_rnn,\n",
    "    \"hidden_dim\": hidden_dim_rnn,\n",
    "    \"batch_size\": batch_size_rnn,\n",
    "    \"epoch\": num_epochs_rnn,\n",
    "    \"dropout_rate\": dropout_rate_rnn,\n",
    "    \"weight_decay\": weight_decay_rnn,\n",
    "  },\n",
    "  reinit=True,\n",
    ")"
   ]
  },
  {
   "cell_type": "markdown",
   "metadata": {},
   "source": [
    "The `train_rnn_model()` function trains a recurrent neural network for the question answering task. It processes batches containing padded sequences, sequence lengths and other necessary tensors for RNN processing. The function follows a standard training loop with forward/backward passes and evaluates model performance on a validation set after each epoch. Like the word embedding function, it implements early stopping (to prevent overfitting), logs metrics to Weights & Biases and saves checkpoints. The RNN training function is specifically designed to handle the more complex data structure required by recurrent networks, including padded sequences and their corresponding lengths that enable proper processing of variable-length inputs."
   ]
  },
  {
   "cell_type": "code",
   "execution_count": null,
   "metadata": {},
   "outputs": [],
   "source": [
    "def train_rnn_model(model, criterion, optimizer, train_loader, valid_loader, num_epochs, device, \n",
    "                    checkpoints_path=None, log_wandb=True, gradient_clip_val=5.0, save_interval=1,\n",
    "                    patience=5):\n",
    "    best_val_accuracy = 0.0\n",
    "    training_start_time = time.time()\n",
    "    \n",
    "    # Early stopping variables\n",
    "    no_improve_count = 0\n",
    "    early_stop = False\n",
    "    \n",
    "    for epoch in range(num_epochs):\n",
    "        # Check if early stopping is triggered\n",
    "        if early_stop:\n",
    "            print(f\"\\nEarly stopping triggered after {epoch} epochs! No improvement for {patience} epochs.\")\n",
    "            break\n",
    "            \n",
    "        print(f\"\\nEpoch {epoch+1}/{num_epochs}\")\n",
    "        \n",
    "        # Training phase\n",
    "        model.train()\n",
    "        train_loss = 0.0\n",
    "        train_correct = 0\n",
    "        train_total = 0\n",
    "        \n",
    "        with tqdm(train_loader, desc=\"Training\") as progress_bar:\n",
    "            for batch in progress_bar:\n",
    "                # Unpack batch items (keeping all 6 parameters for API consistency)\n",
    "                padded_questions, question_lengths, padded_choices, choice_lengths, indices, labels = batch\n",
    "                \n",
    "                # Move to device\n",
    "                padded_questions = padded_questions.to(device)\n",
    "                question_lengths = question_lengths.to(device)\n",
    "                padded_choices = padded_choices.to(device)\n",
    "                choice_lengths = choice_lengths.to(device)\n",
    "                indices = indices.to(device)\n",
    "                labels = labels.to(device)\n",
    "                \n",
    "                # Forward pass\n",
    "                optimizer.zero_grad()\n",
    "                outputs = model(padded_questions, question_lengths, padded_choices, choice_lengths, indices)\n",
    "                \n",
    "                # Compute loss\n",
    "                loss = criterion(outputs, labels)\n",
    "                \n",
    "                # Backward pass\n",
    "                loss.backward()\n",
    "                \n",
    "                # Apply gradient clipping\n",
    "                if gradient_clip_val > 0:\n",
    "                    nn.utils.clip_grad_norm_(model.parameters(), gradient_clip_val)\n",
    "                    \n",
    "                optimizer.step()\n",
    "                \n",
    "                # Statistics\n",
    "                train_loss += loss.item()\n",
    "                _, predicted = torch.max(outputs, 1)\n",
    "                train_total += labels.size(0)\n",
    "                train_correct += (predicted == labels).sum().item()\n",
    "                \n",
    "                # Update progress bar\n",
    "                progress_bar.set_postfix({\n",
    "                    'loss': f\"{loss.item():.4f}\",\n",
    "                    'acc': f\"{train_correct/train_total:.4f}\" if train_total > 0 else \"N/A\"\n",
    "                })\n",
    "        \n",
    "        train_accuracy = train_correct / train_total if train_total > 0 else 0\n",
    "        avg_train_loss = train_loss / len(train_loader) if len(train_loader) > 0 else 0\n",
    "        \n",
    "        # Validation phase\n",
    "        model.eval()\n",
    "        val_loss = 0.0\n",
    "        val_correct = 0\n",
    "        val_total = 0\n",
    "        \n",
    "        with torch.no_grad():\n",
    "            for batch in tqdm(valid_loader, desc=\"Validation\"):\n",
    "                padded_questions, question_lengths, padded_choices, choice_lengths, indices, labels = batch\n",
    "                \n",
    "                # Move to device\n",
    "                padded_questions = padded_questions.to(device)\n",
    "                question_lengths = question_lengths.to(device)\n",
    "                padded_choices = padded_choices.to(device)\n",
    "                choice_lengths = choice_lengths.to(device)\n",
    "                indices = indices.to(device)\n",
    "                labels = labels.to(device)\n",
    "                \n",
    "                # Forward pass\n",
    "                outputs = model(padded_questions, question_lengths, padded_choices, choice_lengths, indices)\n",
    "                \n",
    "                # Compute loss\n",
    "                loss = criterion(outputs, labels)\n",
    "                \n",
    "                # Statistics\n",
    "                val_loss += loss.item()\n",
    "                _, predicted = torch.max(outputs, 1)\n",
    "                val_total += labels.size(0)\n",
    "                val_correct += (predicted == labels).sum().item()\n",
    "        \n",
    "        val_accuracy = val_correct / val_total if val_total > 0 else 0\n",
    "        avg_val_loss = val_loss / len(valid_loader) if len(valid_loader) > 0 else 0\n",
    "        \n",
    "        # Print metrics\n",
    "        print(f\"Train Loss: {avg_train_loss:.4f}, Train Acc: {train_accuracy:.4f}\")\n",
    "        print(f\"Val Loss: {avg_val_loss:.4f}, Val Acc: {val_accuracy:.4f}\")\n",
    "        \n",
    "        # Log to wandb\n",
    "        if log_wandb:\n",
    "            wandb.log({\n",
    "                \"epoch\": epoch,\n",
    "                \"train_loss\": avg_train_loss,\n",
    "                \"train_accuracy\": train_accuracy,\n",
    "                \"val_loss\": avg_val_loss,\n",
    "                \"val_accuracy\": val_accuracy,\n",
    "                \"learning_rate\": optimizer.param_groups[0]['lr']\n",
    "            })\n",
    "        \n",
    "        # Save checkpoint\n",
    "        if checkpoints_path and (epoch + 1) % save_interval == 0:\n",
    "            checkpoint_path = os.path.join(checkpoints_path, f'checkpoint_epoch_{epoch+1}.pt')\n",
    "            save_checkpoint(model, optimizer, epoch+1, checkpoint_path, best_val_accuracy)\n",
    "        \n",
    "        # Save best model & check early stopping\n",
    "        if val_accuracy > best_val_accuracy:\n",
    "            print(f\"Validation accuracy improved from {best_val_accuracy:.4f} to {val_accuracy:.4f}\")\n",
    "            best_val_accuracy = val_accuracy\n",
    "            no_improve_count = 0  # Reset counter when there's an improvement\n",
    "            \n",
    "            if checkpoints_path:\n",
    "                best_model_path = os.path.join(checkpoints_path, 'best_rnn_model.pt')\n",
    "                save_checkpoint(model, optimizer, epoch+1, best_model_path, best_val_accuracy)\n",
    "        else:\n",
    "            # Increment counter when no improvement\n",
    "            no_improve_count += 1\n",
    "            print(f\"No improvement for {no_improve_count} epochs (patience: {patience})\")\n",
    "            \n",
    "            # Check if early stopping criteria is met\n",
    "            if no_improve_count >= patience:\n",
    "                early_stop = True\n",
    "    \n",
    "    print(f\"Training completed in {(time.time() - training_start_time)/60:.2f} minutes\")\n",
    "    print(f\"Best validation accuracy: {best_val_accuracy:.4f}\")\n",
    "    \n",
    "    return model, best_val_accuracy"
   ]
  },
  {
   "cell_type": "markdown",
   "metadata": {},
   "source": [
    "Define checkpoint directory for the RNN."
   ]
  },
  {
   "cell_type": "code",
   "execution_count": 90,
   "metadata": {},
   "outputs": [],
   "source": [
    "checkpoint_dir_rnn = f\"./checkpoints/rnn-{datetime.now().strftime('%Y-%m-%d-%H-%M-%S')}\"\n",
    "os.makedirs(checkpoint_dir_rnn, exist_ok=True)"
   ]
  },
  {
   "cell_type": "markdown",
   "metadata": {},
   "source": [
    "Run the training for the word embedding model."
   ]
  },
  {
   "cell_type": "code",
   "execution_count": 91,
   "metadata": {},
   "outputs": [
    {
     "name": "stdout",
     "output_type": "stream",
     "text": [
      "\n",
      "Epoch 1/50\n"
     ]
    },
    {
     "name": "stderr",
     "output_type": "stream",
     "text": [
      "Training:   0%|          | 0/274 [00:00<?, ?it/s]C:\\Users\\fabia\\AppData\\Local\\Temp\\ipykernel_21744\\665787113.py:6: UserWarning: To copy construct from a tensor, it is recommended to use sourceTensor.clone().detach() or sourceTensor.clone().detach().requires_grad_(True), rather than torch.tensor(sourceTensor).\n",
      "  question_tensors = [torch.tensor(q, dtype=torch.float32) for q in questions]\n",
      "C:\\Users\\fabia\\AppData\\Local\\Temp\\ipykernel_21744\\665787113.py:7: UserWarning: To copy construct from a tensor, it is recommended to use sourceTensor.clone().detach() or sourceTensor.clone().detach().requires_grad_(True), rather than torch.tensor(sourceTensor).\n",
      "  choice_tensors = [[torch.tensor(c, dtype=torch.float32) for c in cs] for cs in choices]\n",
      "Training: 100%|██████████| 274/274 [00:15<00:00, 17.87it/s, loss=1.6134, acc=0.1895]\n",
      "Validation: 100%|██████████| 32/32 [00:01<00:00, 29.83it/s]\n"
     ]
    },
    {
     "name": "stdout",
     "output_type": "stream",
     "text": [
      "Train Loss: 1.6095, Train Acc: 0.1895\n",
      "Val Loss: 1.6092, Val Acc: 0.2030\n",
      "Validation accuracy improved from 0.0000 to 0.2030\n",
      "\n",
      "Epoch 2/50\n"
     ]
    },
    {
     "name": "stderr",
     "output_type": "stream",
     "text": [
      "Training: 100%|██████████| 274/274 [00:14<00:00, 18.84it/s, loss=1.6160, acc=0.1993]\n",
      "Validation: 100%|██████████| 32/32 [00:01<00:00, 20.77it/s]\n"
     ]
    },
    {
     "name": "stdout",
     "output_type": "stream",
     "text": [
      "Train Loss: 1.6093, Train Acc: 0.1993\n",
      "Val Loss: 1.6091, Val Acc: 0.2220\n",
      "Validation accuracy improved from 0.2030 to 0.2220\n",
      "\n",
      "Epoch 3/50\n"
     ]
    },
    {
     "name": "stderr",
     "output_type": "stream",
     "text": [
      "Training: 100%|██████████| 274/274 [00:16<00:00, 16.23it/s, loss=1.6112, acc=0.2078]\n",
      "Validation: 100%|██████████| 32/32 [00:01<00:00, 24.49it/s]\n"
     ]
    },
    {
     "name": "stdout",
     "output_type": "stream",
     "text": [
      "Train Loss: 1.6091, Train Acc: 0.2078\n",
      "Val Loss: 1.6090, Val Acc: 0.2220\n",
      "No improvement for 1 epochs (patience: 10)\n",
      "\n",
      "Epoch 4/50\n"
     ]
    },
    {
     "name": "stderr",
     "output_type": "stream",
     "text": [
      "Training: 100%|██████████| 274/274 [00:15<00:00, 17.54it/s, loss=1.6065, acc=0.2134]\n",
      "Validation: 100%|██████████| 32/32 [00:01<00:00, 28.65it/s]\n"
     ]
    },
    {
     "name": "stdout",
     "output_type": "stream",
     "text": [
      "Train Loss: 1.6088, Train Acc: 0.2134\n",
      "Val Loss: 1.6089, Val Acc: 0.2180\n",
      "No improvement for 2 epochs (patience: 10)\n",
      "\n",
      "Epoch 5/50\n"
     ]
    },
    {
     "name": "stderr",
     "output_type": "stream",
     "text": [
      "Training: 100%|██████████| 274/274 [00:17<00:00, 16.11it/s, loss=1.6007, acc=0.2182]\n",
      "Validation: 100%|██████████| 32/32 [00:01<00:00, 26.17it/s]\n"
     ]
    },
    {
     "name": "stdout",
     "output_type": "stream",
     "text": [
      "Train Loss: 1.6086, Train Acc: 0.2182\n",
      "Val Loss: 1.6088, Val Acc: 0.2300\n",
      "Validation accuracy improved from 0.2220 to 0.2300\n",
      "\n",
      "Epoch 6/50\n"
     ]
    },
    {
     "name": "stderr",
     "output_type": "stream",
     "text": [
      "Training: 100%|██████████| 274/274 [00:16<00:00, 16.73it/s, loss=1.6050, acc=0.2157]\n",
      "Validation: 100%|██████████| 32/32 [00:01<00:00, 26.50it/s]\n"
     ]
    },
    {
     "name": "stdout",
     "output_type": "stream",
     "text": [
      "Train Loss: 1.6084, Train Acc: 0.2157\n",
      "Val Loss: 1.6086, Val Acc: 0.2310\n",
      "Validation accuracy improved from 0.2300 to 0.2310\n",
      "\n",
      "Epoch 7/50\n"
     ]
    },
    {
     "name": "stderr",
     "output_type": "stream",
     "text": [
      "Training: 100%|██████████| 274/274 [00:15<00:00, 18.26it/s, loss=1.5937, acc=0.2157]\n",
      "Validation: 100%|██████████| 32/32 [00:01<00:00, 30.44it/s]\n"
     ]
    },
    {
     "name": "stdout",
     "output_type": "stream",
     "text": [
      "Train Loss: 1.6082, Train Acc: 0.2157\n",
      "Val Loss: 1.6085, Val Acc: 0.2260\n",
      "No improvement for 1 epochs (patience: 10)\n",
      "\n",
      "Epoch 8/50\n"
     ]
    },
    {
     "name": "stderr",
     "output_type": "stream",
     "text": [
      "Training: 100%|██████████| 274/274 [00:15<00:00, 17.30it/s, loss=1.6058, acc=0.2184]\n",
      "Validation: 100%|██████████| 32/32 [00:01<00:00, 27.32it/s]\n"
     ]
    },
    {
     "name": "stdout",
     "output_type": "stream",
     "text": [
      "Train Loss: 1.6078, Train Acc: 0.2184\n",
      "Val Loss: 1.6083, Val Acc: 0.2230\n",
      "No improvement for 2 epochs (patience: 10)\n",
      "\n",
      "Epoch 9/50\n"
     ]
    },
    {
     "name": "stderr",
     "output_type": "stream",
     "text": [
      "Training: 100%|██████████| 274/274 [00:14<00:00, 18.46it/s, loss=1.6144, acc=0.2185]\n",
      "Validation: 100%|██████████| 32/32 [00:01<00:00, 27.95it/s]\n"
     ]
    },
    {
     "name": "stdout",
     "output_type": "stream",
     "text": [
      "Train Loss: 1.6076, Train Acc: 0.2185\n",
      "Val Loss: 1.6081, Val Acc: 0.2230\n",
      "No improvement for 3 epochs (patience: 10)\n",
      "\n",
      "Epoch 10/50\n"
     ]
    },
    {
     "name": "stderr",
     "output_type": "stream",
     "text": [
      "Training: 100%|██████████| 274/274 [00:14<00:00, 18.56it/s, loss=1.6179, acc=0.2206]\n",
      "Validation: 100%|██████████| 32/32 [00:01<00:00, 26.36it/s]\n"
     ]
    },
    {
     "name": "stdout",
     "output_type": "stream",
     "text": [
      "Train Loss: 1.6073, Train Acc: 0.2206\n",
      "Val Loss: 1.6079, Val Acc: 0.2240\n",
      "No improvement for 4 epochs (patience: 10)\n",
      "\n",
      "Epoch 11/50\n"
     ]
    },
    {
     "name": "stderr",
     "output_type": "stream",
     "text": [
      "Training: 100%|██████████| 274/274 [00:14<00:00, 19.32it/s, loss=1.6027, acc=0.2206]\n",
      "Validation: 100%|██████████| 32/32 [00:01<00:00, 29.72it/s]\n"
     ]
    },
    {
     "name": "stdout",
     "output_type": "stream",
     "text": [
      "Train Loss: 1.6069, Train Acc: 0.2206\n",
      "Val Loss: 1.6077, Val Acc: 0.2210\n",
      "No improvement for 5 epochs (patience: 10)\n",
      "\n",
      "Epoch 12/50\n"
     ]
    },
    {
     "name": "stderr",
     "output_type": "stream",
     "text": [
      "Training: 100%|██████████| 274/274 [00:14<00:00, 18.66it/s, loss=1.5992, acc=0.2218]\n",
      "Validation: 100%|██████████| 32/32 [00:01<00:00, 28.70it/s]\n"
     ]
    },
    {
     "name": "stdout",
     "output_type": "stream",
     "text": [
      "Train Loss: 1.6066, Train Acc: 0.2218\n",
      "Val Loss: 1.6075, Val Acc: 0.2230\n",
      "No improvement for 6 epochs (patience: 10)\n",
      "\n",
      "Epoch 13/50\n"
     ]
    },
    {
     "name": "stderr",
     "output_type": "stream",
     "text": [
      "Training: 100%|██████████| 274/274 [00:14<00:00, 19.31it/s, loss=1.5711, acc=0.2203]\n",
      "Validation: 100%|██████████| 32/32 [00:01<00:00, 30.17it/s]\n"
     ]
    },
    {
     "name": "stdout",
     "output_type": "stream",
     "text": [
      "Train Loss: 1.6059, Train Acc: 0.2203\n",
      "Val Loss: 1.6073, Val Acc: 0.2160\n",
      "No improvement for 7 epochs (patience: 10)\n",
      "\n",
      "Epoch 14/50\n"
     ]
    },
    {
     "name": "stderr",
     "output_type": "stream",
     "text": [
      "Training: 100%|██████████| 274/274 [00:14<00:00, 18.81it/s, loss=1.6400, acc=0.2209]\n",
      "Validation: 100%|██████████| 32/32 [00:01<00:00, 29.67it/s]\n"
     ]
    },
    {
     "name": "stdout",
     "output_type": "stream",
     "text": [
      "Train Loss: 1.6057, Train Acc: 0.2209\n",
      "Val Loss: 1.6071, Val Acc: 0.2190\n",
      "No improvement for 8 epochs (patience: 10)\n",
      "\n",
      "Epoch 15/50\n"
     ]
    },
    {
     "name": "stderr",
     "output_type": "stream",
     "text": [
      "Training: 100%|██████████| 274/274 [00:14<00:00, 18.83it/s, loss=1.6316, acc=0.2242]\n",
      "Validation: 100%|██████████| 32/32 [00:01<00:00, 29.28it/s]\n"
     ]
    },
    {
     "name": "stdout",
     "output_type": "stream",
     "text": [
      "Train Loss: 1.6051, Train Acc: 0.2242\n",
      "Val Loss: 1.6069, Val Acc: 0.2200\n",
      "No improvement for 9 epochs (patience: 10)\n",
      "\n",
      "Epoch 16/50\n"
     ]
    },
    {
     "name": "stderr",
     "output_type": "stream",
     "text": [
      "Training: 100%|██████████| 274/274 [00:14<00:00, 18.81it/s, loss=1.6176, acc=0.2255]\n",
      "Validation: 100%|██████████| 32/32 [00:01<00:00, 28.84it/s]"
     ]
    },
    {
     "name": "stdout",
     "output_type": "stream",
     "text": [
      "Train Loss: 1.6048, Train Acc: 0.2255\n",
      "Val Loss: 1.6067, Val Acc: 0.2210\n",
      "No improvement for 10 epochs (patience: 10)\n",
      "\n",
      "Early stopping triggered after 16 epochs! No improvement for 10 epochs.\n",
      "Training completed in 4.37 minutes\n",
      "Best validation accuracy: 0.2310\n",
      "RNN training complete! Best validation accuracy: 0.2310\n"
     ]
    },
    {
     "name": "stderr",
     "output_type": "stream",
     "text": [
      "\n"
     ]
    }
   ],
   "source": [
    "trained_rnn_model, best_rnn_accuracy = train_rnn_model(\n",
    "        model=rnn_model,\n",
    "        criterion=criterion_rnn,\n",
    "        optimizer=optimizer_rnn,\n",
    "        train_loader=train_rnn_loader,\n",
    "        valid_loader=valid_rnn_loader,\n",
    "        num_epochs=num_epochs_rnn,\n",
    "        device=device,\n",
    "        checkpoints_path=checkpoint_dir_rnn,\n",
    "        log_wandb=True,\n",
    "        gradient_clip_val=gradient_clip_val_rnn,\n",
    "        save_interval=1,\n",
    "        patience=10\n",
    "    )\n",
    "\n",
    "print(f\"RNN training complete! Best validation accuracy: {best_rnn_accuracy:.4f}\")"
   ]
  },
  {
   "cell_type": "markdown",
   "metadata": {},
   "source": [
    "# **Evaluation**"
   ]
  },
  {
   "cell_type": "markdown",
   "metadata": {},
   "source": [
    "I will evaluate the two models (Word Embedding and RNN) using the following metrics:\n",
    "\n",
    "1. Accuracy\n",
    "2. Precision\n",
    "3. Recall\n",
    "4. F1 Score\n",
    "5. Confusion Matrix"
   ]
  },
  {
   "cell_type": "code",
   "execution_count": 93,
   "metadata": {},
   "outputs": [],
   "source": [
    "from sklearn.metrics import (\n",
    "    accuracy_score, \n",
    "    precision_score, \n",
    "    recall_score, \n",
    "    f1_score, \n",
    "    confusion_matrix\n",
    ")"
   ]
  },
  {
   "cell_type": "markdown",
   "metadata": {},
   "source": [
    "First, I need to define a function to be able to load the best model."
   ]
  },
  {
   "cell_type": "code",
   "execution_count": 163,
   "metadata": {},
   "outputs": [],
   "source": [
    "def load_model(model_path, model_class, device):\n",
    "    checkpoint = torch.load(model_path, map_location=device)\n",
    "    model = model_class()\n",
    "    model.load_state_dict(checkpoint['model_state_dict'])\n",
    "    model = model.to(device)\n",
    "    \n",
    "    # Set the model to evaluation mode\n",
    "    model.eval()\n",
    "    \n",
    "    return model"
   ]
  },
  {
   "cell_type": "markdown",
   "metadata": {},
   "source": [
    "### **Word embedding evaluation**"
   ]
  },
  {
   "cell_type": "markdown",
   "metadata": {},
   "source": [
    "The function `evaluate_word_embedding_model()` evaluates a word embedding model's performance by running it on a validation dataset. It does the following key things:\n",
    "\n",
    "1. Sends batches of questions and answer choices through the model to get predictions.\n",
    "2. Compares these predictions against the true labels.\n",
    "3. Calculates important performance metrics like accuracy, precision, recall and F1 score.\n",
    "4. Creates a confusion matrix to show how the model's predictions match the actual labels."
   ]
  },
  {
   "cell_type": "code",
   "execution_count": 164,
   "metadata": {},
   "outputs": [],
   "source": [
    "def evaluate_word_embedding_model(model, dataloader, device):\n",
    "    model.eval()\n",
    "    true_labels = []\n",
    "    predicted_labels = []\n",
    "    \n",
    "    with torch.no_grad():\n",
    "        for batch in dataloader:\n",
    "\n",
    "            question_batch, choices_batch, labels = batch\n",
    "            \n",
    "            # Move to device\n",
    "            question_batch = question_batch.to(device)\n",
    "            choices_batch = choices_batch.to(device)\n",
    "            labels = labels.to(device)\n",
    "            \n",
    "            # Forward pass with both question and choices\n",
    "            outputs = model(question_batch, choices_batch)\n",
    "            \n",
    "            # Get predictions\n",
    "            _, preds = torch.max(outputs, 1)\n",
    "            \n",
    "            # Collect labels and predictions\n",
    "            true_labels.extend(labels.cpu().numpy())\n",
    "            predicted_labels.extend(preds.cpu().numpy())\n",
    "    \n",
    "    # Compute metrics\n",
    "    from sklearn.metrics import (\n",
    "        accuracy_score, \n",
    "        precision_score, \n",
    "        recall_score, \n",
    "        f1_score, \n",
    "        confusion_matrix\n",
    "    )\n",
    "    \n",
    "    accuracy = accuracy_score(true_labels, predicted_labels)\n",
    "    precision = precision_score(true_labels, predicted_labels, average='weighted')\n",
    "    recall = recall_score(true_labels, predicted_labels, average='weighted')\n",
    "    f1 = f1_score(true_labels, predicted_labels, average='weighted')\n",
    "    \n",
    "    # Confusion Matrix\n",
    "    cm = confusion_matrix(true_labels, predicted_labels)\n",
    "    \n",
    "    return {\n",
    "        'accuracy': accuracy,\n",
    "        'precision': precision,\n",
    "        'recall': recall,\n",
    "        'f1_score': f1,\n",
    "        'confusion_matrix': cm\n",
    "    }"
   ]
  },
  {
   "cell_type": "markdown",
   "metadata": {},
   "source": [
    "I load the model from my folder for the evaluation with the `load_model()` function."
   ]
  },
  {
   "cell_type": "code",
   "execution_count": 145,
   "metadata": {},
   "outputs": [],
   "source": [
    "word_embedding_model = load_model(\n",
    "    model_path=r'D:\\\\Dateien\\\\Github_FabianDubach\\\\NLP\\\\_Project\\\\checkpoints\\\\embedding-2025-04-07-18-17-33\\\\best_model.pt', \n",
    "    model_class=lambda: WordEmbeddingQAClassifier(\n",
    "        embedding_dim=embedding_dim_word_embedding, \n",
    "        hidden_dim=hidden_dim_word_embedding, \n",
    "        dropout_rate=dropout_rate_word_embedding\n",
    "    ),\n",
    "    device=device\n",
    ")"
   ]
  },
  {
   "cell_type": "markdown",
   "metadata": {},
   "source": [
    "I use the `evaluate_word_embedding_model()` function to get the needed metrics."
   ]
  },
  {
   "cell_type": "code",
   "execution_count": 148,
   "metadata": {},
   "outputs": [],
   "source": [
    "metrics_word_embedding = evaluate_word_embedding_model(word_embedding_model, valid_loader, device)"
   ]
  },
  {
   "cell_type": "markdown",
   "metadata": {},
   "source": [
    "With the following for-loop, I print out the needed metrics."
   ]
  },
  {
   "cell_type": "code",
   "execution_count": 151,
   "metadata": {},
   "outputs": [
    {
     "name": "stdout",
     "output_type": "stream",
     "text": [
      "accuracy: 0.256\n",
      "precision: 0.2564580825864282\n",
      "recall: 0.256\n",
      "f1_score: 0.2559131822232372\n"
     ]
    }
   ],
   "source": [
    "for metric, value in metrics_word_embedding.items():\n",
    "    if metric != 'confusion_matrix':\n",
    "        print(f\"{metric}: {value}\")"
   ]
  },
  {
   "cell_type": "markdown",
   "metadata": {},
   "source": [
    "To see what my word embedding model actually predicted, I print out the confusion matrix."
   ]
  },
  {
   "cell_type": "code",
   "execution_count": 161,
   "metadata": {},
   "outputs": [
    {
     "data": {
      "image/png": "[encoded data removed]",
      "text/plain": [
       "<Figure size 600x400 with 2 Axes>"
      ]
     },
     "metadata": {},
     "output_type": "display_data"
    }
   ],
   "source": [
    "plt.figure(figsize=(6, 4))\n",
    "sns.heatmap(metrics_word_embedding['confusion_matrix'], annot=True, fmt='d', cmap='Blues')\n",
    "plt.title('Confusion Matrix for Word Embedding Model')\n",
    "plt.xlabel('Predicted Label')\n",
    "plt.ylabel('True Label')\n",
    "plt.show()"
   ]
  },
  {
   "cell_type": "markdown",
   "metadata": {},
   "source": [
    "The confusion matrix for the word embedding model shows that the model makes mistakes fairly evenly across the different answer choices. The number of correct predictions (the diagonal values) is pretty consistent, ranging from 48 to 53 for each label. This means the model performs similarly across all answer options, without any one label being much easier or harder to predict.\n",
    "\n",
    "Label 3 is the most accurate with 52 correct predictions, while label 2 is the lowest with 50. The model often confuses answers that are next to each other (like labels 0 and 1, or labels 3 and 4), which is shown by the higher number of mistakes between these pairs (e.g. 42 and 30 errors between 0 and 1 / 40 and 35 between 3 and 4). This likely happens because those answer choices are more similar to each other, and commonsense reasoning tasks can be tricky even for models."
   ]
  },
  {
   "cell_type": "markdown",
   "metadata": {},
   "source": [
    "### **RNN evaluation**"
   ]
  },
  {
   "cell_type": "markdown",
   "metadata": {},
   "source": [
    "The function `evaluate_rnn_model()` evaluates the performance of an RNN-based model using a validation dataset. It does the following key things:\n",
    "\n",
    "1. Processes batches of input data — including questions, choices, and their lengths — and sends them through the model to get predictions.\n",
    "2. Compares model predictions with the true labels for each batch to see how well the model is performing.\n",
    "3. Calculates key performance metrics such as accuracy, precision, recall, and F1 score to give a detailed view of the model’s effectiveness.\n",
    "4. Generates a confusion matrix to visualize how often the model predicts each class correctly or incorrectly."
   ]
  },
  {
   "cell_type": "code",
   "execution_count": 165,
   "metadata": {},
   "outputs": [],
   "source": [
    "def evaluate_rnn_model(model, dataloader, device):\n",
    "    model.eval()\n",
    "    true_labels = []\n",
    "    predicted_labels = []\n",
    "    \n",
    "    with torch.no_grad():\n",
    "        for batch in dataloader:\n",
    "\n",
    "            padded_questions, question_lengths, padded_choices, choice_lengths, indices, labels = batch\n",
    "            \n",
    "            # Move to device\n",
    "            padded_questions = padded_questions.to(device)\n",
    "            question_lengths = question_lengths.to(device)\n",
    "            padded_choices = padded_choices.to(device)\n",
    "            choice_lengths = choice_lengths.to(device)\n",
    "            indices = indices.to(device)\n",
    "            labels = labels.to(device)\n",
    "            \n",
    "            # Forward pass with RNN-specific arguments\n",
    "            outputs = model(padded_questions, question_lengths, padded_choices, choice_lengths, indices)\n",
    "            \n",
    "            # Get predictions\n",
    "            _, preds = torch.max(outputs, 1)\n",
    "            \n",
    "            # Collect labels and predictions\n",
    "            true_labels.extend(labels.cpu().numpy())\n",
    "            predicted_labels.extend(preds.cpu().numpy())\n",
    "    \n",
    "    # Compute metrics\n",
    "    from sklearn.metrics import (\n",
    "        accuracy_score, \n",
    "        precision_score, \n",
    "        recall_score, \n",
    "        f1_score, \n",
    "        confusion_matrix\n",
    "    )\n",
    "    \n",
    "    accuracy = accuracy_score(true_labels, predicted_labels)\n",
    "    precision = precision_score(true_labels, predicted_labels, average='weighted')\n",
    "    recall = recall_score(true_labels, predicted_labels, average='weighted')\n",
    "    f1 = f1_score(true_labels, predicted_labels, average='weighted')\n",
    "    \n",
    "    # Confusion Matrix\n",
    "    cm = confusion_matrix(true_labels, predicted_labels)\n",
    "    \n",
    "    return {\n",
    "        'accuracy': accuracy,\n",
    "        'precision': precision,\n",
    "        'recall': recall,\n",
    "        'f1_score': f1,\n",
    "        'confusion_matrix': cm\n",
    "    }"
   ]
  },
  {
   "cell_type": "markdown",
   "metadata": {},
   "source": [
    "I load the model from my folder for the evaluation with the `load_model()` function."
   ]
  },
  {
   "cell_type": "code",
   "execution_count": 152,
   "metadata": {},
   "outputs": [],
   "source": [
    "rnn_model = load_model(\n",
    "    model_path=r'D:\\\\Dateien\\\\Github_FabianDubach\\\\NLP\\\\_Project\\\\checkpoints\\\\rnn-2025-04-07-19-34-34\\\\best_rnn_model.pt', \n",
    "    model_class=lambda: QARNNModel(\n",
    "        embedding_dim=embedding_dim_rnn, \n",
    "        hidden_dim=hidden_dim_rnn, \n",
    "        dropout_rate=dropout_rate_rnn\n",
    "    ),\n",
    "    device=device\n",
    ")"
   ]
  },
  {
   "cell_type": "markdown",
   "metadata": {},
   "source": [
    "I use the `evaluate_rnn_model()` function to get the needed metrics."
   ]
  },
  {
   "cell_type": "code",
   "execution_count": 153,
   "metadata": {},
   "outputs": [
    {
     "name": "stderr",
     "output_type": "stream",
     "text": [
      "C:\\Users\\fabia\\AppData\\Local\\Temp\\ipykernel_21744\\665787113.py:6: UserWarning: To copy construct from a tensor, it is recommended to use sourceTensor.clone().detach() or sourceTensor.clone().detach().requires_grad_(True), rather than torch.tensor(sourceTensor).\n",
      "  question_tensors = [torch.tensor(q, dtype=torch.float32) for q in questions]\n",
      "C:\\Users\\fabia\\AppData\\Local\\Temp\\ipykernel_21744\\665787113.py:7: UserWarning: To copy construct from a tensor, it is recommended to use sourceTensor.clone().detach() or sourceTensor.clone().detach().requires_grad_(True), rather than torch.tensor(sourceTensor).\n",
      "  choice_tensors = [[torch.tensor(c, dtype=torch.float32) for c in cs] for cs in choices]\n"
     ]
    }
   ],
   "source": [
    "metrics_rnn = evaluate_rnn_model(rnn_model, valid_rnn_loader, device)"
   ]
  },
  {
   "cell_type": "markdown",
   "metadata": {},
   "source": [
    "With the following for-loop, I print out the needed metrics."
   ]
  },
  {
   "cell_type": "code",
   "execution_count": 154,
   "metadata": {},
   "outputs": [
    {
     "name": "stdout",
     "output_type": "stream",
     "text": [
      "accuracy: 0.233\n",
      "precision: 0.23276919910636673\n",
      "recall: 0.233\n",
      "f1_score: 0.23222251093213703\n"
     ]
    }
   ],
   "source": [
    "for metric, value in metrics_rnn.items():\n",
    "    if metric != 'confusion_matrix':\n",
    "        print(f\"{metric}: {value}\")"
   ]
  },
  {
   "cell_type": "markdown",
   "metadata": {},
   "source": [
    "To see what my RNN model actually predicted, I print out the confusion matrix."
   ]
  },
  {
   "cell_type": "code",
   "execution_count": 162,
   "metadata": {},
   "outputs": [
    {
     "data": {
      "image/png": "[encoded data removed]",
      "text/plain": [
       "<Figure size 600x400 with 2 Axes>"
      ]
     },
     "metadata": {},
     "output_type": "display_data"
    }
   ],
   "source": [
    "plt.figure(figsize=(6, 4))\n",
    "sns.heatmap(metrics_rnn['confusion_matrix'], annot=True, fmt='d', cmap='Blues')\n",
    "plt.title('Confusion Matrix for RNN Model')\n",
    "plt.xlabel('Predicted Label')\n",
    "plt.ylabel('True Label')\n",
    "plt.show()"
   ]
  },
  {
   "cell_type": "markdown",
   "metadata": {},
   "source": [
    "The RNN model's confusion matrix shows a similar spread of mistakes as the word embedding model, but with a few key differences. The most accurate label is 2, with 57 correct predictions, clearly higher than the others. Labels 0 and 1 are the hardest for the model, with fewer correct answers (49 and 42).\n",
    "\n",
    "The RNN also makes more noticeable mistakes across very different answer choices. For example, it often mixes up labels 1 and 4 (48 times), and labels 0 and 4 (47 times). This could be because the RNN processes data in sequence, and sometimes that causes it to confuse answers that are far apart in meaning.\n",
    "\n",
    "Overall, while the RNN shows signs of picking up deeper patterns in the data, it still has trouble with the tricky nature of commonsense reasoning, especially when answer choices are very different or too similar."
   ]
  },
  {
   "cell_type": "markdown",
   "metadata": {},
   "source": [
    "### **Model Performance Comparison**"
   ]
  },
  {
   "cell_type": "markdown",
   "metadata": {},
   "source": [
    "Both the Word Embedding and RNN models demonstrate performance slightly above random chance (20% for a 5-choice classification task), indicating the challenging nature of the CommonsenseQA dataset."
   ]
  },
  {
   "cell_type": "markdown",
   "metadata": {},
   "source": [
    "The Word Embedding model shows a marginal performance advantage:\n",
    "\n",
    "**Accuracy: 25.6%**<br>\n",
    "**Precision: 25.65%**<br>\n",
    "**Recall: 25.6%**<br>\n",
    "**F1 Score: 25.59%**\n",
    "\n",
    "The RNN model exhibits slightly lower performance:\n",
    "\n",
    "**Accuracy: 23.3%**<br>\n",
    "**Precision: 23.27%**<br>\n",
    "**Recall: 23.3%**<br>\n",
    "**F1 Score: 23.22%**"
   ]
  },
  {
   "cell_type": "markdown",
   "metadata": {},
   "source": [
    "The similar accuracy, precision, recall and F1 scores for both models show that their overall performance is balanced. Looking at the confusion matrices, we can see that neither model is especially good at predicting one specific answer — their mistakes are spread out fairly evenly across all the answer choices.\n",
    "\n",
    "The word embedding model seems just a bit better at understanding the meaning behind the questions and answers, but the difference is small. Both models have a hard time telling the answer choices apart, which shows how challenging commonsense reasoning really is.\n",
    "\n",
    "Overall, these results highlight that this task is tough and we may need more advanced models or better context to see a big improvement in performance."
   ]
  },
  {
   "cell_type": "markdown",
   "metadata": {},
   "source": [
    "# **Interpretation**"
   ]
  },
  {
   "cell_type": "markdown",
   "metadata": {},
   "source": [
    "The results from my models have been pretty disappointing and they raise more questions than answers. The accuracy is just barely above random guessing, which doesn’t necessarily mean complete failure, but it definitely suggests something isn’t quite right. First, I’m not fully confident in the implementation. I still think that something might be off, maybe in the data preprocessing, model architecture or training process. The small differences between the word embedding and RNN model make me think there could be subtle issues in how everything was set up."
   ]
  },
  {
   "cell_type": "markdown",
   "metadata": {},
   "source": [
    "What really caught my attention was learning that a research team using BERT only achieved around 56% accuracy on this same task. That makes it clear this commonsense reasoning problem is quite hard. I also suspect that the limited dataset is holding things back. With only around 9,000 training examples, the model probably isn’t seeing enough variety to truly learn the subtle patterns and context needed for commonsense reasoning. "
   ]
  },
  {
   "cell_type": "markdown",
   "metadata": {},
   "source": [
    "# **Tools/Resources used**"
   ]
  },
  {
   "cell_type": "markdown",
   "metadata": {},
   "source": [
    "1. **Programming Environment**\n",
    "   - Python 3.12.8\n",
    "   - Jupyter Notebook\n",
    "\n",
    "2. **Machine Learning and Deep Learning**\n",
    "   - PyTorch (neural network development)\n",
    "   - Hugging Face Datasets (data management)\n",
    "   - NLTK (natural language preprocessing)\n",
    "   - FastText (pre-trained word embeddings, 300-dimensional vectors)\n",
    "\n",
    "3. **Data Manipulation and Analysis**\n",
    "   - NumPy (numerical computing)\n",
    "   - Pandas (data structuring and manipulation)\n",
    "   - Scikit-learn (potential additional machine learning utilities)\n",
    "\n",
    "4. **Visualization and Tracking**\n",
    "   - Matplotlib (basic plotting)\n",
    "   - Seaborn (statistical data visualization)\n",
    "   - Weights & Biases (experiment tracking and logging)\n",
    "     * Tracked metrics: training loss, accuracy, learning rates\n",
    "     * Logged hyperparameter configurations\n",
    "     * Enabled comparative analysis across model runs\n",
    "\n",
    "5. **Computational Infrastructure**\n",
    "   - CUDA-enabled GPU acceleration\n",
    "   - GPU-optimized PyTorch operations\n",
    "   - Efficient parallel computing for model training\n",
    "\n",
    "6. **Dataset and Benchmarking**\n",
    "   - CommonsenseQA dataset (Hugging Face)\n",
    "   - Standard benchmark for commonsense reasoning tasks\n",
    "\n",
    "7. **Additional Libraries**\n",
    "   - Gensim (word vector processing)\n",
    "   - tqdm (progress bar visualization)\n",
    "   - datetime (experiment timestamping)\n",
    "\n",
    "8. **AI-Tools**\n",
    "   - Claude 3.5 Sonnet: Utilized as a coding assistant for debugging, optimization and documentation.\n",
    "   - GPT-4-turbo: Assisted in drafting and refining documentation, helping with structure and phrasing."
   ]
  },
  {
   "cell_type": "markdown",
   "metadata": {},
   "source": []
  }
 ],
 "metadata": {
  "kernelspec": {
   "display_name": "Python 3",
   "language": "python",
   "name": "python3"
  },
  "language_info": {
   "codemirror_mode": {
    "name": "ipython",
    "version": 3
   },
   "file_extension": ".py",
   "mimetype": "text/x-python",
   "name": "python",
   "nbconvert_exporter": "python",
   "pygments_lexer": "ipython3",
   "version": "3.12.8"
  }
 },
 "nbformat": 4,
 "nbformat_minor": 2
}
