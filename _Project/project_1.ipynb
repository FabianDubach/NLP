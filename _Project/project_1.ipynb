{
 "cells": [
  {
   "cell_type": "markdown",
   "metadata": {},
   "source": [
    "# **FS25 NLP Project 1: Word Embeddings/Recurrent Neural Networks**"
   ]
  },
  {
   "cell_type": "markdown",
   "metadata": {},
   "source": [
    "Fabian Dubach"
   ]
  },
  {
   "cell_type": "markdown",
   "metadata": {},
   "source": [
    "# **Introduction**"
   ]
  },
  {
   "cell_type": "markdown",
   "metadata": {},
   "source": [
    "The task for this project was to answer common sense questions with the usage of two different architectures: Word embeddings (word2vec, GloVe or fastText) with a classifier and a 2-layer RNN architecture with a classifier (LSTM or GRU). We had to also track the trainings with Wandb (workspace URL: https://wandb.ai/fabian-dubach-hochschule-luzern/CommonsenseQA?nw=nwuserfabiandubach)."
   ]
  },
  {
   "cell_type": "markdown",
   "metadata": {},
   "source": [
    "# **Setup**"
   ]
  },
  {
   "cell_type": "markdown",
   "metadata": {},
   "source": [
    "Import all libraries needed to run the code."
   ]
  },
  {
   "cell_type": "code",
   "execution_count": 1,
   "metadata": {},
   "outputs": [
    {
     "name": "stderr",
     "output_type": "stream",
     "text": [
      "c:\\Users\\fabia\\AppData\\Local\\Programs\\Python\\Python312\\Lib\\site-packages\\tqdm\\auto.py:21: TqdmWarning: IProgress not found. Please update jupyter and ipywidgets. See https://ipywidgets.readthedocs.io/en/stable/user_install.html\n",
      "  from .autonotebook import tqdm as notebook_tqdm\n"
     ]
    }
   ],
   "source": [
    "import torch\n",
    "import torch.nn as nn\n",
    "from tqdm import trange\n",
    "from torch.utils.data import DataLoader, Dataset\n",
    "from datasets import load_dataset\n",
    "from huggingface_hub import hf_hub_download\n",
    "import gensim\n",
    "import numpy as np\n",
    "import pandas as pd\n",
    "import nltk\n",
    "from nltk.corpus import stopwords\n",
    "from nltk.tokenize import word_tokenize\n",
    "from collections import Counter\n",
    "import seaborn as sns\n",
    "from tqdm import tqdm\n",
    "import time\n",
    "from datetime import datetime\n",
    "import matplotlib.pyplot as plt\n",
    "import os\n",
    "import wandb\n",
    "from lightning.pytorch.loggers import WandbLogger\n",
    "from torch.nn.utils.rnn import pad_sequence, pack_padded_sequence"
   ]
  },
  {
   "cell_type": "markdown",
   "metadata": {},
   "source": [
    "Setup random seed to ensure reproducibility.\n",
    "\n",
    "_Info about the seed value: The field of natural language processing began in the 1940s, after World War II. At this time, people recognized the importance of translation from one language to another and hoped to create a machine that could do this sort of translation automatically._"
   ]
  },
  {
   "cell_type": "code",
   "execution_count": 2,
   "metadata": {},
   "outputs": [],
   "source": [
    "SEED = 1940\n",
    "\n",
    "np.random.seed(SEED)\n",
    "torch.manual_seed(SEED)\n",
    "torch.cuda.manual_seed(SEED)\n",
    "torch.backends.cudnn.deterministic = True"
   ]
  },
  {
   "cell_type": "markdown",
   "metadata": {},
   "source": [
    "Download tokenizer files."
   ]
  },
  {
   "cell_type": "code",
   "execution_count": 3,
   "metadata": {},
   "outputs": [
    {
     "name": "stderr",
     "output_type": "stream",
     "text": [
      "[nltk_data] Downloading package punkt_tab to\n",
      "[nltk_data]     C:\\Users\\fabia\\AppData\\Roaming\\nltk_data...\n",
      "[nltk_data]   Package punkt_tab is already up-to-date!\n",
      "[nltk_data] Downloading package stopwords to\n",
      "[nltk_data]     C:\\Users\\fabia\\AppData\\Roaming\\nltk_data...\n",
      "[nltk_data]   Package stopwords is already up-to-date!\n"
     ]
    },
    {
     "data": {
      "text/plain": [
       "True"
      ]
     },
     "execution_count": 3,
     "metadata": {},
     "output_type": "execute_result"
    }
   ],
   "source": [
    "nltk.download('punkt_tab')\n",
    "nltk.download('stopwords')"
   ]
  },
  {
   "cell_type": "markdown",
   "metadata": {},
   "source": [
    "Load pre-trained FastText word embeddings (300 dimensions)\n",
    "\n",
    "I first wanted to choose GloVe, because I've seen that GloVe performs well on semantic similarity and analogical reasoning. Due to the fact that GloVe can only handle uncased embeddings (lowercase), I chose to use FastText. I used 300 dimensions, because it represents word meanings more completely than smaller options (50- or 100 dimensions) while still being practical to use."
   ]
  },
  {
   "cell_type": "code",
   "execution_count": 4,
   "metadata": {},
   "outputs": [],
   "source": [
    "model_path = hf_hub_download(repo_id=\"facebook/fasttext-en-vectors\", filename=\"model.bin\")"
   ]
  },
  {
   "cell_type": "code",
   "execution_count": 5,
   "metadata": {},
   "outputs": [],
   "source": [
    "fasttext_model = gensim.models.fasttext.load_facebook_model(model_path)\n",
    "wv = fasttext_model.wv"
   ]
  },
  {
   "cell_type": "markdown",
   "metadata": {},
   "source": [
    "Look at vector- and vocab size from the loaded embedding."
   ]
  },
  {
   "cell_type": "code",
   "execution_count": 7,
   "metadata": {},
   "outputs": [
    {
     "name": "stdout",
     "output_type": "stream",
     "text": [
      "Vector size: 300\n",
      "Vocab size: 2000000\n"
     ]
    }
   ],
   "source": [
    "print(\"Vector size:\", wv.vector_size)\n",
    "print(\"Vocab size:\", len(wv.index_to_key))"
   ]
  },
  {
   "cell_type": "markdown",
   "metadata": {},
   "source": [
    "Check if known and unknown words create vectors."
   ]
  },
  {
   "cell_type": "code",
   "execution_count": 8,
   "metadata": {},
   "outputs": [
    {
     "name": "stdout",
     "output_type": "stream",
     "text": [
      "[ 0.18165089  0.11567269  0.0433396   0.07706802  0.05069138  0.03688334\n",
      "  0.07828845  0.04980808 -0.00644083  0.01029488 -0.04722646 -0.00791209\n",
      " -0.11451723  0.03025086  0.09307548  0.01062883 -0.07683911 -0.10517459\n",
      "  0.00246387  0.07702646  0.04039837  0.01229953 -0.11466632  0.05460778\n",
      "  0.08104917  0.0413662   0.01208615  0.08066231 -0.10937778  0.0893073\n",
      " -0.03935073 -0.03060348 -0.08027591  0.08209406 -0.03217232 -0.03641732\n",
      "  0.01242283  0.05759722 -0.05894108  0.02777894 -0.18341364 -0.05084793\n",
      "  0.02241275  0.00440608  0.07912826  0.04474901 -0.03937861 -0.0721626\n",
      "  0.05589562  0.02635202  0.01346619  0.0173357   0.12057565 -0.019653\n",
      " -0.01023086 -0.00223926  0.03043848  0.00747647  0.04588774  0.06308782\n",
      " -0.1178913   0.10388953 -0.03564711  0.12567218  0.1470628   0.06018791\n",
      " -0.0574099   0.01620604  0.12471652  0.04412995  0.10071367 -0.02047683\n",
      " -0.13367647 -0.07360457 -0.13447621 -0.03744629 -0.0009886   0.0684141\n",
      "  0.06370986  0.05818591 -0.04122961 -0.0223539   0.0769026   0.09776731\n",
      "  0.02858542 -0.02261026  0.02192976  0.02389368 -0.02181333 -0.05587808\n",
      " -0.10528626 -0.01707761  0.16739199 -0.07432255  0.05840709 -0.03762028\n",
      " -0.00207798  0.01510621  0.03805321  0.03398537 -0.00906375 -0.07027729\n",
      "  0.04727545  0.02308086  0.04358866 -0.01768984  0.03916318  0.06372152\n",
      " -0.02831535  0.04534719  0.02102193  0.01108286 -0.03659292  0.04093347\n",
      " -0.06203868 -0.10862799  0.00680049  0.03481388 -0.06817614  0.02137695\n",
      " -0.00345266  0.1150042  -0.04496847 -0.08819682 -0.04952236  0.01701073\n",
      "  0.02326014 -0.04779105  0.04800141 -0.07515921 -0.01634037 -0.0811061\n",
      " -0.09424134 -0.00833836 -0.04380025 -0.03635019  0.00569909  0.00082589\n",
      " -0.11013471 -0.05401219 -0.01574623  0.04228688 -0.1068991  -0.03638983\n",
      " -0.05132256 -0.00147617 -0.10611109 -0.04120749  0.14517301  0.01697615\n",
      "  0.04895845 -0.05139152 -0.07904777 -0.03195062 -0.01784976 -0.01884896\n",
      "  0.01083412 -0.04916894  0.03224476  0.07400668 -0.03882392  0.03726387\n",
      " -0.12158169 -0.02310036  0.07332714 -0.11492305  0.06320892  0.0763358\n",
      "  0.03122582 -0.07115757 -0.01897454 -0.06736365 -0.0635465   0.07702038\n",
      "  0.06505896 -0.01860097  0.01857694  0.01654613  0.07221819 -0.00398161\n",
      "  0.18419957  0.05156292  0.00093686  0.09514098  0.06906874  0.03903695\n",
      "  0.0858674   0.02365539 -0.01141509 -0.05531562 -0.04065567 -0.17426042\n",
      " -0.05206808 -0.05193314 -0.05110309 -0.0522124  -0.1663761   0.10091858\n",
      "  0.00916502  0.09908608 -0.12705521 -0.00574662  0.04638401  0.0341948\n",
      " -0.2017314  -0.01244436  0.03252782 -0.02472054 -0.05050343  0.01227911\n",
      " -0.02038734  0.0036418  -0.05424974 -0.07783546 -0.01223209  0.0302521\n",
      " -0.00328729  0.00968582 -0.00269379 -0.0475513  -0.04994595  0.01874385\n",
      "  0.07220112 -0.05906899  0.1008291   0.02528204 -0.0778743  -0.10279019\n",
      " -0.02604302  0.0789118   0.02627861  0.09560115 -0.0089255  -0.07674091\n",
      "  0.01429606  0.01313404 -0.03895061  0.11260032 -0.04728229 -0.01135568\n",
      " -0.05426588 -0.15327632 -0.01439532  0.12041174  0.18071084 -0.00982607\n",
      "  0.0427782   0.16305949 -0.04483898 -0.05071171  0.01258892 -0.05913531\n",
      "  0.07538383 -0.09350947  0.03784867  0.1473783  -0.01954721 -0.02140094\n",
      "  0.07979327  0.05211494  0.03398424 -0.03633638 -0.02617038 -0.04646286\n",
      "  0.00825945 -0.04652121 -0.10042215 -0.03944197  0.0306065  -0.07439391\n",
      "  0.02664843 -0.10097454 -0.12594806  0.06312321 -0.00922106 -0.01078579\n",
      " -0.06060401 -0.10091601 -0.04235916 -0.01697931 -0.12506312 -0.08156627\n",
      " -0.07982061  0.05424746 -0.01857662  0.07154027  0.0322356  -0.19313999\n",
      "  0.04096438 -0.05646858  0.06730992  0.08486427 -0.11022168 -0.02145613\n",
      "  0.03925505  0.00298458 -0.04771789  0.07572205 -0.05758004  0.05284115]\n",
      "[ 2.97031272e-03  3.40607017e-04  1.35063501e-02  2.93574780e-02\n",
      " -1.66248605e-02 -4.51960368e-03 -8.67080130e-03 -1.12947375e-02\n",
      "  5.02542593e-04 -2.30718181e-02  5.68294479e-03 -3.38404393e-03\n",
      " -3.09460368e-02 -1.09714689e-02 -2.44773198e-02 -3.85160223e-02\n",
      " -4.03666310e-03  9.80488118e-03  2.64563505e-02  1.16144745e-02\n",
      " -2.05351971e-02 -1.66083947e-02 -1.57732107e-02  1.37995873e-02\n",
      "  6.12373911e-02  2.04167552e-02 -2.18895636e-02  1.36729470e-02\n",
      " -7.38288276e-04  4.07587364e-02  9.82565433e-03 -5.22660743e-03\n",
      " -2.72591747e-02  2.39877030e-04  2.72601694e-02 -7.30554573e-03\n",
      " -7.46898074e-03  3.45904604e-02 -1.36964126e-02  8.17707554e-03\n",
      " -3.78858764e-04 -1.66866789e-03 -4.06378694e-03  1.16347906e-03\n",
      " -1.48788150e-02 -1.11557706e-03 -2.64112502e-02  1.93093754e-02\n",
      "  4.82143369e-05  1.11076599e-02 -5.57333278e-03 -2.02334821e-02\n",
      " -5.56224864e-03 -1.40912673e-02 -4.07067593e-03 -1.03690466e-02\n",
      "  1.03850681e-02 -1.74085610e-04  1.87323149e-03  6.40070857e-03\n",
      " -2.11857259e-02  2.32436489e-02  2.91495547e-02  1.68980546e-02\n",
      "  1.82434507e-02 -7.73929153e-03  1.24754850e-04  3.14254016e-02\n",
      " -1.45284357e-02 -3.61171342e-03  1.89932454e-02  1.73607543e-02\n",
      "  2.68886834e-02 -9.54429246e-03  3.21093481e-03  2.74840128e-02\n",
      "  2.84707323e-02 -3.91487079e-03 -3.98980305e-02  9.42743290e-03\n",
      " -5.71705354e-03  8.97879433e-03 -2.02749725e-02 -1.72194261e-02\n",
      " -1.56093184e-02  1.08502861e-02 -2.46748626e-02 -1.43537782e-02\n",
      "  1.35887396e-02 -8.45968444e-03 -1.35286013e-02 -5.01403864e-03\n",
      " -4.48085777e-02 -3.08049601e-02  3.79183553e-02  2.43808702e-02\n",
      " -3.35939345e-03 -2.70930771e-02  9.02074948e-03 -9.43065993e-03\n",
      " -8.52887053e-03  2.13081688e-02 -1.14998790e-02  3.32715586e-02\n",
      "  3.25527275e-03 -2.28147060e-02  2.05057748e-02 -6.26413152e-04\n",
      " -1.83614921e-02 -1.79118495e-02 -2.35025696e-02 -1.30714970e-02\n",
      "  2.03093532e-02  1.70697533e-02  3.10187973e-03  1.46194333e-02\n",
      "  1.90508738e-02 -4.25692531e-04  1.53421955e-02  1.19441962e-02\n",
      " -1.82501115e-02  1.81834511e-02  2.02173367e-02  1.03911823e-02\n",
      "  1.32278595e-02  3.40679288e-02 -3.91585007e-03 -1.21597517e-02\n",
      " -3.20007317e-02 -4.53492627e-02 -1.37786716e-02  2.59805052e-03\n",
      "  1.04692494e-02  7.84383155e-03  1.00294286e-02  2.98436992e-02\n",
      "  2.26405542e-03 -6.88534603e-02  5.67903509e-04  2.41571292e-02\n",
      "  3.25823277e-02  2.73115188e-03  3.12146135e-02 -2.77856737e-03\n",
      " -2.80041881e-02 -1.32836225e-02 -4.72761244e-02  8.95016082e-03\n",
      "  1.37353586e-02 -9.06289183e-03 -9.90835205e-03 -2.22451612e-02\n",
      " -4.23793234e-02  1.15017984e-02 -1.13643520e-02 -5.86752780e-03\n",
      "  1.97005048e-02 -1.65714752e-02 -3.29226032e-02 -3.40121016e-02\n",
      " -1.42437983e-02 -3.28963995e-02 -2.42249426e-02 -1.94186112e-04\n",
      "  2.79154489e-03  1.65105611e-02 -1.69017445e-03 -1.43269617e-02\n",
      "  1.87001675e-02  3.19226235e-02  1.38433184e-03  1.35733746e-03\n",
      "  6.50663953e-03  4.00839783e-02  1.95277035e-02  1.99907795e-02\n",
      "  2.27622110e-02 -2.01473311e-02 -4.46982123e-03 -1.65324099e-02\n",
      " -8.98451544e-03  5.89326955e-02  1.64911151e-04 -4.51234542e-02\n",
      " -8.38645268e-03 -2.88774259e-02  4.81655523e-02 -1.78609192e-02\n",
      "  4.33279295e-03  1.69598730e-03  2.18791002e-03 -5.14529757e-02\n",
      "  1.13792485e-02  1.45653859e-02  7.55027635e-03 -4.22895979e-03\n",
      " -1.68361403e-02 -9.19132959e-03  1.15000028e-02  7.05640689e-02\n",
      " -3.06501165e-02 -2.66216602e-02 -1.16075836e-02  9.75436182e-04\n",
      "  1.90271437e-02 -1.22778583e-03  1.93538722e-02 -1.18292756e-02\n",
      " -1.17262881e-02 -3.88801144e-03  8.71444494e-03 -8.63834564e-03\n",
      "  4.71205711e-02 -3.17980675e-03 -3.98652535e-03 -3.67477909e-02\n",
      "  5.05029224e-03 -8.52162018e-04  2.24850699e-02  1.90338120e-02\n",
      "  2.18193000e-03 -6.26519462e-03  6.64199516e-03  3.27939838e-02\n",
      " -1.07904226e-02  2.56617740e-02 -3.96525767e-03  1.32368263e-02\n",
      "  4.46370151e-03  3.89272422e-02 -4.79178177e-03  2.30782684e-02\n",
      " -9.04239714e-03 -4.27850196e-03  1.37756765e-03  2.42634136e-02\n",
      "  1.96271557e-02 -1.84338465e-02 -1.19003309e-02  2.79325228e-02\n",
      "  2.62266435e-02 -1.89277017e-03  5.57764154e-03  9.38646961e-04\n",
      "  1.00615583e-02 -5.87627385e-03 -3.74485888e-02  7.30309810e-04\n",
      "  2.61170976e-03  1.31001249e-02  5.17663807e-02 -6.09678123e-03\n",
      "  2.08204240e-03  3.05297645e-03 -6.55129086e-04  3.70363481e-02\n",
      "  2.09345110e-02  2.66017374e-02 -2.22177505e-02  6.65352121e-03\n",
      " -4.22321353e-03 -3.90813574e-02 -5.70038706e-02 -6.74200896e-03\n",
      " -3.33354156e-03  2.69167684e-02 -1.34572312e-02 -1.81922615e-02\n",
      " -2.74327490e-03  5.70894331e-02 -1.24959555e-02  1.40244532e-02\n",
      " -3.02684549e-02 -3.32553647e-02 -6.50998484e-03  4.89529921e-03\n",
      " -2.79670209e-03 -4.29512933e-04 -3.40325907e-02  1.51196644e-02\n",
      " -4.84470464e-03 -1.25906412e-02 -2.59634238e-02 -1.98244564e-02\n",
      "  4.63081989e-03 -2.00663246e-02  9.28043202e-03 -4.17923965e-02\n",
      "  4.47282568e-03 -9.66400094e-03  1.92939490e-02  1.55542558e-02\n",
      " -6.89376099e-03 -2.16794945e-02  2.61401087e-02 -2.22004335e-02\n",
      " -1.60159566e-03  1.69389732e-02  1.71379279e-03 -2.13609561e-02]\n"
     ]
    }
   ],
   "source": [
    "print(wv[\"Hello\"])\n",
    "print(wv[\"jwadAJKJDwljlkdajl\"])"
   ]
  },
  {
   "cell_type": "markdown",
   "metadata": {},
   "source": [
    "For the project, we had to use the CommonsenseQA dataset, which is a multiple-choice question answering dataset that contains 12'247 different questions and was developed to benchmark machine understanding of everyday knowledge. For each questions there are 5 given answer choices, where only one of them is correct. To be able to answer these questions, \"commonsense\" is needed. The dataset is available on HuggingFace: https://huggingface.co/datasets/tau/commonsense_qa."
   ]
  },
  {
   "cell_type": "markdown",
   "metadata": {},
   "source": [
    "I split the dataset into training, validation and test sets to allow for model development and evaluation. I used the last 1'000 examples from the training set for validation and the original validation set for testing, since the real test set has no answer keys."
   ]
  },
  {
   "cell_type": "code",
   "execution_count": 9,
   "metadata": {},
   "outputs": [
    {
     "name": "stdout",
     "output_type": "stream",
     "text": [
      "8741 1000 1221\n"
     ]
    }
   ],
   "source": [
    "train = load_dataset(\"tau/commonsense_qa\", split=\"train[:-1000]\")\n",
    "valid = load_dataset(\"tau/commonsense_qa\", split=\"train[-1000:]\")\n",
    "test = load_dataset(\"tau/commonsense_qa\", split=\"validation\")\n",
    "\n",
    "print(len(train), len(valid), len(test))"
   ]
  },
  {
   "cell_type": "markdown",
   "metadata": {},
   "source": [
    "# **Data Exploration**"
   ]
  },
  {
   "cell_type": "markdown",
   "metadata": {},
   "source": [
    "In this section I tried to get some insight to understand its structure and patterns."
   ]
  },
  {
   "cell_type": "markdown",
   "metadata": {},
   "source": [
    "### 1. Explore dataset structure"
   ]
  },
  {
   "cell_type": "code",
   "execution_count": 10,
   "metadata": {},
   "outputs": [
    {
     "name": "stdout",
     "output_type": "stream",
     "text": [
      "\u001b[4mDataset Features\u001b[0m\n",
      "id\n",
      "question\n",
      "question_concept\n",
      "choices\n",
      "answerKey\n",
      "\n",
      "\u001b[4mExample\u001b[0m\n",
      "id: 075e483d21c29a511267ef62bedc0461\n",
      "question: The sanctions against the school were a punishing blow, and they seemed to what the efforts the school had made to change?\n",
      "question_concept: punishing\n",
      "choices: {'label': ['A', 'B', 'C', 'D', 'E'], 'text': ['ignore', 'enforce', 'authoritarian', 'yell at', 'avoid']}\n",
      "answerKey: A\n"
     ]
    }
   ],
   "source": [
    "print(\"\\033[4m\" + \"Dataset Features\" + \"\\033[0m\")\n",
    "for feature in train.features:\n",
    "    print(feature)\n",
    "print(\"\\n\" + \"\\033[4m\" + \"Example\" + \"\\033[0m\")\n",
    "for feature in train.features:\n",
    "    print(feature + \":\", train[0][str(feature)])"
   ]
  },
  {
   "cell_type": "markdown",
   "metadata": {},
   "source": [
    "### 2. Get a general info about each dataset"
   ]
  },
  {
   "cell_type": "code",
   "execution_count": 11,
   "metadata": {},
   "outputs": [],
   "source": [
    "def dataset_to_df(dataset):\n",
    "    return pd.DataFrame(dataset)\n",
    "\n",
    "train_df = dataset_to_df(train)\n",
    "valid_df = dataset_to_df(valid)\n",
    "test_df = dataset_to_df(test)"
   ]
  },
  {
   "cell_type": "code",
   "execution_count": 12,
   "metadata": {},
   "outputs": [
    {
     "name": "stdout",
     "output_type": "stream",
     "text": [
      "\u001b[4mTrain Info\u001b[0m\n",
      "<class 'pandas.core.frame.DataFrame'>\n",
      "RangeIndex: 8741 entries, 0 to 8740\n",
      "Data columns (total 5 columns):\n",
      " #   Column            Non-Null Count  Dtype \n",
      "---  ------            --------------  ----- \n",
      " 0   id                8741 non-null   object\n",
      " 1   question          8741 non-null   object\n",
      " 2   question_concept  8741 non-null   object\n",
      " 3   choices           8741 non-null   object\n",
      " 4   answerKey         8741 non-null   object\n",
      "dtypes: object(5)\n",
      "memory usage: 341.6+ KB\n",
      "None\n"
     ]
    }
   ],
   "source": [
    "print(\"\\033[4m\" + \"Train Info\" + \"\\033[0m\")\n",
    "print(train_df.info())"
   ]
  },
  {
   "cell_type": "code",
   "execution_count": 13,
   "metadata": {},
   "outputs": [
    {
     "name": "stdout",
     "output_type": "stream",
     "text": [
      "\u001b[4mValidation Info\u001b[0m\n",
      "<class 'pandas.core.frame.DataFrame'>\n",
      "RangeIndex: 1000 entries, 0 to 999\n",
      "Data columns (total 5 columns):\n",
      " #   Column            Non-Null Count  Dtype \n",
      "---  ------            --------------  ----- \n",
      " 0   id                1000 non-null   object\n",
      " 1   question          1000 non-null   object\n",
      " 2   question_concept  1000 non-null   object\n",
      " 3   choices           1000 non-null   object\n",
      " 4   answerKey         1000 non-null   object\n",
      "dtypes: object(5)\n",
      "memory usage: 39.2+ KB\n",
      "None\n"
     ]
    }
   ],
   "source": [
    "print(\"\\033[4m\" + \"Validation Info\" + \"\\033[0m\")\n",
    "print(valid_df.info())"
   ]
  },
  {
   "cell_type": "code",
   "execution_count": 14,
   "metadata": {},
   "outputs": [
    {
     "name": "stdout",
     "output_type": "stream",
     "text": [
      "\u001b[4mTest Info\u001b[0m\n",
      "<class 'pandas.core.frame.DataFrame'>\n",
      "RangeIndex: 1221 entries, 0 to 1220\n",
      "Data columns (total 5 columns):\n",
      " #   Column            Non-Null Count  Dtype \n",
      "---  ------            --------------  ----- \n",
      " 0   id                1221 non-null   object\n",
      " 1   question          1221 non-null   object\n",
      " 2   question_concept  1221 non-null   object\n",
      " 3   choices           1221 non-null   object\n",
      " 4   answerKey         1221 non-null   object\n",
      "dtypes: object(5)\n",
      "memory usage: 47.8+ KB\n",
      "None\n"
     ]
    }
   ],
   "source": [
    "print(\"\\033[4m\" + \"Test Info\" + \"\\033[0m\")\n",
    "print(test_df.info())"
   ]
  },
  {
   "cell_type": "markdown",
   "metadata": {},
   "source": [
    "### 3. Analyze question lengths"
   ]
  },
  {
   "cell_type": "code",
   "execution_count": 15,
   "metadata": {},
   "outputs": [
    {
     "name": "stdout",
     "output_type": "stream",
     "text": [
      "\u001b[4mQuestion length (characters)\u001b[0m\n",
      "Min: 15\n",
      "Max: 376\n",
      "Mean: 69.31\n",
      "Median: 64.0\n",
      "\n",
      "\u001b[4mQuestion Word Count\u001b[0m\n",
      "Min: 3\n",
      "Max: 63\n",
      "Mean: 13.23\n",
      "Median: 12.0\n"
     ]
    }
   ],
   "source": [
    "combined_df = pd.concat([train_df, valid_df, test_df], ignore_index=True)\n",
    "\n",
    "combined_df['question_length'] = combined_df['question'].apply(len)\n",
    "combined_df['question_word_count'] = combined_df['question'].apply(lambda x: len(x.split()))\n",
    "\n",
    "print(\"\\033[4m\" + \"Question length (characters)\" + \"\\033[0m\")\n",
    "print(f\"Min: {combined_df['question_length'].min()}\")\n",
    "print(f\"Max: {combined_df['question_length'].max()}\")\n",
    "print(f\"Mean: {combined_df['question_length'].mean():.2f}\")\n",
    "print(f\"Median: {combined_df['question_length'].median()}\")\n",
    "\n",
    "print(\"\\n\\033[4m\" + \"Question Word Count\" + \"\\033[0m\")\n",
    "print(f\"Min: {combined_df['question_word_count'].min()}\")\n",
    "print(f\"Max: {combined_df['question_word_count'].max()}\")\n",
    "print(f\"Mean: {combined_df['question_word_count'].mean():.2f}\")\n",
    "print(f\"Median: {combined_df['question_word_count'].median()}\")"
   ]
  },
  {
   "cell_type": "markdown",
   "metadata": {},
   "source": [
    "### 4. Analyze option lengths"
   ]
  },
  {
   "cell_type": "code",
   "execution_count": 16,
   "metadata": {},
   "outputs": [
    {
     "name": "stdout",
     "output_type": "stream",
     "text": [
      "\u001b[4mOption length (characters)\u001b[0m\n",
      "Min: 3\n",
      "Max: 149\n",
      "Mean: 9.34\n",
      "Median: 9.0\n",
      "\u001b[4m\n",
      "Option word count\u001b[0m\n",
      "Min: 1\n",
      "Max: 26\n",
      "Mean: 1.52\n",
      "Median: 1.0\n"
     ]
    }
   ],
   "source": [
    "def get_option_lengths(choices):\n",
    "    return [len(text) for text in choices['text']]\n",
    "\n",
    "def get_option_word_counts(choices):\n",
    "    return [len(text.split()) for text in choices['text']]\n",
    "\n",
    "combined_df['option_lengths'] = combined_df['choices'].apply(get_option_lengths)\n",
    "combined_df['option_word_counts'] = combined_df['choices'].apply(get_option_word_counts)\n",
    "\n",
    "# Flatten the lists for analysis\n",
    "all_option_lengths = [length for lengths in combined_df['option_lengths'] for length in lengths]\n",
    "all_option_word_counts = [count for counts in combined_df['option_word_counts'] for count in counts]\n",
    "\n",
    "print(\"\\033[4m\" + \"Option length (characters)\" + \"\\033[0m\")\n",
    "print(f\"Min: {min(all_option_lengths)}\")\n",
    "print(f\"Max: {max(all_option_lengths)}\")\n",
    "print(f\"Mean: {np.mean(all_option_lengths):.2f}\")\n",
    "print(f\"Median: {np.median(all_option_lengths)}\")\n",
    "\n",
    "print(\"\\033[4m\" + \"\\nOption word count\" + \"\\033[0m\")\n",
    "print(f\"Min: {min(all_option_word_counts)}\")\n",
    "print(f\"Max: {max(all_option_word_counts)}\")\n",
    "print(f\"Mean: {np.mean(all_option_word_counts):.2f}\")\n",
    "print(f\"Median: {np.median(all_option_word_counts)}\")"
   ]
  },
  {
   "cell_type": "markdown",
   "metadata": {},
   "source": [
    "### 5. Analyze answer distribution"
   ]
  },
  {
   "cell_type": "code",
   "execution_count": 17,
   "metadata": {},
   "outputs": [
    {
     "name": "stdout",
     "output_type": "stream",
     "text": [
      "\u001b[4mAnswer Distribution\u001b[0m\n",
      "answer_letter\n",
      "D    2236\n",
      "B    2228\n",
      "C    2187\n",
      "E    2163\n",
      "A    2148\n",
      "Name: count, dtype: int64 \n",
      "\n",
      "answer_letter\n",
      "D     20.4%\n",
      "B    20.32%\n",
      "C    19.95%\n",
      "E    19.73%\n",
      "A    19.59%\n",
      "Name: proportion, dtype: object\n"
     ]
    }
   ],
   "source": [
    "def extract_answer_letter(example):\n",
    "    return example['answerKey']\n",
    "\n",
    "combined_df['answer_letter'] = combined_df.apply(extract_answer_letter, axis=1)\n",
    "\n",
    "print(\"\\033[4m\" + \"Answer Distribution\" + \"\\033[0m\")\n",
    "print(combined_df['answer_letter'].value_counts(), \"\\n\")\n",
    "print(combined_df['answer_letter'].value_counts(normalize=True).mul(100).round(2).astype(str) + '%')"
   ]
  },
  {
   "cell_type": "markdown",
   "metadata": {},
   "source": [
    "### 6. Extract common question words/phrases"
   ]
  },
  {
   "cell_type": "code",
   "execution_count": 18,
   "metadata": {},
   "outputs": [
    {
     "name": "stdout",
     "output_type": "stream",
     "text": [
      "\u001b[4mCommon Words in Questions\u001b[0m\n",
      "would: 1101\n",
      "people: 694\n",
      "might: 669\n",
      "likely: 637\n",
      "someone: 556\n",
      "find: 509\n",
      "could: 502\n",
      "person: 498\n",
      "get: 372\n",
      "one: 367\n"
     ]
    }
   ],
   "source": [
    "def get_common_words(text_series, top_n=20):\n",
    "    stop_words = set(stopwords.words('english'))\n",
    "    all_words = []\n",
    "    \n",
    "    for text in text_series:\n",
    "        words = word_tokenize(text.lower())\n",
    "        filtered_words = [word for word in words if word.isalnum() and word not in stop_words]\n",
    "        all_words.extend(filtered_words)\n",
    "    \n",
    "    return Counter(all_words).most_common(top_n)\n",
    "\n",
    "print(\"\\033[4m\" + \"Common Words in Questions\" + \"\\033[0m\")\n",
    "common_words = get_common_words(train_df['question'], 10)\n",
    "for word, count in common_words:\n",
    "    print(f\"{word}: {count}\")"
   ]
  },
  {
   "cell_type": "markdown",
   "metadata": {},
   "source": [
    "### 7. Visualize question length distribution"
   ]
  },
  {
   "cell_type": "code",
   "execution_count": 19,
   "metadata": {},
   "outputs": [
    {
     "data": {
      "text/plain": [
       "Text(0, 0.5, 'Frequency')"
      ]
     },
     "execution_count": 19,
     "metadata": {},
     "output_type": "execute_result"
    },
    {
     "data": {
      "image/png": "[encoded data removed]",
      "text/plain": [
       "<Figure size 800x400 with 1 Axes>"
      ]
     },
     "metadata": {},
     "output_type": "display_data"
    }
   ],
   "source": [
    "plt.figure(figsize=(8, 4))\n",
    "sns.histplot(combined_df['question_word_count'], bins=20, kde=True)\n",
    "plt.title('Distribution of Question Word Count')\n",
    "plt.xlabel('Number of Words')\n",
    "plt.ylabel('Frequency')"
   ]
  },
  {
   "cell_type": "markdown",
   "metadata": {},
   "source": [
    "### 8. Visualize answer distribution"
   ]
  },
  {
   "cell_type": "code",
   "execution_count": 20,
   "metadata": {},
   "outputs": [
    {
     "data": {
      "text/plain": [
       "Text(0, 0.5, 'Count')"
      ]
     },
     "execution_count": 20,
     "metadata": {},
     "output_type": "execute_result"
    },
    {
     "data": {
      "image/png": "[encoded data removed]",
      "text/plain": [
       "<Figure size 800x400 with 1 Axes>"
      ]
     },
     "metadata": {},
     "output_type": "display_data"
    }
   ],
   "source": [
    "plt.figure(figsize=(8, 4))\n",
    "sns.countplot(x='answer_letter', data=combined_df, order=combined_df['answer_letter'].value_counts().index)\n",
    "plt.title('Distribution of Answers')\n",
    "plt.xlabel('Answer Option')\n",
    "plt.ylabel('Count')"
   ]
  },
  {
   "cell_type": "markdown",
   "metadata": {},
   "source": [
    "# **Preprocessing**"
   ]
  },
  {
   "cell_type": "markdown",
   "metadata": {},
   "source": [
    "For the preprocessing I looked at the following points:\n",
    "\n",
    "1. Tokenization\n",
    "2. Lowercasing, stemming, lemmatizing, stopword/punctuation removal \n",
    "3. Removal of unknown/other words \n",
    "4. Format cleaning (e.g. html-extracted text) \n",
    "5. Truncation \n",
    "6. Feature selection "
   ]
  },
  {
   "cell_type": "markdown",
   "metadata": {},
   "source": [
    "Here are my decisions and justifications for using or not using the above listed preprocessing methods:\n",
    "\n",
    "1. Tokenization is absolutely mandatory.\n",
    "2. I chose not to use lowercasing to keep the semantic meaning of the words. Stemming and lemmatizing are not needed, because FastText already captures semantic similarities. Stopword/Punctuation removal is generally not a needed for a RNN due to the fact that the model can then learn to ignore irrelevant words by itself.\n",
    "3. Removal of unknown/other words is also not needed, because FastText can handle them.\n",
    "4. Format cleaning is not needed, because the CommonsenseQA dataset doesn't include any markup text.\n",
    "5. Due to the fact that the longest question is 376 characters long, truncation is not needed.\n",
    "6. Feature selection is also not needed. RNNs typically work with the full sequence rather than selected features."
   ]
  },
  {
   "cell_type": "code",
   "execution_count": 21,
   "metadata": {},
   "outputs": [],
   "source": [
    "def preprocessing(text):\n",
    "    tokens = nltk.tokenize.word_tokenize(text)\n",
    "    return tokens"
   ]
  },
  {
   "cell_type": "markdown",
   "metadata": {},
   "source": [
    "### **Word Embedding**"
   ]
  },
  {
   "cell_type": "markdown",
   "metadata": {},
   "source": [
    "The get_embedding function transforms any text sentence into a fixed-length vector representation by averaging the word embeddings of each token in the sentence. If no tokens were found, a zero vector is being returned."
   ]
  },
  {
   "cell_type": "code",
   "execution_count": 22,
   "metadata": {},
   "outputs": [],
   "source": [
    "def get_embedding(sentence):\n",
    "    tokens = preprocessing(sentence)\n",
    "    word_vectors = []\n",
    "    for token in tokens:\n",
    "        try:\n",
    "            # Correct syntax for fasttext_model\n",
    "            word_vectors.append(fasttext_model.wv[token])  # Use .wv attribute\n",
    "        except KeyError:\n",
    "            # Skip tokens not in vocabulary\n",
    "            continue\n",
    "    \n",
    "    # Return the mean of the word vectors\n",
    "    if word_vectors:\n",
    "        return np.mean(word_vectors, axis=0)\n",
    "    else:\n",
    "        return np.zeros(fasttext_model.vector_size)  # Return a zero vector if no tokens were found"
   ]
  },
  {
   "cell_type": "markdown",
   "metadata": {},
   "source": [
    "For the model to interpret the answers correctly, I converted the answer keys into numerical indices (0, 1, 2, 3, 4)."
   ]
  },
  {
   "cell_type": "code",
   "execution_count": 23,
   "metadata": {},
   "outputs": [],
   "source": [
    "def answer_key_to_index(answer_key):\n",
    "  return ord(answer_key) - ord(\"A\")"
   ]
  },
  {
   "cell_type": "markdown",
   "metadata": {},
   "source": [
    "The compute_embeddings function creates embeddings for every text data (questions and choices)."
   ]
  },
  {
   "cell_type": "code",
   "execution_count": 24,
   "metadata": {},
   "outputs": [
    {
     "name": "stderr",
     "output_type": "stream",
     "text": [
      "Map: 100%|██████████| 8741/8741 [00:04<00:00, 1775.60 examples/s]\n",
      "Map: 100%|██████████| 1000/1000 [00:01<00:00, 666.28 examples/s]\n"
     ]
    }
   ],
   "source": [
    "def compute_embeddings(example):\n",
    "    question_embeddings = get_embedding(example[\"question\"])\n",
    "    choice_embeddings = [get_embedding(choice) for choice in example[\"choices\"][\"text\"]]\n",
    "    \n",
    "    # Save embeddings as lists so they can be stored in the dataset\n",
    "    example[\"question_emb\"] = question_embeddings.tolist()\n",
    "    example[\"choice_embs\"] = [embedding.tolist() for embedding in choice_embeddings]\n",
    "    return example\n",
    "\n",
    "train = train.map(compute_embeddings)\n",
    "valid = valid.map(compute_embeddings)"
   ]
  },
  {
   "cell_type": "markdown",
   "metadata": {},
   "source": [
    "Implement a class which can convert a regular dataset into a PyTorch-compatible dataset."
   ]
  },
  {
   "cell_type": "code",
   "execution_count": 25,
   "metadata": {},
   "outputs": [],
   "source": [
    "class CommonsenseQADataset(Dataset):\n",
    "    def __init__(self, dataset):\n",
    "        self.data = dataset\n",
    "\n",
    "    def __len__(self):\n",
    "        return len(self.data)\n",
    "\n",
    "    def __getitem__(self, idx):\n",
    "        example = self.data[idx]\n",
    "        question_tensor = torch.tensor(example[\"question_emb\"]).float()\n",
    "        choices_tensor = torch.tensor(example[\"choice_embs\"]).float()\n",
    "        answer_index = answer_key_to_index(example[\"answerKey\"])\n",
    "        return question_tensor, choices_tensor, torch.tensor(answer_index).long()"
   ]
  },
  {
   "cell_type": "markdown",
   "metadata": {},
   "source": [
    "Create a PyTorch-compatible dataset for the train and the validation dataset."
   ]
  },
  {
   "cell_type": "code",
   "execution_count": 26,
   "metadata": {},
   "outputs": [],
   "source": [
    "train_dataset = CommonsenseQADataset(train)\n",
    "valid_dataset = CommonsenseQADataset(valid)"
   ]
  },
  {
   "cell_type": "markdown",
   "metadata": {},
   "source": [
    "Batch the dataset for training."
   ]
  },
  {
   "cell_type": "code",
   "execution_count": 27,
   "metadata": {},
   "outputs": [],
   "source": [
    "embedding_batch_size = 32\n",
    "\n",
    "train_loader = DataLoader(train_dataset, batch_size=embedding_batch_size, shuffle=True, num_workers=0)\n",
    "valid_loader = DataLoader(valid_dataset, batch_size=embedding_batch_size, shuffle=True, num_workers=0)"
   ]
  },
  {
   "cell_type": "markdown",
   "metadata": {},
   "source": [
    "Verify the structure and shapes of the data batches."
   ]
  },
  {
   "cell_type": "code",
   "execution_count": 28,
   "metadata": {},
   "outputs": [
    {
     "name": "stdout",
     "output_type": "stream",
     "text": [
      "torch.Size([32, 300]) torch.Size([32, 5, 300]) torch.Size([32]) tensor([2, 3, 0, 1, 4, 4, 2, 1, 4, 4, 0, 0, 0, 4, 2, 3, 0, 2, 3, 2, 2, 2, 1, 4,\n",
      "        2, 1, 1, 3, 1, 4, 0, 2])\n"
     ]
    }
   ],
   "source": [
    "for batch in train_loader:\n",
    "    print(batch[0].shape, batch[1].shape, batch[2].shape, batch[2])\n",
    "    break"
   ]
  },
  {
   "cell_type": "markdown",
   "metadata": {},
   "source": [
    "### **RNN**"
   ]
  },
  {
   "cell_type": "code",
   "execution_count": 55,
   "metadata": {},
   "outputs": [],
   "source": [
    "class CommonsenseQARNNDataset(Dataset):\n",
    "    def __init__(self, hf_dataset, word_vectors, embedding_dim=300):\n",
    "        self.data = hf_dataset\n",
    "        self.wv = word_vectors\n",
    "        self.embedding_dim = embedding_dim\n",
    "        self.SEP_TOKEN = \"<SEP>\"\n",
    "    \n",
    "    def __len__(self):\n",
    "        return len(self.data)\n",
    "    \n",
    "    def __getitem__(self, idx):\n",
    "        example = self.data[idx]\n",
    "        \n",
    "        # Tokenize question and choices\n",
    "        question_tokens = preprocessing(example[\"question\"])\n",
    "        choice_tokens = [preprocessing(choice) for choice in example[\"choices\"][\"text\"]]\n",
    "        \n",
    "        # Create sequences and lengths for each choice\n",
    "        sequences = []\n",
    "        lengths = []\n",
    "        for choice in choice_tokens:\n",
    "            # Combine question and choice\n",
    "            full_sequence = question_tokens + [self.SEP_TOKEN] + choice\n",
    "            \n",
    "            # Convert to embeddings\n",
    "            embeddings = []\n",
    "            for token in full_sequence:\n",
    "                try:\n",
    "                    # Use pretrained embedding\n",
    "                    if token == self.SEP_TOKEN:\n",
    "                        embeddings.append(torch.randn(self.embedding_dim) * 0.1)\n",
    "                    else:\n",
    "                        embeddings.append(torch.tensor(self.wv[token]))\n",
    "                except KeyError:\n",
    "                    # For OOV words, use random embedding\n",
    "                    embeddings.append(torch.randn(self.embedding_dim) * 0.1)\n",
    "            \n",
    "            # Convert to tensor\n",
    "            sequences.append(torch.stack(embeddings))\n",
    "            lengths.append(len(embeddings))\n",
    "        \n",
    "        # Convert answer to index\n",
    "        answer = ord(example[\"answerKey\"]) - ord(\"A\")\n",
    "        \n",
    "        return sequences, torch.tensor(lengths), torch.tensor(answer)"
   ]
  },
  {
   "cell_type": "code",
   "execution_count": 56,
   "metadata": {},
   "outputs": [],
   "source": [
    "def rnn_collate_batch(batch):\n",
    "    # Separate sequences, lengths, and answers\n",
    "    all_sequences = []\n",
    "    all_lengths = []\n",
    "    all_answers = []\n",
    "    \n",
    "    batch_size = len(batch)\n",
    "    num_choices = len(batch[0][0])  # Number of choices per example\n",
    "    \n",
    "    for sequences, lengths, answer in batch:\n",
    "        all_sequences.extend(sequences)\n",
    "        all_lengths.append(lengths)\n",
    "        all_answers.append(answer)\n",
    "    \n",
    "    # Combine and sort lengths\n",
    "    lengths_tensor = torch.cat(all_lengths)\n",
    "    sorted_indices = torch.argsort(lengths_tensor, descending=True)\n",
    "    \n",
    "    # Reorder sequences and lengths based on sorted indices\n",
    "    sorted_sequences = [all_sequences[i] for i in sorted_indices]\n",
    "    sorted_lengths = lengths_tensor[sorted_indices]\n",
    "    \n",
    "    # Pad sequences\n",
    "    padded_sequences = pad_sequence(sorted_sequences, batch_first=True)\n",
    "    \n",
    "    # Create indices to reconstruct original batch order\n",
    "    indices = torch.arange(len(sorted_indices)).view(batch_size, num_choices)\n",
    "    \n",
    "    # Stack answers\n",
    "    answers_tensor = torch.stack(all_answers)\n",
    "    \n",
    "    return padded_sequences, sorted_lengths, indices, answers_tensor"
   ]
  },
  {
   "cell_type": "code",
   "execution_count": 57,
   "metadata": {},
   "outputs": [
    {
     "name": "stdout",
     "output_type": "stream",
     "text": [
      "Number of sequences: 5\n",
      "Sequence 0 shape: torch.Size([26, 300])\n",
      "Sequence 1 shape: torch.Size([26, 300])\n",
      "Sequence 2 shape: torch.Size([26, 300])\n",
      "Sequence 3 shape: torch.Size([27, 300])\n",
      "Sequence 4 shape: torch.Size([26, 300])\n",
      "Sequence lengths: tensor([26, 26, 26, 27, 26])\n",
      "Correct answer: 0\n"
     ]
    }
   ],
   "source": [
    "train_rnn_dataset = CommonsenseQARNNDataset(\n",
    "    train, \n",
    "    wv,\n",
    "    embedding_dim=300\n",
    ")\n",
    "\n",
    "valid_rnn_dataset = CommonsenseQARNNDataset(\n",
    "    valid, \n",
    "    wv,\n",
    "    embedding_dim=300\n",
    ")\n",
    "\n",
    "# Check dataset sample\n",
    "sample_idx = 0\n",
    "sequences, lengths, answer = train_rnn_dataset[sample_idx]\n",
    "print(f\"Number of sequences: {len(sequences)}\")\n",
    "for i, sequence in enumerate(sequences):\n",
    "    print(f\"Sequence {i} shape: {sequence.shape}\")\n",
    "print(f\"Sequence lengths: {lengths}\")\n",
    "print(f\"Correct answer: {answer.item()}\")"
   ]
  },
  {
   "cell_type": "code",
   "execution_count": 36,
   "metadata": {},
   "outputs": [
    {
     "name": "stdout",
     "output_type": "stream",
     "text": [
      "Created train loader with 69 batches\n",
      "Created validation loader with 4 batches\n"
     ]
    }
   ],
   "source": [
    "train_rnn_loader = DataLoader(\n",
    "    train_rnn_dataset,\n",
    "    batch_size=128,\n",
    "    shuffle=True,\n",
    "    collate_fn=rnn_collate_batch,\n",
    "    num_workers=0,  # Set to 0 for debugging\n",
    "    pin_memory=False\n",
    ")\n",
    "\n",
    "valid_rnn_loader = DataLoader(\n",
    "    valid_rnn_dataset,\n",
    "    batch_size=256,\n",
    "    shuffle=False,\n",
    "    collate_fn=rnn_collate_batch,\n",
    "    num_workers=0,\n",
    "    pin_memory=False\n",
    ")\n",
    "\n",
    "print(f\"Created train loader with {len(train_rnn_loader)} batches\")\n",
    "print(f\"Created validation loader with {len(valid_rnn_loader)} batches\")"
   ]
  },
  {
   "cell_type": "markdown",
   "metadata": {},
   "source": [
    "# **Model**"
   ]
  },
  {
   "cell_type": "markdown",
   "metadata": {},
   "source": [
    "### Word embeddings"
   ]
  },
  {
   "cell_type": "code",
   "execution_count": 37,
   "metadata": {},
   "outputs": [],
   "source": [
    "class WordEmbeddingQAClassifier(nn.Module):\n",
    "    def __init__(self, embedding_dim, hidden_dim, dropout_rate):\n",
    "        super(WordEmbeddingQAClassifier, self).__init__()\n",
    "\n",
    "        self.embedding_dim = embedding_dim\n",
    "        self.hidden_dim = hidden_dim\n",
    "\n",
    "        # First layer: concatenated embedding dimension\n",
    "        self.fc1 = nn.Linear(2 * embedding_dim, hidden_dim)\n",
    "        self.relu = nn.ReLU()\n",
    "        self.dropout = nn.Dropout(dropout_rate)\n",
    "        \n",
    "        # Output layer for classification\n",
    "        self.fc2 = nn.Linear(hidden_dim, 1)\n",
    "\n",
    "    def forward(self, question, choices):\n",
    "        # Expand question to match choices dimension\n",
    "        question_expanded = question.unsqueeze(1).expand(-1, choices.size(1), -1)\n",
    "        \n",
    "        # Concatenate question and choice embeddings\n",
    "        combined = torch.cat((question_expanded, choices), dim=2)\n",
    "\n",
    "        # First layer with ReLU and Dropout\n",
    "        x = self.fc1(combined)\n",
    "        x = self.relu(x)\n",
    "        x = self.dropout(x)\n",
    "        \n",
    "        # Final layer\n",
    "        x = self.fc2(x)\n",
    "        return x.squeeze(-1)"
   ]
  },
  {
   "cell_type": "code",
   "execution_count": 38,
   "metadata": {},
   "outputs": [
    {
     "name": "stdout",
     "output_type": "stream",
     "text": [
      "cuda\n"
     ]
    }
   ],
   "source": [
    "device = torch.device(\"cuda\" if torch.cuda.is_available() else \"cpu\")\n",
    "print(device)"
   ]
  },
  {
   "cell_type": "code",
   "execution_count": 39,
   "metadata": {},
   "outputs": [],
   "source": [
    "embedding_dim = 300\n",
    "hidden_dim = 64\n",
    "dropout_rate = 0.2"
   ]
  },
  {
   "cell_type": "code",
   "execution_count": 40,
   "metadata": {},
   "outputs": [
    {
     "name": "stdout",
     "output_type": "stream",
     "text": [
      "WordEmbeddingQAClassifier(\n",
      "  (fc1): Linear(in_features=600, out_features=64, bias=True)\n",
      "  (relu): ReLU()\n",
      "  (dropout): Dropout(p=0.2, inplace=False)\n",
      "  (fc2): Linear(in_features=64, out_features=1, bias=True)\n",
      ")\n"
     ]
    }
   ],
   "source": [
    "model = WordEmbeddingQAClassifier(embedding_dim, hidden_dim, dropout_rate)\n",
    "model = model.to(device)\n",
    "\n",
    "print(model)"
   ]
  },
  {
   "cell_type": "markdown",
   "metadata": {},
   "source": [
    "### RNN"
   ]
  },
  {
   "cell_type": "code",
   "execution_count": 58,
   "metadata": {},
   "outputs": [],
   "source": [
    "class QARNNModel(nn.Module):\n",
    "    def __init__(self, embedding_dim, hidden_dim=128, num_choices=5, dropout_rate=0.2):\n",
    "        super(QARNNModel, self).__init__()\n",
    "        \n",
    "        self.embedding_dim = embedding_dim\n",
    "        self.hidden_dim = hidden_dim\n",
    "        self.num_choices = num_choices\n",
    "        \n",
    "        # 2-layer bidirectional LSTM\n",
    "        self.lstm = nn.LSTM(\n",
    "            input_size=embedding_dim,\n",
    "            hidden_size=hidden_dim,\n",
    "            num_layers=2,\n",
    "            batch_first=True,\n",
    "            dropout=dropout_rate,\n",
    "            bidirectional=True\n",
    "        )\n",
    "        \n",
    "        # Classification head\n",
    "        lstm_output_dim = hidden_dim * 2  # bidirectional = *2\n",
    "        self.classifier = nn.Sequential(\n",
    "            nn.Linear(lstm_output_dim, hidden_dim),\n",
    "            nn.ReLU(),\n",
    "            nn.Dropout(dropout_rate),\n",
    "            nn.Linear(hidden_dim, 1)\n",
    "        )\n",
    "    \n",
    "    def forward(self, padded_sequences, sequence_lengths, indices):\n",
    "        \"\"\"Process all sequences together and then reshape for classification\"\"\"\n",
    "        batch_size = indices.size(0)\n",
    "        \n",
    "        # Pack padded sequences with enforce_sorted=False\n",
    "        packed = pack_padded_sequence(\n",
    "            padded_sequences, \n",
    "            sequence_lengths.cpu(), \n",
    "            batch_first=True,\n",
    "            enforce_sorted=False\n",
    "        )\n",
    "        \n",
    "        # Run through LSTM\n",
    "        _, (hidden, _) = self.lstm(packed)\n",
    "        \n",
    "        # Get final hidden states from both directions\n",
    "        final_hidden = torch.cat([hidden[-2], hidden[-1]], dim=1)\n",
    "        \n",
    "        # Process through classifier\n",
    "        logits = self.classifier(final_hidden).squeeze(-1)\n",
    "        \n",
    "        # Rearrange back to original order\n",
    "        all_logits = torch.zeros(batch_size, self.num_choices, device=padded_sequences.device)\n",
    "        for batch_idx in range(batch_size):\n",
    "            for choice_idx in range(self.num_choices):\n",
    "                all_logits[batch_idx, choice_idx] = logits[indices[batch_idx, choice_idx]]\n",
    "        \n",
    "        return all_logits"
   ]
  },
  {
   "cell_type": "markdown",
   "metadata": {},
   "source": [
    "# **Training**"
   ]
  },
  {
   "cell_type": "code",
   "execution_count": 59,
   "metadata": {},
   "outputs": [
    {
     "name": "stderr",
     "output_type": "stream",
     "text": [
      "\u001b[34m\u001b[1mwandb\u001b[0m: \u001b[33mWARNING\u001b[0m Calling wandb.login() after wandb.init() has no effect.\n"
     ]
    },
    {
     "data": {
      "text/plain": [
       "True"
      ]
     },
     "execution_count": 59,
     "metadata": {},
     "output_type": "execute_result"
    }
   ],
   "source": [
    "wandb.login()"
   ]
  },
  {
   "cell_type": "code",
   "execution_count": null,
   "metadata": {},
   "outputs": [],
   "source": [
    "embedding_run = wandb.init(\n",
    "  project=\"CommonsenseQA\",\n",
    "  name=f\"word_embedding-{datetime.now().strftime('%Y-%m-%dT%H:%M:%S')}\",\n",
    "  config={\n",
    "    \"model\": \"word_embedding\",\n",
    "    \"embedding_dim\": embedding_dim,\n",
    "    \"hidden_dim\": hidden_dim,\n",
    "    \"batch_size\": 256,  # Smaller batch size\n",
    "    \"epoch\": 100,\n",
    "    \"dropout_rate\": dropout_rate,\n",
    "    \"weight_decay\": 1e-5,  # Very light weight decay\n",
    "    \"label_smoothing\": 0.0,  # No label smoothing initially\n",
    "    \"gradient_clipping\": 1.0,\n",
    "    \"max_lr\": 0.001,\n",
    "  },\n",
    "  reinit=True,\n",
    ")"
   ]
  },
  {
   "cell_type": "code",
   "execution_count": 60,
   "metadata": {},
   "outputs": [],
   "source": [
    "criterion = nn.CrossEntropyLoss()\n",
    "optimizer = torch.optim.AdamW(model.parameters(), lr=1e-4, weight_decay=1e-5)"
   ]
  },
  {
   "cell_type": "code",
   "execution_count": 66,
   "metadata": {},
   "outputs": [],
   "source": [
    "def save_checkpoint(model, optimizer, epoch, save_path, best_val_accuracy):\n",
    "    checkpoint = {\n",
    "        'epoch': epoch,\n",
    "        'model_state_dict': model.state_dict(),\n",
    "        'optimizer_state_dict': optimizer.state_dict(),\n",
    "        'best_val_accuracy': best_val_accuracy\n",
    "    }\n",
    "    torch.save(checkpoint, save_path)\n",
    "    try:\n",
    "        if 'best_model' in save_path:\n",
    "            wandb.log({\n",
    "                \"best_model_checkpoint\": {\n",
    "                    \"path\": save_path,\n",
    "                    \"epoch\": epoch,\n",
    "                    \"val_accuracy\": best_val_accuracy\n",
    "                }\n",
    "            })\n",
    "    except Exception as e:\n",
    "        print(f\"Error logging checkpoint to wandb: {e}\")"
   ]
  },
  {
   "cell_type": "code",
   "execution_count": null,
   "metadata": {},
   "outputs": [],
   "source": [
    "def train_word_embedding(\n",
    "    model, \n",
    "    train_loader, \n",
    "    valid_loader, \n",
    "    criterion, \n",
    "    optimizer, \n",
    "    num_epochs, \n",
    "    device, \n",
    "    checkpoint_dir='checkpoints', \n",
    "    save_interval=10,\n",
    "):\n",
    "    # Create checkpoint directory if it doesn't exist\n",
    "    os.makedirs(checkpoint_dir, exist_ok=True)\n",
    "    \n",
    "    # Initialize best validation accuracy\n",
    "    best_val_accuracy = 0\n",
    "    start_epoch = 0\n",
    "    \n",
    "    # Training loop\n",
    "    for epoch in (pbar := trange(start_epoch, num_epochs)):\n",
    "        pbar.set_description(f\"Epoch {epoch+1}/{num_epochs}\")\n",
    "\n",
    "        model.train()\n",
    "        train_total_loss = 0.0\n",
    "        train_correct = 0\n",
    "        train_total = 0\n",
    "\n",
    "        for question_batch, choices_batch, y_batch in train_loader:\n",
    "            optimizer.zero_grad()\n",
    "\n",
    "            question_batch = question_batch.to(device)\n",
    "            choices_batch = choices_batch.to(device)\n",
    "            y_batch = y_batch.to(device)\n",
    "\n",
    "            # Forward pass\n",
    "            outputs = model(question_batch, choices_batch)\n",
    "\n",
    "            # Compute loss\n",
    "            train_batch_loss = criterion(outputs, y_batch)\n",
    "            train_total_loss += train_batch_loss.item()\n",
    "\n",
    "            # Compute accuracy\n",
    "            train_predictions = torch.argmax(outputs, dim=1)\n",
    "            train_correct += (train_predictions == y_batch).sum().item()\n",
    "            train_total += y_batch.size(0)\n",
    "\n",
    "            # Backward pass\n",
    "            train_batch_loss.backward()\n",
    "            optimizer.step()\n",
    "\n",
    "        # Calculate train statistics\n",
    "        avg_train_loss = train_total_loss / len(train_loader)\n",
    "        train_accuracy = train_correct / train_total\n",
    "\n",
    "        # Evaluate\n",
    "        model.eval()\n",
    "        val_correct = 0\n",
    "        val_total = 0\n",
    "        val_total_loss = 0\n",
    "\n",
    "        with torch.no_grad():\n",
    "            for question_batch, choices_batch, y_batch in valid_loader:\n",
    "                question_batch = question_batch.to(device)\n",
    "                choices_batch = choices_batch.to(device)\n",
    "                y_batch = y_batch.to(device)\n",
    "\n",
    "                val_outputs = model(question_batch, choices_batch)\n",
    "\n",
    "                # Calculate validation loss\n",
    "                val_batch_loss = criterion(val_outputs, y_batch)\n",
    "                val_total_loss += val_batch_loss.item()\n",
    "\n",
    "                val_predictions = torch.argmax(val_outputs, dim=1)\n",
    "                val_correct += (val_predictions == y_batch).sum().item()\n",
    "                val_total += y_batch.size(0)\n",
    "\n",
    "        # Calculate validation statistics\n",
    "        avg_val_loss = val_total_loss / len(valid_loader)\n",
    "        val_accuracy = val_correct / val_total\n",
    "        \n",
    "        pbar.set_postfix({\n",
    "            \"train_loss\": avg_train_loss, \n",
    "            \"train_acc\": train_accuracy, \n",
    "            \"val_acc\": val_accuracy\n",
    "        })\n",
    "\n",
    "        # Log metrics to wandb\n",
    "        wandb.log({\n",
    "            \"epoch\": epoch,\n",
    "            \"train_loss\": avg_train_loss,\n",
    "            \"train_accuracy\": train_accuracy,\n",
    "            \"val_loss\": avg_val_loss,\n",
    "            \"val_accuracy\": val_accuracy,\n",
    "            \"learning_rate\": optimizer.param_groups[0]['lr'],\n",
    "        })\n",
    "\n",
    "        # Save checkpoint periodically\n",
    "        if (epoch + 1) % save_interval == 0:\n",
    "            checkpoint_path = os.path.join(checkpoint_dir, f'checkpoint_epoch_{epoch+1}.pt')\n",
    "            save_checkpoint(model, optimizer, epoch+1, checkpoint_path, best_val_accuracy)\n",
    "\n",
    "        # Save best model based on validation accuracy\n",
    "        if val_accuracy > best_val_accuracy:\n",
    "            best_val_accuracy = val_accuracy\n",
    "            best_model_path = os.path.join(checkpoint_dir, 'best_model.pt')\n",
    "            save_checkpoint(model, optimizer, epoch+1, best_model_path, best_val_accuracy)\n",
    "\n",
    "    # Final save\n",
    "    final_model_path = os.path.join(checkpoint_dir, 'final_model.pt')\n",
    "    save_checkpoint(model, optimizer, num_epochs, final_model_path, best_val_accuracy)\n",
    "    \n",
    "    wandb.finish()\n",
    "    \n",
    "    return model, best_val_accuracy"
   ]
  },
  {
   "cell_type": "code",
   "execution_count": null,
   "metadata": {},
   "outputs": [],
   "source": [
    "# Define checkpoint directory\n",
    "checkpoint_dir = './checkpoints/embedding'\n",
    "os.makedirs(checkpoint_dir, exist_ok=True)\n",
    "\n",
    "# Optional: Resume from a previous checkpoint\n",
    "resume_checkpoint = None  # Set to checkpoint path if resuming\n",
    "\n",
    "# Replace your existing training loop with this\n",
    "model, best_val_accuracy = train_word_embedding(\n",
    "    model=model,\n",
    "    train_loader=train_loader,\n",
    "    valid_loader=valid_loader,\n",
    "    criterion=criterion,\n",
    "    optimizer=optimizer,\n",
    "    num_epochs=embedding_run.config.epoch,\n",
    "    device=device,\n",
    "    checkpoint_dir=checkpoint_dir,\n",
    "    save_interval=1  # Save a checkpoint every 5 epochs\n",
    ")\n",
    "\n",
    "print(best_val_accuracy)"
   ]
  },
  {
   "cell_type": "markdown",
   "metadata": {},
   "source": [
    "### **RNN Training**"
   ]
  },
  {
   "cell_type": "code",
   "execution_count": 91,
   "metadata": {},
   "outputs": [
    {
     "name": "stdout",
     "output_type": "stream",
     "text": [
      "Using device: cuda\n",
      "QARNNModel(\n",
      "  (lstm): LSTM(300, 128, num_layers=2, batch_first=True, dropout=0.2, bidirectional=True)\n",
      "  (classifier): Sequential(\n",
      "    (0): Linear(in_features=256, out_features=128, bias=True)\n",
      "    (1): ReLU()\n",
      "    (2): Dropout(p=0.2, inplace=False)\n",
      "    (3): Linear(in_features=128, out_features=1, bias=True)\n",
      "  )\n",
      ")\n"
     ]
    }
   ],
   "source": [
    "embedding_dim = 300  # Same as word vectors\n",
    "hidden_dim = 128     # Hidden dimension for LSTM\n",
    "dropout_rate=0.2\n",
    "num_epochs = 100\n",
    "\n",
    "# Create the RNN model\n",
    "rnn_model = QARNNModel(  # Updated name\n",
    "    embedding_dim=embedding_dim,\n",
    "    hidden_dim=hidden_dim,\n",
    "    dropout_rate=dropout_rate\n",
    ")\n",
    "\n",
    "# Move model to device\n",
    "device = torch.device(\"cuda\" if torch.cuda.is_available() else \"cpu\")\n",
    "print(f\"Using device: {device}\")\n",
    "rnn_model = rnn_model.to(device)\n",
    "\n",
    "# Print model summary\n",
    "print(rnn_model)"
   ]
  },
  {
   "cell_type": "code",
   "execution_count": 92,
   "metadata": {},
   "outputs": [],
   "source": [
    "# Modify the training function to use the updated save_checkpoint\n",
    "def train_rnn_model(model, criterion, optimizer, scheduler, train_loader, valid_loader, num_epochs, device, checkpoints_path=None, log_wandb=True, gradient_clip_val=1.0):\n",
    "    best_val_accuracy = 0.0\n",
    "    training_start_time = time.time()\n",
    "    \n",
    "    for epoch in range(num_epochs):\n",
    "        print(f\"\\nEpoch {epoch+1}/{num_epochs}\")\n",
    "        \n",
    "        # Training phase\n",
    "        model.train()\n",
    "        train_loss = 0.0\n",
    "        train_correct = 0\n",
    "        train_total = 0\n",
    "        \n",
    "        with tqdm(train_loader, desc=\"Training\") as progress_bar:\n",
    "            for batch_data in progress_bar:\n",
    "                # Unpack the batch data\n",
    "                padded_sequences, sequence_lengths, indices, answers = batch_data\n",
    "                \n",
    "                # Move to device\n",
    "                padded_sequences = padded_sequences.to(device)\n",
    "                sequence_lengths = sequence_lengths.to(device)\n",
    "                indices = indices.to(device)\n",
    "                answers = answers.to(device)\n",
    "                \n",
    "                # Forward pass\n",
    "                optimizer.zero_grad()\n",
    "                outputs = model(padded_sequences, sequence_lengths, indices)\n",
    "                loss = criterion(outputs, answers)\n",
    "                \n",
    "                # Backward pass\n",
    "                loss.backward()\n",
    "                if gradient_clip_val > 0:\n",
    "                    nn.utils.clip_grad_norm_(model.parameters(), gradient_clip_val)\n",
    "                optimizer.step()\n",
    "                if scheduler is not None:\n",
    "                    scheduler.step()\n",
    "                \n",
    "                # Statistics\n",
    "                train_loss += loss.item()\n",
    "                _, predicted = torch.max(outputs, 1)\n",
    "                train_total += answers.size(0)\n",
    "                train_correct += (predicted == answers).sum().item()\n",
    "                \n",
    "                # Update progress bar\n",
    "                progress_bar.set_postfix({\n",
    "                    'loss': f\"{loss.item():.4f}\",\n",
    "                    'acc': f\"{train_correct/train_total:.4f}\"\n",
    "                })\n",
    "        \n",
    "        train_accuracy = train_correct / train_total\n",
    "        avg_train_loss = train_loss / len(train_loader)\n",
    "        \n",
    "        # Validation phase\n",
    "        model.eval()\n",
    "        val_loss = 0.0\n",
    "        val_correct = 0\n",
    "        val_total = 0\n",
    "        \n",
    "        with torch.no_grad():\n",
    "            for batch_data in tqdm(valid_loader, desc=\"Validation\"):\n",
    "                # Unpack the batch data\n",
    "                padded_sequences, sequence_lengths, indices, answers = batch_data\n",
    "                \n",
    "                # Move to device\n",
    "                padded_sequences = padded_sequences.to(device)\n",
    "                sequence_lengths = sequence_lengths.to(device)\n",
    "                indices = indices.to(device)\n",
    "                answers = answers.to(device)\n",
    "                \n",
    "                # Forward pass\n",
    "                outputs = model(padded_sequences, sequence_lengths, indices)\n",
    "                loss = criterion(outputs, answers)\n",
    "                \n",
    "                # Statistics\n",
    "                val_loss += loss.item()\n",
    "                _, predicted = torch.max(outputs, 1)\n",
    "                val_total += answers.size(0)\n",
    "                val_correct += (predicted == answers).sum().item()\n",
    "        \n",
    "        val_accuracy = val_correct / val_total\n",
    "        avg_val_loss = val_loss / len(valid_loader)\n",
    "        \n",
    "        # Save best model\n",
    "        if val_accuracy > best_val_accuracy:\n",
    "            print(f\"Validation accuracy improved from {best_val_accuracy:.4f} to {val_accuracy:.4f}\")\n",
    "            best_val_accuracy = val_accuracy\n",
    "            best_model_path = os.path.join(checkpoints_path, 'best_rnn_model.pt')\n",
    "            save_checkpoint(model, optimizer, epoch+1, best_val_accuracy, best_model_path)\n",
    "        \n",
    "        # Print metrics\n",
    "        print(f\"Train Loss: {avg_train_loss:.4f}, Train Acc: {train_accuracy:.4f}\")\n",
    "        print(f\"Val Loss: {avg_val_loss:.4f}, Val Acc: {val_accuracy:.4f}\")\n",
    "        \n",
    "        # Log to wandb\n",
    "        if log_wandb:\n",
    "            wandb.log({\n",
    "                \"epoch\": epoch,\n",
    "                \"train_loss\": avg_train_loss,\n",
    "                \"train_accuracy\": train_accuracy,\n",
    "                \"val_loss\": avg_val_loss,\n",
    "                \"val_accuracy\": val_accuracy,\n",
    "                \"learning_rate\": optimizer.param_groups[0]['lr']\n",
    "            })\n",
    "    \n",
    "    print(f\"Training completed in {(time.time() - training_start_time)/60:.2f} minutes\")\n",
    "    print(f\"Best validation accuracy: {best_val_accuracy:.4f}\")\n",
    "    \n",
    "    # Final metrics for wandb\n",
    "    if log_wandb:\n",
    "        wandb.run.summary[\"best_val_accuracy\"] = best_val_accuracy\n",
    "        wandb.finish()\n",
    "    \n",
    "    return model, best_val_accuracy"
   ]
  },
  {
   "cell_type": "code",
   "execution_count": 93,
   "metadata": {},
   "outputs": [
    {
     "data": {
      "text/html": [
       "Tracking run with wandb version 0.19.8"
      ],
      "text/plain": [
       "<IPython.core.display.HTML object>"
      ]
     },
     "metadata": {},
     "output_type": "display_data"
    },
    {
     "data": {
      "text/html": [
       "Run data is saved locally in <code>d:\\Dateien\\Github_FabianDubach\\NLP\\_Project\\wandb\\run-20250405_181616-x1ic3q0l</code>"
      ],
      "text/plain": [
       "<IPython.core.display.HTML object>"
      ]
     },
     "metadata": {},
     "output_type": "display_data"
    },
    {
     "data": {
      "text/html": [
       "Syncing run <strong><a href='https://wandb.ai/fabian-dubach-hochschule-luzern/CommonsenseQA/runs/x1ic3q0l' target=\"_blank\">rnn-2025-04-05T18:16:16</a></strong> to <a href='https://wandb.ai/fabian-dubach-hochschule-luzern/CommonsenseQA' target=\"_blank\">Weights & Biases</a> (<a href='https://wandb.me/developer-guide' target=\"_blank\">docs</a>)<br>"
      ],
      "text/plain": [
       "<IPython.core.display.HTML object>"
      ]
     },
     "metadata": {},
     "output_type": "display_data"
    },
    {
     "data": {
      "text/html": [
       " View project at <a href='https://wandb.ai/fabian-dubach-hochschule-luzern/CommonsenseQA' target=\"_blank\">https://wandb.ai/fabian-dubach-hochschule-luzern/CommonsenseQA</a>"
      ],
      "text/plain": [
       "<IPython.core.display.HTML object>"
      ]
     },
     "metadata": {},
     "output_type": "display_data"
    },
    {
     "data": {
      "text/html": [
       " View run at <a href='https://wandb.ai/fabian-dubach-hochschule-luzern/CommonsenseQA/runs/x1ic3q0l' target=\"_blank\">https://wandb.ai/fabian-dubach-hochschule-luzern/CommonsenseQA/runs/x1ic3q0l</a>"
      ],
      "text/plain": [
       "<IPython.core.display.HTML object>"
      ]
     },
     "metadata": {},
     "output_type": "display_data"
    }
   ],
   "source": [
    "rnn_run = wandb.init(\n",
    "  project=\"CommonsenseQA\",\n",
    "  name=f\"rnn-{datetime.now().strftime('%Y-%m-%dT%H:%M:%S')}\",\n",
    "  config={\n",
    "    \"model\": \"rnn\",\n",
    "    \"embedding_dim\": embedding_dim,\n",
    "    \"hidden_dim\": hidden_dim,\n",
    "    \"batch_size\": 256,  # Smaller batch size\n",
    "    \"epoch\": 100,\n",
    "    \"dropout_rate\": dropout_rate,\n",
    "    \"weight_decay\": 1e-5,  # Very light weight decay\n",
    "    \"label_smoothing\": 0.0,  # No label smoothing initially\n",
    "    \"gradient_clipping\": 1.0,\n",
    "    \"max_lr\": 0.001,\n",
    "  },\n",
    "  reinit=True,\n",
    ")"
   ]
  },
  {
   "cell_type": "code",
   "execution_count": 94,
   "metadata": {},
   "outputs": [],
   "source": [
    "checkpoints_path = \"./checkpoints/rnn_model\"\n",
    "os.makedirs(checkpoints_path, exist_ok=True)"
   ]
  },
  {
   "cell_type": "code",
   "execution_count": 95,
   "metadata": {},
   "outputs": [
    {
     "name": "stdout",
     "output_type": "stream",
     "text": [
      "\n",
      "Epoch 1/100\n"
     ]
    },
    {
     "name": "stderr",
     "output_type": "stream",
     "text": [
      "Training: 100%|██████████| 69/69 [00:17<00:00,  3.93it/s, loss=1.6100, acc=0.1960]\n",
      "Validation: 100%|██████████| 4/4 [00:01<00:00,  2.56it/s]\n"
     ]
    },
    {
     "name": "stdout",
     "output_type": "stream",
     "text": [
      "Validation accuracy improved from 0.0000 to 0.1960\n",
      "Train Loss: 1.6096, Train Acc: 0.1960\n",
      "Val Loss: 1.6094, Val Acc: 0.1960\n",
      "\n",
      "Epoch 2/100\n"
     ]
    },
    {
     "name": "stderr",
     "output_type": "stream",
     "text": [
      "Training: 100%|██████████| 69/69 [00:16<00:00,  4.09it/s, loss=1.6111, acc=0.2050]\n",
      "Validation: 100%|██████████| 4/4 [00:01<00:00,  2.66it/s]\n"
     ]
    },
    {
     "name": "stdout",
     "output_type": "stream",
     "text": [
      "Train Loss: 1.6095, Train Acc: 0.2050\n",
      "Val Loss: 1.6094, Val Acc: 0.1940\n",
      "\n",
      "Epoch 3/100\n"
     ]
    },
    {
     "name": "stderr",
     "output_type": "stream",
     "text": [
      "Training: 100%|██████████| 69/69 [00:17<00:00,  4.01it/s, loss=1.6087, acc=0.1953]\n",
      "Validation: 100%|██████████| 4/4 [00:01<00:00,  3.07it/s]\n"
     ]
    },
    {
     "name": "stdout",
     "output_type": "stream",
     "text": [
      "Validation accuracy improved from 0.1960 to 0.2030\n",
      "Train Loss: 1.6094, Train Acc: 0.1953\n",
      "Val Loss: 1.6094, Val Acc: 0.2030\n",
      "\n",
      "Epoch 4/100\n"
     ]
    },
    {
     "name": "stderr",
     "output_type": "stream",
     "text": [
      "Training: 100%|██████████| 69/69 [00:16<00:00,  4.06it/s, loss=1.6126, acc=0.1968]\n",
      "Validation: 100%|██████████| 4/4 [00:01<00:00,  2.95it/s]\n"
     ]
    },
    {
     "name": "stdout",
     "output_type": "stream",
     "text": [
      "Train Loss: 1.6095, Train Acc: 0.1968\n",
      "Val Loss: 1.6094, Val Acc: 0.1740\n",
      "\n",
      "Epoch 5/100\n"
     ]
    },
    {
     "name": "stderr",
     "output_type": "stream",
     "text": [
      "Training: 100%|██████████| 69/69 [00:17<00:00,  4.03it/s, loss=1.6104, acc=0.1973]\n",
      "Validation: 100%|██████████| 4/4 [00:01<00:00,  2.73it/s]\n"
     ]
    },
    {
     "name": "stdout",
     "output_type": "stream",
     "text": [
      "Validation accuracy improved from 0.2030 to 0.2140\n",
      "Train Loss: 1.6093, Train Acc: 0.1973\n",
      "Val Loss: 1.6094, Val Acc: 0.2140\n",
      "\n",
      "Epoch 6/100\n"
     ]
    },
    {
     "name": "stderr",
     "output_type": "stream",
     "text": [
      "Training: 100%|██████████| 69/69 [00:17<00:00,  3.96it/s, loss=1.6109, acc=0.1936]\n",
      "Validation: 100%|██████████| 4/4 [00:01<00:00,  2.90it/s]\n"
     ]
    },
    {
     "name": "stdout",
     "output_type": "stream",
     "text": [
      "Train Loss: 1.6097, Train Acc: 0.1936\n",
      "Val Loss: 1.6094, Val Acc: 0.1870\n",
      "\n",
      "Epoch 7/100\n"
     ]
    },
    {
     "name": "stderr",
     "output_type": "stream",
     "text": [
      "Training: 100%|██████████| 69/69 [00:17<00:00,  3.90it/s, loss=1.6110, acc=0.1946]\n",
      "Validation: 100%|██████████| 4/4 [00:01<00:00,  2.50it/s]\n"
     ]
    },
    {
     "name": "stdout",
     "output_type": "stream",
     "text": [
      "Train Loss: 1.6097, Train Acc: 0.1946\n",
      "Val Loss: 1.6094, Val Acc: 0.1810\n",
      "\n",
      "Epoch 8/100\n"
     ]
    },
    {
     "name": "stderr",
     "output_type": "stream",
     "text": [
      "Training: 100%|██████████| 69/69 [00:16<00:00,  4.06it/s, loss=1.6104, acc=0.1991]\n",
      "Validation: 100%|██████████| 4/4 [00:01<00:00,  2.92it/s]\n"
     ]
    },
    {
     "name": "stdout",
     "output_type": "stream",
     "text": [
      "Train Loss: 1.6095, Train Acc: 0.1991\n",
      "Val Loss: 1.6094, Val Acc: 0.1900\n",
      "\n",
      "Epoch 9/100\n"
     ]
    },
    {
     "name": "stderr",
     "output_type": "stream",
     "text": [
      "Training: 100%|██████████| 69/69 [00:17<00:00,  3.87it/s, loss=1.6109, acc=0.2043]\n",
      "Validation: 100%|██████████| 4/4 [00:01<00:00,  2.72it/s]\n"
     ]
    },
    {
     "name": "stdout",
     "output_type": "stream",
     "text": [
      "Train Loss: 1.6094, Train Acc: 0.2043\n",
      "Val Loss: 1.6094, Val Acc: 0.2020\n",
      "\n",
      "Epoch 10/100\n"
     ]
    },
    {
     "name": "stderr",
     "output_type": "stream",
     "text": [
      "Training: 100%|██████████| 69/69 [00:17<00:00,  3.90it/s, loss=1.6106, acc=0.2033]\n",
      "Validation: 100%|██████████| 4/4 [00:01<00:00,  2.76it/s]\n"
     ]
    },
    {
     "name": "stdout",
     "output_type": "stream",
     "text": [
      "Validation accuracy improved from 0.2140 to 0.2180\n",
      "Train Loss: 1.6095, Train Acc: 0.2033\n",
      "Val Loss: 1.6094, Val Acc: 0.2180\n",
      "\n",
      "Epoch 11/100\n"
     ]
    },
    {
     "name": "stderr",
     "output_type": "stream",
     "text": [
      "Training: 100%|██████████| 69/69 [00:18<00:00,  3.75it/s, loss=1.6100, acc=0.1969]\n",
      "Validation: 100%|██████████| 4/4 [00:01<00:00,  2.51it/s]\n"
     ]
    },
    {
     "name": "stdout",
     "output_type": "stream",
     "text": [
      "Train Loss: 1.6095, Train Acc: 0.1969\n",
      "Val Loss: 1.6094, Val Acc: 0.1980\n",
      "\n",
      "Epoch 12/100\n"
     ]
    },
    {
     "name": "stderr",
     "output_type": "stream",
     "text": [
      "Training: 100%|██████████| 69/69 [00:18<00:00,  3.72it/s, loss=1.6088, acc=0.1928]\n",
      "Validation: 100%|██████████| 4/4 [00:01<00:00,  2.65it/s]\n"
     ]
    },
    {
     "name": "stdout",
     "output_type": "stream",
     "text": [
      "Train Loss: 1.6097, Train Acc: 0.1928\n",
      "Val Loss: 1.6095, Val Acc: 0.1880\n",
      "\n",
      "Epoch 13/100\n"
     ]
    },
    {
     "name": "stderr",
     "output_type": "stream",
     "text": [
      "Training: 100%|██████████| 69/69 [00:18<00:00,  3.81it/s, loss=1.6098, acc=0.1972]\n",
      "Validation: 100%|██████████| 4/4 [00:01<00:00,  2.76it/s]\n"
     ]
    },
    {
     "name": "stdout",
     "output_type": "stream",
     "text": [
      "Train Loss: 1.6094, Train Acc: 0.1972\n",
      "Val Loss: 1.6095, Val Acc: 0.2040\n",
      "\n",
      "Epoch 14/100\n"
     ]
    },
    {
     "name": "stderr",
     "output_type": "stream",
     "text": [
      "Training: 100%|██████████| 69/69 [00:17<00:00,  3.86it/s, loss=1.6087, acc=0.2004]\n",
      "Validation: 100%|██████████| 4/4 [00:01<00:00,  2.69it/s]\n"
     ]
    },
    {
     "name": "stdout",
     "output_type": "stream",
     "text": [
      "Validation accuracy improved from 0.2180 to 0.2280\n",
      "Train Loss: 1.6094, Train Acc: 0.2004\n",
      "Val Loss: 1.6094, Val Acc: 0.2280\n",
      "\n",
      "Epoch 15/100\n"
     ]
    },
    {
     "name": "stderr",
     "output_type": "stream",
     "text": [
      "Training: 100%|██████████| 69/69 [00:18<00:00,  3.83it/s, loss=1.6080, acc=0.2028]\n",
      "Validation: 100%|██████████| 4/4 [00:01<00:00,  2.62it/s]\n"
     ]
    },
    {
     "name": "stdout",
     "output_type": "stream",
     "text": [
      "Train Loss: 1.6095, Train Acc: 0.2028\n",
      "Val Loss: 1.6094, Val Acc: 0.2010\n",
      "\n",
      "Epoch 16/100\n"
     ]
    },
    {
     "name": "stderr",
     "output_type": "stream",
     "text": [
      "Training: 100%|██████████| 69/69 [00:17<00:00,  3.95it/s, loss=1.6092, acc=0.1960]\n",
      "Validation: 100%|██████████| 4/4 [00:01<00:00,  2.79it/s]\n"
     ]
    },
    {
     "name": "stdout",
     "output_type": "stream",
     "text": [
      "Train Loss: 1.6094, Train Acc: 0.1960\n",
      "Val Loss: 1.6094, Val Acc: 0.2080\n",
      "\n",
      "Epoch 17/100\n"
     ]
    },
    {
     "name": "stderr",
     "output_type": "stream",
     "text": [
      "Training: 100%|██████████| 69/69 [00:18<00:00,  3.80it/s, loss=1.6106, acc=0.2055]\n",
      "Validation: 100%|██████████| 4/4 [00:01<00:00,  2.72it/s]\n"
     ]
    },
    {
     "name": "stdout",
     "output_type": "stream",
     "text": [
      "Train Loss: 1.6094, Train Acc: 0.2055\n",
      "Val Loss: 1.6094, Val Acc: 0.1870\n",
      "\n",
      "Epoch 18/100\n"
     ]
    },
    {
     "name": "stderr",
     "output_type": "stream",
     "text": [
      "Training: 100%|██████████| 69/69 [00:18<00:00,  3.75it/s, loss=1.6112, acc=0.2049]\n",
      "Validation: 100%|██████████| 4/4 [00:01<00:00,  2.73it/s]\n"
     ]
    },
    {
     "name": "stdout",
     "output_type": "stream",
     "text": [
      "Train Loss: 1.6093, Train Acc: 0.2049\n",
      "Val Loss: 1.6094, Val Acc: 0.2070\n",
      "\n",
      "Epoch 19/100\n"
     ]
    },
    {
     "name": "stderr",
     "output_type": "stream",
     "text": [
      "Training: 100%|██████████| 69/69 [00:17<00:00,  3.89it/s, loss=1.6082, acc=0.2071]\n",
      "Validation: 100%|██████████| 4/4 [00:01<00:00,  2.77it/s]\n"
     ]
    },
    {
     "name": "stdout",
     "output_type": "stream",
     "text": [
      "Train Loss: 1.6093, Train Acc: 0.2071\n",
      "Val Loss: 1.6094, Val Acc: 0.2110\n",
      "\n",
      "Epoch 20/100\n"
     ]
    },
    {
     "name": "stderr",
     "output_type": "stream",
     "text": [
      "Training: 100%|██████████| 69/69 [00:17<00:00,  3.84it/s, loss=1.6092, acc=0.1945]\n",
      "Validation: 100%|██████████| 4/4 [00:01<00:00,  2.75it/s]\n"
     ]
    },
    {
     "name": "stdout",
     "output_type": "stream",
     "text": [
      "Train Loss: 1.6095, Train Acc: 0.1945\n",
      "Val Loss: 1.6095, Val Acc: 0.1870\n",
      "\n",
      "Epoch 21/100\n"
     ]
    },
    {
     "name": "stderr",
     "output_type": "stream",
     "text": [
      "Training: 100%|██████████| 69/69 [00:18<00:00,  3.64it/s, loss=1.6106, acc=0.1933]\n",
      "Validation: 100%|██████████| 4/4 [00:01<00:00,  2.67it/s]\n"
     ]
    },
    {
     "name": "stdout",
     "output_type": "stream",
     "text": [
      "Train Loss: 1.6096, Train Acc: 0.1933\n",
      "Val Loss: 1.6095, Val Acc: 0.1860\n",
      "\n",
      "Epoch 22/100\n"
     ]
    },
    {
     "name": "stderr",
     "output_type": "stream",
     "text": [
      "Training: 100%|██████████| 69/69 [00:18<00:00,  3.81it/s, loss=1.6124, acc=0.2057]\n",
      "Validation: 100%|██████████| 4/4 [00:01<00:00,  2.98it/s]\n"
     ]
    },
    {
     "name": "stdout",
     "output_type": "stream",
     "text": [
      "Train Loss: 1.6093, Train Acc: 0.2057\n",
      "Val Loss: 1.6094, Val Acc: 0.1960\n",
      "\n",
      "Epoch 23/100\n"
     ]
    },
    {
     "name": "stderr",
     "output_type": "stream",
     "text": [
      "Training: 100%|██████████| 69/69 [00:17<00:00,  4.00it/s, loss=1.6095, acc=0.2078]\n",
      "Validation: 100%|██████████| 4/4 [00:01<00:00,  3.00it/s]\n"
     ]
    },
    {
     "name": "stdout",
     "output_type": "stream",
     "text": [
      "Train Loss: 1.6093, Train Acc: 0.2078\n",
      "Val Loss: 1.6094, Val Acc: 0.2100\n",
      "\n",
      "Epoch 24/100\n"
     ]
    },
    {
     "name": "stderr",
     "output_type": "stream",
     "text": [
      "Training: 100%|██████████| 69/69 [00:17<00:00,  3.99it/s, loss=1.6050, acc=0.2015]\n",
      "Validation: 100%|██████████| 4/4 [00:01<00:00,  3.05it/s]\n"
     ]
    },
    {
     "name": "stdout",
     "output_type": "stream",
     "text": [
      "Train Loss: 1.6095, Train Acc: 0.2015\n",
      "Val Loss: 1.6094, Val Acc: 0.2130\n",
      "\n",
      "Epoch 25/100\n"
     ]
    },
    {
     "name": "stderr",
     "output_type": "stream",
     "text": [
      "Training: 100%|██████████| 69/69 [00:16<00:00,  4.10it/s, loss=1.6076, acc=0.1993]\n",
      "Validation: 100%|██████████| 4/4 [00:01<00:00,  2.58it/s]\n"
     ]
    },
    {
     "name": "stdout",
     "output_type": "stream",
     "text": [
      "Train Loss: 1.6095, Train Acc: 0.1993\n",
      "Val Loss: 1.6095, Val Acc: 0.1910\n",
      "\n",
      "Epoch 26/100\n"
     ]
    },
    {
     "name": "stderr",
     "output_type": "stream",
     "text": [
      "Training: 100%|██████████| 69/69 [00:16<00:00,  4.16it/s, loss=1.6087, acc=0.1979]\n",
      "Validation: 100%|██████████| 4/4 [00:01<00:00,  2.36it/s]\n"
     ]
    },
    {
     "name": "stdout",
     "output_type": "stream",
     "text": [
      "Train Loss: 1.6095, Train Acc: 0.1979\n",
      "Val Loss: 1.6094, Val Acc: 0.1950\n",
      "\n",
      "Epoch 27/100\n"
     ]
    },
    {
     "name": "stderr",
     "output_type": "stream",
     "text": [
      "Training: 100%|██████████| 69/69 [00:17<00:00,  4.04it/s, loss=1.6094, acc=0.2056]\n",
      "Validation: 100%|██████████| 4/4 [00:01<00:00,  2.73it/s]\n"
     ]
    },
    {
     "name": "stdout",
     "output_type": "stream",
     "text": [
      "Train Loss: 1.6094, Train Acc: 0.2056\n",
      "Val Loss: 1.6094, Val Acc: 0.2070\n",
      "\n",
      "Epoch 28/100\n"
     ]
    },
    {
     "name": "stderr",
     "output_type": "stream",
     "text": [
      "Training: 100%|██████████| 69/69 [00:16<00:00,  4.14it/s, loss=1.6068, acc=0.1933]\n",
      "Validation: 100%|██████████| 4/4 [00:01<00:00,  2.66it/s]\n"
     ]
    },
    {
     "name": "stdout",
     "output_type": "stream",
     "text": [
      "Train Loss: 1.6097, Train Acc: 0.1933\n",
      "Val Loss: 1.6094, Val Acc: 0.1780\n",
      "\n",
      "Epoch 29/100\n"
     ]
    },
    {
     "name": "stderr",
     "output_type": "stream",
     "text": [
      "Training: 100%|██████████| 69/69 [00:16<00:00,  4.10it/s, loss=1.6081, acc=0.1957]\n",
      "Validation: 100%|██████████| 4/4 [00:01<00:00,  2.59it/s]\n"
     ]
    },
    {
     "name": "stdout",
     "output_type": "stream",
     "text": [
      "Train Loss: 1.6095, Train Acc: 0.1957\n",
      "Val Loss: 1.6094, Val Acc: 0.1940\n",
      "\n",
      "Epoch 30/100\n"
     ]
    },
    {
     "name": "stderr",
     "output_type": "stream",
     "text": [
      "Training: 100%|██████████| 69/69 [00:17<00:00,  3.99it/s, loss=1.6077, acc=0.2057]\n",
      "Validation: 100%|██████████| 4/4 [00:01<00:00,  3.09it/s]\n"
     ]
    },
    {
     "name": "stdout",
     "output_type": "stream",
     "text": [
      "Train Loss: 1.6094, Train Acc: 0.2057\n",
      "Val Loss: 1.6094, Val Acc: 0.2080\n",
      "\n",
      "Epoch 31/100\n"
     ]
    },
    {
     "name": "stderr",
     "output_type": "stream",
     "text": [
      "Training: 100%|██████████| 69/69 [00:17<00:00,  3.92it/s, loss=1.6090, acc=0.1977]\n",
      "Validation: 100%|██████████| 4/4 [00:01<00:00,  2.81it/s]\n"
     ]
    },
    {
     "name": "stdout",
     "output_type": "stream",
     "text": [
      "Train Loss: 1.6097, Train Acc: 0.1977\n",
      "Val Loss: 1.6094, Val Acc: 0.2020\n",
      "\n",
      "Epoch 32/100\n"
     ]
    },
    {
     "name": "stderr",
     "output_type": "stream",
     "text": [
      "Training: 100%|██████████| 69/69 [00:16<00:00,  4.06it/s, loss=1.6123, acc=0.2016]\n",
      "Validation: 100%|██████████| 4/4 [00:01<00:00,  2.95it/s]\n"
     ]
    },
    {
     "name": "stdout",
     "output_type": "stream",
     "text": [
      "Train Loss: 1.6095, Train Acc: 0.2016\n",
      "Val Loss: 1.6094, Val Acc: 0.1960\n",
      "\n",
      "Epoch 33/100\n"
     ]
    },
    {
     "name": "stderr",
     "output_type": "stream",
     "text": [
      "Training: 100%|██████████| 69/69 [00:17<00:00,  3.88it/s, loss=1.6109, acc=0.2035]\n",
      "Validation: 100%|██████████| 4/4 [00:01<00:00,  2.83it/s]\n"
     ]
    },
    {
     "name": "stdout",
     "output_type": "stream",
     "text": [
      "Train Loss: 1.6094, Train Acc: 0.2035\n",
      "Val Loss: 1.6094, Val Acc: 0.2190\n",
      "\n",
      "Epoch 34/100\n"
     ]
    },
    {
     "name": "stderr",
     "output_type": "stream",
     "text": [
      "Training: 100%|██████████| 69/69 [00:17<00:00,  4.03it/s, loss=1.6106, acc=0.2018]\n",
      "Validation: 100%|██████████| 4/4 [00:01<00:00,  2.62it/s]\n"
     ]
    },
    {
     "name": "stdout",
     "output_type": "stream",
     "text": [
      "Train Loss: 1.6094, Train Acc: 0.2018\n",
      "Val Loss: 1.6094, Val Acc: 0.2110\n",
      "\n",
      "Epoch 35/100\n"
     ]
    },
    {
     "name": "stderr",
     "output_type": "stream",
     "text": [
      "Training: 100%|██████████| 69/69 [00:16<00:00,  4.07it/s, loss=1.6088, acc=0.2028]\n",
      "Validation: 100%|██████████| 4/4 [00:01<00:00,  2.63it/s]\n"
     ]
    },
    {
     "name": "stdout",
     "output_type": "stream",
     "text": [
      "Train Loss: 1.6094, Train Acc: 0.2028\n",
      "Val Loss: 1.6094, Val Acc: 0.2030\n",
      "\n",
      "Epoch 36/100\n"
     ]
    },
    {
     "name": "stderr",
     "output_type": "stream",
     "text": [
      "Training: 100%|██████████| 69/69 [00:17<00:00,  3.90it/s, loss=1.6082, acc=0.2060]\n",
      "Validation: 100%|██████████| 4/4 [00:01<00:00,  2.70it/s]\n"
     ]
    },
    {
     "name": "stdout",
     "output_type": "stream",
     "text": [
      "Train Loss: 1.6094, Train Acc: 0.2060\n",
      "Val Loss: 1.6094, Val Acc: 0.2140\n",
      "\n",
      "Epoch 37/100\n"
     ]
    },
    {
     "name": "stderr",
     "output_type": "stream",
     "text": [
      "Training: 100%|██████████| 69/69 [00:17<00:00,  3.93it/s, loss=1.6112, acc=0.1994]\n",
      "Validation: 100%|██████████| 4/4 [00:01<00:00,  2.64it/s]\n"
     ]
    },
    {
     "name": "stdout",
     "output_type": "stream",
     "text": [
      "Train Loss: 1.6096, Train Acc: 0.1994\n",
      "Val Loss: 1.6094, Val Acc: 0.2010\n",
      "\n",
      "Epoch 38/100\n"
     ]
    },
    {
     "name": "stderr",
     "output_type": "stream",
     "text": [
      "Training: 100%|██████████| 69/69 [00:16<00:00,  4.08it/s, loss=1.6082, acc=0.1977]\n",
      "Validation: 100%|██████████| 4/4 [00:01<00:00,  2.96it/s]\n"
     ]
    },
    {
     "name": "stdout",
     "output_type": "stream",
     "text": [
      "Train Loss: 1.6095, Train Acc: 0.1977\n",
      "Val Loss: 1.6094, Val Acc: 0.1990\n",
      "\n",
      "Epoch 39/100\n"
     ]
    },
    {
     "name": "stderr",
     "output_type": "stream",
     "text": [
      "Training: 100%|██████████| 69/69 [00:17<00:00,  3.98it/s, loss=1.6097, acc=0.2004]\n",
      "Validation: 100%|██████████| 4/4 [00:01<00:00,  2.96it/s]\n"
     ]
    },
    {
     "name": "stdout",
     "output_type": "stream",
     "text": [
      "Train Loss: 1.6094, Train Acc: 0.2004\n",
      "Val Loss: 1.6094, Val Acc: 0.2010\n",
      "\n",
      "Epoch 40/100\n"
     ]
    },
    {
     "name": "stderr",
     "output_type": "stream",
     "text": [
      "Training: 100%|██████████| 69/69 [00:17<00:00,  4.02it/s, loss=1.6106, acc=0.2072]\n",
      "Validation: 100%|██████████| 4/4 [00:01<00:00,  2.48it/s]\n"
     ]
    },
    {
     "name": "stdout",
     "output_type": "stream",
     "text": [
      "Train Loss: 1.6094, Train Acc: 0.2072\n",
      "Val Loss: 1.6094, Val Acc: 0.1980\n",
      "\n",
      "Epoch 41/100\n"
     ]
    },
    {
     "name": "stderr",
     "output_type": "stream",
     "text": [
      "Training: 100%|██████████| 69/69 [00:17<00:00,  3.93it/s, loss=1.6095, acc=0.1952]\n",
      "Validation: 100%|██████████| 4/4 [00:01<00:00,  2.76it/s]\n"
     ]
    },
    {
     "name": "stdout",
     "output_type": "stream",
     "text": [
      "Train Loss: 1.6097, Train Acc: 0.1952\n",
      "Val Loss: 1.6095, Val Acc: 0.1850\n",
      "\n",
      "Epoch 42/100\n"
     ]
    },
    {
     "name": "stderr",
     "output_type": "stream",
     "text": [
      "Training: 100%|██████████| 69/69 [00:17<00:00,  4.03it/s, loss=1.6083, acc=0.1973]\n",
      "Validation: 100%|██████████| 4/4 [00:01<00:00,  2.57it/s]\n"
     ]
    },
    {
     "name": "stdout",
     "output_type": "stream",
     "text": [
      "Train Loss: 1.6095, Train Acc: 0.1973\n",
      "Val Loss: 1.6094, Val Acc: 0.1920\n",
      "\n",
      "Epoch 43/100\n"
     ]
    },
    {
     "name": "stderr",
     "output_type": "stream",
     "text": [
      "Training: 100%|██████████| 69/69 [00:17<00:00,  3.85it/s, loss=1.6111, acc=0.1921]\n",
      "Validation: 100%|██████████| 4/4 [00:01<00:00,  2.08it/s]\n"
     ]
    },
    {
     "name": "stdout",
     "output_type": "stream",
     "text": [
      "Train Loss: 1.6097, Train Acc: 0.1921\n",
      "Val Loss: 1.6094, Val Acc: 0.2050\n",
      "\n",
      "Epoch 44/100\n"
     ]
    },
    {
     "name": "stderr",
     "output_type": "stream",
     "text": [
      "Training: 100%|██████████| 69/69 [00:18<00:00,  3.75it/s, loss=1.6071, acc=0.2063]\n",
      "Validation: 100%|██████████| 4/4 [00:01<00:00,  2.44it/s]\n"
     ]
    },
    {
     "name": "stdout",
     "output_type": "stream",
     "text": [
      "Train Loss: 1.6093, Train Acc: 0.2063\n",
      "Val Loss: 1.6094, Val Acc: 0.2060\n",
      "\n",
      "Epoch 45/100\n"
     ]
    },
    {
     "name": "stderr",
     "output_type": "stream",
     "text": [
      "Training: 100%|██████████| 69/69 [00:17<00:00,  3.88it/s, loss=1.6100, acc=0.2010]\n",
      "Validation: 100%|██████████| 4/4 [00:02<00:00,  1.94it/s]\n"
     ]
    },
    {
     "name": "stdout",
     "output_type": "stream",
     "text": [
      "Train Loss: 1.6093, Train Acc: 0.2010\n",
      "Val Loss: 1.6094, Val Acc: 0.1990\n",
      "\n",
      "Epoch 46/100\n"
     ]
    },
    {
     "name": "stderr",
     "output_type": "stream",
     "text": [
      "Training: 100%|██████████| 69/69 [00:18<00:00,  3.70it/s, loss=1.6092, acc=0.2012]\n",
      "Validation: 100%|██████████| 4/4 [00:01<00:00,  2.17it/s]\n"
     ]
    },
    {
     "name": "stdout",
     "output_type": "stream",
     "text": [
      "Train Loss: 1.6095, Train Acc: 0.2012\n",
      "Val Loss: 1.6094, Val Acc: 0.2180\n",
      "\n",
      "Epoch 47/100\n"
     ]
    },
    {
     "name": "stderr",
     "output_type": "stream",
     "text": [
      "Training: 100%|██████████| 69/69 [00:19<00:00,  3.60it/s, loss=1.6103, acc=0.1977]\n",
      "Validation: 100%|██████████| 4/4 [00:01<00:00,  2.51it/s]\n"
     ]
    },
    {
     "name": "stdout",
     "output_type": "stream",
     "text": [
      "Train Loss: 1.6095, Train Acc: 0.1977\n",
      "Val Loss: 1.6094, Val Acc: 0.2060\n",
      "\n",
      "Epoch 48/100\n"
     ]
    },
    {
     "name": "stderr",
     "output_type": "stream",
     "text": [
      "Training: 100%|██████████| 69/69 [00:18<00:00,  3.71it/s, loss=1.6080, acc=0.2062]\n",
      "Validation: 100%|██████████| 4/4 [00:02<00:00,  1.52it/s]\n"
     ]
    },
    {
     "name": "stdout",
     "output_type": "stream",
     "text": [
      "Train Loss: 1.6094, Train Acc: 0.2062\n",
      "Val Loss: 1.6094, Val Acc: 0.2010\n",
      "\n",
      "Epoch 49/100\n"
     ]
    },
    {
     "name": "stderr",
     "output_type": "stream",
     "text": [
      "Training: 100%|██████████| 69/69 [00:19<00:00,  3.60it/s, loss=1.6100, acc=0.2010]\n",
      "Validation: 100%|██████████| 4/4 [00:01<00:00,  2.42it/s]\n"
     ]
    },
    {
     "name": "stdout",
     "output_type": "stream",
     "text": [
      "Train Loss: 1.6094, Train Acc: 0.2010\n",
      "Val Loss: 1.6094, Val Acc: 0.2020\n",
      "\n",
      "Epoch 50/100\n"
     ]
    },
    {
     "name": "stderr",
     "output_type": "stream",
     "text": [
      "Training: 100%|██████████| 69/69 [00:20<00:00,  3.41it/s, loss=1.6080, acc=0.1922]\n",
      "Validation: 100%|██████████| 4/4 [00:01<00:00,  2.26it/s]\n"
     ]
    },
    {
     "name": "stdout",
     "output_type": "stream",
     "text": [
      "Train Loss: 1.6096, Train Acc: 0.1922\n",
      "Val Loss: 1.6094, Val Acc: 0.2060\n",
      "\n",
      "Epoch 51/100\n"
     ]
    },
    {
     "name": "stderr",
     "output_type": "stream",
     "text": [
      "Training: 100%|██████████| 69/69 [00:19<00:00,  3.49it/s, loss=1.6094, acc=0.2070]\n",
      "Validation: 100%|██████████| 4/4 [00:01<00:00,  2.26it/s]\n"
     ]
    },
    {
     "name": "stdout",
     "output_type": "stream",
     "text": [
      "Train Loss: 1.6094, Train Acc: 0.2070\n",
      "Val Loss: 1.6094, Val Acc: 0.2080\n",
      "\n",
      "Epoch 52/100\n"
     ]
    },
    {
     "name": "stderr",
     "output_type": "stream",
     "text": [
      "Training: 100%|██████████| 69/69 [00:19<00:00,  3.56it/s, loss=1.6104, acc=0.1960]\n",
      "Validation: 100%|██████████| 4/4 [00:01<00:00,  2.38it/s]\n"
     ]
    },
    {
     "name": "stdout",
     "output_type": "stream",
     "text": [
      "Train Loss: 1.6096, Train Acc: 0.1960\n",
      "Val Loss: 1.6094, Val Acc: 0.1970\n",
      "\n",
      "Epoch 53/100\n"
     ]
    },
    {
     "name": "stderr",
     "output_type": "stream",
     "text": [
      "Training: 100%|██████████| 69/69 [00:20<00:00,  3.29it/s, loss=1.6073, acc=0.1975]\n",
      "Validation: 100%|██████████| 4/4 [00:01<00:00,  2.29it/s]\n"
     ]
    },
    {
     "name": "stdout",
     "output_type": "stream",
     "text": [
      "Train Loss: 1.6095, Train Acc: 0.1975\n",
      "Val Loss: 1.6094, Val Acc: 0.2040\n",
      "\n",
      "Epoch 54/100\n"
     ]
    },
    {
     "name": "stderr",
     "output_type": "stream",
     "text": [
      "Training: 100%|██████████| 69/69 [00:19<00:00,  3.47it/s, loss=1.6093, acc=0.2007]\n",
      "Validation: 100%|██████████| 4/4 [00:01<00:00,  2.12it/s]\n"
     ]
    },
    {
     "name": "stdout",
     "output_type": "stream",
     "text": [
      "Train Loss: 1.6095, Train Acc: 0.2007\n",
      "Val Loss: 1.6094, Val Acc: 0.1810\n",
      "\n",
      "Epoch 55/100\n"
     ]
    },
    {
     "name": "stderr",
     "output_type": "stream",
     "text": [
      "Training: 100%|██████████| 69/69 [00:22<00:00,  3.08it/s, loss=1.6087, acc=0.2018]\n",
      "Validation: 100%|██████████| 4/4 [00:02<00:00,  1.96it/s]\n"
     ]
    },
    {
     "name": "stdout",
     "output_type": "stream",
     "text": [
      "Train Loss: 1.6095, Train Acc: 0.2018\n",
      "Val Loss: 1.6094, Val Acc: 0.2010\n",
      "\n",
      "Epoch 56/100\n"
     ]
    },
    {
     "name": "stderr",
     "output_type": "stream",
     "text": [
      "Training: 100%|██████████| 69/69 [00:21<00:00,  3.24it/s, loss=1.6097, acc=0.1945]\n",
      "Validation: 100%|██████████| 4/4 [00:01<00:00,  2.20it/s]\n"
     ]
    },
    {
     "name": "stdout",
     "output_type": "stream",
     "text": [
      "Train Loss: 1.6096, Train Acc: 0.1945\n",
      "Val Loss: 1.6094, Val Acc: 0.1980\n",
      "\n",
      "Epoch 57/100\n"
     ]
    },
    {
     "name": "stderr",
     "output_type": "stream",
     "text": [
      "Training: 100%|██████████| 69/69 [00:18<00:00,  3.66it/s, loss=1.6093, acc=0.2002]\n",
      "Validation: 100%|██████████| 4/4 [00:01<00:00,  2.50it/s]\n"
     ]
    },
    {
     "name": "stdout",
     "output_type": "stream",
     "text": [
      "Train Loss: 1.6096, Train Acc: 0.2002\n",
      "Val Loss: 1.6094, Val Acc: 0.1770\n",
      "\n",
      "Epoch 58/100\n"
     ]
    },
    {
     "name": "stderr",
     "output_type": "stream",
     "text": [
      "Training: 100%|██████████| 69/69 [00:20<00:00,  3.37it/s, loss=1.6094, acc=0.2032]\n",
      "Validation: 100%|██████████| 4/4 [00:01<00:00,  2.31it/s]\n"
     ]
    },
    {
     "name": "stdout",
     "output_type": "stream",
     "text": [
      "Train Loss: 1.6093, Train Acc: 0.2032\n",
      "Val Loss: 1.6094, Val Acc: 0.2010\n",
      "\n",
      "Epoch 59/100\n"
     ]
    },
    {
     "name": "stderr",
     "output_type": "stream",
     "text": [
      "Training: 100%|██████████| 69/69 [00:20<00:00,  3.38it/s, loss=1.6105, acc=0.1981]\n",
      "Validation: 100%|██████████| 4/4 [00:01<00:00,  2.24it/s]\n"
     ]
    },
    {
     "name": "stdout",
     "output_type": "stream",
     "text": [
      "Train Loss: 1.6095, Train Acc: 0.1981\n",
      "Val Loss: 1.6094, Val Acc: 0.1810\n",
      "\n",
      "Epoch 60/100\n"
     ]
    },
    {
     "name": "stderr",
     "output_type": "stream",
     "text": [
      "Training: 100%|██████████| 69/69 [00:19<00:00,  3.45it/s, loss=1.6107, acc=0.2038]\n",
      "Validation: 100%|██████████| 4/4 [00:01<00:00,  2.06it/s]\n"
     ]
    },
    {
     "name": "stdout",
     "output_type": "stream",
     "text": [
      "Train Loss: 1.6094, Train Acc: 0.2038\n",
      "Val Loss: 1.6094, Val Acc: 0.1880\n",
      "\n",
      "Epoch 61/100\n"
     ]
    },
    {
     "name": "stderr",
     "output_type": "stream",
     "text": [
      "Training: 100%|██████████| 69/69 [00:19<00:00,  3.47it/s, loss=1.6119, acc=0.2056]\n",
      "Validation: 100%|██████████| 4/4 [00:01<00:00,  2.28it/s]\n"
     ]
    },
    {
     "name": "stdout",
     "output_type": "stream",
     "text": [
      "Train Loss: 1.6095, Train Acc: 0.2056\n",
      "Val Loss: 1.6094, Val Acc: 0.1780\n",
      "\n",
      "Epoch 62/100\n"
     ]
    },
    {
     "name": "stderr",
     "output_type": "stream",
     "text": [
      "Training: 100%|██████████| 69/69 [00:20<00:00,  3.43it/s, loss=1.6096, acc=0.1946]\n",
      "Validation: 100%|██████████| 4/4 [00:01<00:00,  2.29it/s]\n"
     ]
    },
    {
     "name": "stdout",
     "output_type": "stream",
     "text": [
      "Train Loss: 1.6095, Train Acc: 0.1946\n",
      "Val Loss: 1.6094, Val Acc: 0.2010\n",
      "\n",
      "Epoch 63/100\n"
     ]
    },
    {
     "name": "stderr",
     "output_type": "stream",
     "text": [
      "Training: 100%|██████████| 69/69 [00:20<00:00,  3.36it/s, loss=1.6070, acc=0.1959]\n",
      "Validation: 100%|██████████| 4/4 [00:01<00:00,  2.37it/s]\n"
     ]
    },
    {
     "name": "stdout",
     "output_type": "stream",
     "text": [
      "Train Loss: 1.6095, Train Acc: 0.1959\n",
      "Val Loss: 1.6094, Val Acc: 0.1940\n",
      "\n",
      "Epoch 64/100\n"
     ]
    },
    {
     "name": "stderr",
     "output_type": "stream",
     "text": [
      "Training: 100%|██████████| 69/69 [00:20<00:00,  3.40it/s, loss=1.6105, acc=0.2003]\n",
      "Validation: 100%|██████████| 4/4 [00:01<00:00,  2.50it/s]\n"
     ]
    },
    {
     "name": "stdout",
     "output_type": "stream",
     "text": [
      "Train Loss: 1.6095, Train Acc: 0.2003\n",
      "Val Loss: 1.6094, Val Acc: 0.1920\n",
      "\n",
      "Epoch 65/100\n"
     ]
    },
    {
     "name": "stderr",
     "output_type": "stream",
     "text": [
      "Training: 100%|██████████| 69/69 [00:20<00:00,  3.43it/s, loss=1.6104, acc=0.1992]\n",
      "Validation: 100%|██████████| 4/4 [00:01<00:00,  2.40it/s]\n"
     ]
    },
    {
     "name": "stdout",
     "output_type": "stream",
     "text": [
      "Train Loss: 1.6095, Train Acc: 0.1992\n",
      "Val Loss: 1.6094, Val Acc: 0.1880\n",
      "\n",
      "Epoch 66/100\n"
     ]
    },
    {
     "name": "stderr",
     "output_type": "stream",
     "text": [
      "Training: 100%|██████████| 69/69 [00:20<00:00,  3.36it/s, loss=1.6112, acc=0.1999]\n",
      "Validation: 100%|██████████| 4/4 [00:02<00:00,  1.98it/s]\n"
     ]
    },
    {
     "name": "stdout",
     "output_type": "stream",
     "text": [
      "Train Loss: 1.6094, Train Acc: 0.1999\n",
      "Val Loss: 1.6094, Val Acc: 0.1820\n",
      "\n",
      "Epoch 67/100\n"
     ]
    },
    {
     "name": "stderr",
     "output_type": "stream",
     "text": [
      "Training: 100%|██████████| 69/69 [00:21<00:00,  3.20it/s, loss=1.6057, acc=0.1964]\n",
      "Validation: 100%|██████████| 4/4 [00:01<00:00,  2.18it/s]\n"
     ]
    },
    {
     "name": "stdout",
     "output_type": "stream",
     "text": [
      "Train Loss: 1.6094, Train Acc: 0.1964\n",
      "Val Loss: 1.6094, Val Acc: 0.2080\n",
      "\n",
      "Epoch 68/100\n"
     ]
    },
    {
     "name": "stderr",
     "output_type": "stream",
     "text": [
      "Training: 100%|██████████| 69/69 [00:18<00:00,  3.66it/s, loss=1.6088, acc=0.1983]\n",
      "Validation: 100%|██████████| 4/4 [00:01<00:00,  2.54it/s]\n"
     ]
    },
    {
     "name": "stdout",
     "output_type": "stream",
     "text": [
      "Train Loss: 1.6094, Train Acc: 0.1983\n",
      "Val Loss: 1.6094, Val Acc: 0.2110\n",
      "\n",
      "Epoch 69/100\n"
     ]
    },
    {
     "name": "stderr",
     "output_type": "stream",
     "text": [
      "Training: 100%|██████████| 69/69 [00:19<00:00,  3.54it/s, loss=1.6073, acc=0.1979]\n",
      "Validation: 100%|██████████| 4/4 [00:01<00:00,  2.12it/s]\n"
     ]
    },
    {
     "name": "stdout",
     "output_type": "stream",
     "text": [
      "Train Loss: 1.6096, Train Acc: 0.1979\n",
      "Val Loss: 1.6094, Val Acc: 0.2110\n",
      "\n",
      "Epoch 70/100\n"
     ]
    },
    {
     "name": "stderr",
     "output_type": "stream",
     "text": [
      "Training: 100%|██████████| 69/69 [00:20<00:00,  3.38it/s, loss=1.6101, acc=0.2009]\n",
      "Validation: 100%|██████████| 4/4 [00:01<00:00,  2.60it/s]\n"
     ]
    },
    {
     "name": "stdout",
     "output_type": "stream",
     "text": [
      "Train Loss: 1.6093, Train Acc: 0.2009\n",
      "Val Loss: 1.6094, Val Acc: 0.2050\n",
      "\n",
      "Epoch 71/100\n"
     ]
    },
    {
     "name": "stderr",
     "output_type": "stream",
     "text": [
      "Training: 100%|██████████| 69/69 [00:19<00:00,  3.62it/s, loss=1.6097, acc=0.2027]\n",
      "Validation: 100%|██████████| 4/4 [00:01<00:00,  2.24it/s]\n"
     ]
    },
    {
     "name": "stdout",
     "output_type": "stream",
     "text": [
      "Train Loss: 1.6096, Train Acc: 0.2027\n",
      "Val Loss: 1.6094, Val Acc: 0.2020\n",
      "\n",
      "Epoch 72/100\n"
     ]
    },
    {
     "name": "stderr",
     "output_type": "stream",
     "text": [
      "Training: 100%|██████████| 69/69 [00:21<00:00,  3.24it/s, loss=1.6078, acc=0.2099]\n",
      "Validation: 100%|██████████| 4/4 [00:01<00:00,  2.02it/s]\n"
     ]
    },
    {
     "name": "stdout",
     "output_type": "stream",
     "text": [
      "Train Loss: 1.6095, Train Acc: 0.2099\n",
      "Val Loss: 1.6094, Val Acc: 0.1950\n",
      "\n",
      "Epoch 73/100\n"
     ]
    },
    {
     "name": "stderr",
     "output_type": "stream",
     "text": [
      "Training: 100%|██████████| 69/69 [00:21<00:00,  3.24it/s, loss=1.6109, acc=0.1960]\n",
      "Validation: 100%|██████████| 4/4 [00:01<00:00,  2.26it/s]\n"
     ]
    },
    {
     "name": "stdout",
     "output_type": "stream",
     "text": [
      "Train Loss: 1.6095, Train Acc: 0.1960\n",
      "Val Loss: 1.6094, Val Acc: 0.1980\n",
      "\n",
      "Epoch 74/100\n"
     ]
    },
    {
     "name": "stderr",
     "output_type": "stream",
     "text": [
      "Training: 100%|██████████| 69/69 [00:20<00:00,  3.35it/s, loss=1.6086, acc=0.1987]\n",
      "Validation: 100%|██████████| 4/4 [00:01<00:00,  2.27it/s]\n"
     ]
    },
    {
     "name": "stdout",
     "output_type": "stream",
     "text": [
      "Train Loss: 1.6095, Train Acc: 0.1987\n",
      "Val Loss: 1.6094, Val Acc: 0.1990\n",
      "\n",
      "Epoch 75/100\n"
     ]
    },
    {
     "name": "stderr",
     "output_type": "stream",
     "text": [
      "Training: 100%|██████████| 69/69 [00:21<00:00,  3.20it/s, loss=1.6088, acc=0.2002]\n",
      "Validation: 100%|██████████| 4/4 [00:01<00:00,  2.38it/s]\n"
     ]
    },
    {
     "name": "stdout",
     "output_type": "stream",
     "text": [
      "Train Loss: 1.6094, Train Acc: 0.2002\n",
      "Val Loss: 1.6094, Val Acc: 0.2140\n",
      "\n",
      "Epoch 76/100\n"
     ]
    },
    {
     "name": "stderr",
     "output_type": "stream",
     "text": [
      "Training: 100%|██████████| 69/69 [00:20<00:00,  3.35it/s, loss=1.6110, acc=0.1927]\n",
      "Validation: 100%|██████████| 4/4 [00:01<00:00,  2.10it/s]\n"
     ]
    },
    {
     "name": "stdout",
     "output_type": "stream",
     "text": [
      "Train Loss: 1.6095, Train Acc: 0.1927\n",
      "Val Loss: 1.6094, Val Acc: 0.2010\n",
      "\n",
      "Epoch 77/100\n"
     ]
    },
    {
     "name": "stderr",
     "output_type": "stream",
     "text": [
      "Training: 100%|██████████| 69/69 [00:20<00:00,  3.34it/s, loss=1.6098, acc=0.2040]\n",
      "Validation: 100%|██████████| 4/4 [00:01<00:00,  2.43it/s]\n"
     ]
    },
    {
     "name": "stdout",
     "output_type": "stream",
     "text": [
      "Train Loss: 1.6095, Train Acc: 0.2040\n",
      "Val Loss: 1.6094, Val Acc: 0.2060\n",
      "\n",
      "Epoch 78/100\n"
     ]
    },
    {
     "name": "stderr",
     "output_type": "stream",
     "text": [
      "Training: 100%|██████████| 69/69 [00:19<00:00,  3.48it/s, loss=1.6075, acc=0.2030]\n",
      "Validation: 100%|██████████| 4/4 [00:01<00:00,  2.05it/s]\n"
     ]
    },
    {
     "name": "stdout",
     "output_type": "stream",
     "text": [
      "Train Loss: 1.6094, Train Acc: 0.2030\n",
      "Val Loss: 1.6094, Val Acc: 0.2010\n",
      "\n",
      "Epoch 79/100\n"
     ]
    },
    {
     "name": "stderr",
     "output_type": "stream",
     "text": [
      "Training: 100%|██████████| 69/69 [00:20<00:00,  3.35it/s, loss=1.6095, acc=0.1988]\n",
      "Validation: 100%|██████████| 4/4 [00:01<00:00,  2.04it/s]\n"
     ]
    },
    {
     "name": "stdout",
     "output_type": "stream",
     "text": [
      "Train Loss: 1.6095, Train Acc: 0.1988\n",
      "Val Loss: 1.6094, Val Acc: 0.2010\n",
      "\n",
      "Epoch 80/100\n"
     ]
    },
    {
     "name": "stderr",
     "output_type": "stream",
     "text": [
      "Training: 100%|██████████| 69/69 [00:20<00:00,  3.30it/s, loss=1.6111, acc=0.2004]\n",
      "Validation: 100%|██████████| 4/4 [00:01<00:00,  2.37it/s]\n"
     ]
    },
    {
     "name": "stdout",
     "output_type": "stream",
     "text": [
      "Train Loss: 1.6094, Train Acc: 0.2004\n",
      "Val Loss: 1.6094, Val Acc: 0.1980\n",
      "\n",
      "Epoch 81/100\n"
     ]
    },
    {
     "name": "stderr",
     "output_type": "stream",
     "text": [
      "Training: 100%|██████████| 69/69 [00:18<00:00,  3.69it/s, loss=1.6101, acc=0.1985]\n",
      "Validation: 100%|██████████| 4/4 [00:01<00:00,  2.45it/s]\n"
     ]
    },
    {
     "name": "stdout",
     "output_type": "stream",
     "text": [
      "Train Loss: 1.6094, Train Acc: 0.1985\n",
      "Val Loss: 1.6094, Val Acc: 0.2060\n",
      "\n",
      "Epoch 82/100\n"
     ]
    },
    {
     "name": "stderr",
     "output_type": "stream",
     "text": [
      "Training: 100%|██████████| 69/69 [00:20<00:00,  3.35it/s, loss=1.6097, acc=0.2030]\n",
      "Validation: 100%|██████████| 4/4 [00:01<00:00,  2.11it/s]\n"
     ]
    },
    {
     "name": "stdout",
     "output_type": "stream",
     "text": [
      "Train Loss: 1.6094, Train Acc: 0.2030\n",
      "Val Loss: 1.6094, Val Acc: 0.1910\n",
      "\n",
      "Epoch 83/100\n"
     ]
    },
    {
     "name": "stderr",
     "output_type": "stream",
     "text": [
      "Training: 100%|██████████| 69/69 [00:20<00:00,  3.29it/s, loss=1.6091, acc=0.2016]\n",
      "Validation: 100%|██████████| 4/4 [00:01<00:00,  2.10it/s]\n"
     ]
    },
    {
     "name": "stdout",
     "output_type": "stream",
     "text": [
      "Train Loss: 1.6093, Train Acc: 0.2016\n",
      "Val Loss: 1.6095, Val Acc: 0.1980\n",
      "\n",
      "Epoch 84/100\n"
     ]
    },
    {
     "name": "stderr",
     "output_type": "stream",
     "text": [
      "Training: 100%|██████████| 69/69 [00:21<00:00,  3.18it/s, loss=1.6100, acc=0.1920]\n",
      "Validation: 100%|██████████| 4/4 [00:01<00:00,  2.41it/s]\n"
     ]
    },
    {
     "name": "stdout",
     "output_type": "stream",
     "text": [
      "Train Loss: 1.6096, Train Acc: 0.1920\n",
      "Val Loss: 1.6094, Val Acc: 0.2160\n",
      "\n",
      "Epoch 85/100\n"
     ]
    },
    {
     "name": "stderr",
     "output_type": "stream",
     "text": [
      "Training: 100%|██████████| 69/69 [00:20<00:00,  3.31it/s, loss=1.6098, acc=0.2058]\n",
      "Validation: 100%|██████████| 4/4 [00:01<00:00,  2.56it/s]\n"
     ]
    },
    {
     "name": "stdout",
     "output_type": "stream",
     "text": [
      "Train Loss: 1.6094, Train Acc: 0.2058\n",
      "Val Loss: 1.6094, Val Acc: 0.2030\n",
      "\n",
      "Epoch 86/100\n"
     ]
    },
    {
     "name": "stderr",
     "output_type": "stream",
     "text": [
      "Training: 100%|██████████| 69/69 [00:19<00:00,  3.58it/s, loss=1.6094, acc=0.1991]\n",
      "Validation: 100%|██████████| 4/4 [00:01<00:00,  2.54it/s]\n"
     ]
    },
    {
     "name": "stdout",
     "output_type": "stream",
     "text": [
      "Train Loss: 1.6095, Train Acc: 0.1991\n",
      "Val Loss: 1.6094, Val Acc: 0.1900\n",
      "\n",
      "Epoch 87/100\n"
     ]
    },
    {
     "name": "stderr",
     "output_type": "stream",
     "text": [
      "Training: 100%|██████████| 69/69 [00:18<00:00,  3.71it/s, loss=1.6090, acc=0.2019]\n",
      "Validation: 100%|██████████| 4/4 [00:01<00:00,  2.40it/s]\n"
     ]
    },
    {
     "name": "stdout",
     "output_type": "stream",
     "text": [
      "Train Loss: 1.6094, Train Acc: 0.2019\n",
      "Val Loss: 1.6094, Val Acc: 0.2030\n",
      "\n",
      "Epoch 88/100\n"
     ]
    },
    {
     "name": "stderr",
     "output_type": "stream",
     "text": [
      "Training: 100%|██████████| 69/69 [00:19<00:00,  3.59it/s, loss=1.6086, acc=0.2017]\n",
      "Validation: 100%|██████████| 4/4 [00:01<00:00,  2.44it/s]\n"
     ]
    },
    {
     "name": "stdout",
     "output_type": "stream",
     "text": [
      "Train Loss: 1.6095, Train Acc: 0.2017\n",
      "Val Loss: 1.6094, Val Acc: 0.1990\n",
      "\n",
      "Epoch 89/100\n"
     ]
    },
    {
     "name": "stderr",
     "output_type": "stream",
     "text": [
      "Training: 100%|██████████| 69/69 [00:18<00:00,  3.68it/s, loss=1.6077, acc=0.2059]\n",
      "Validation: 100%|██████████| 4/4 [00:01<00:00,  2.50it/s]\n"
     ]
    },
    {
     "name": "stdout",
     "output_type": "stream",
     "text": [
      "Train Loss: 1.6094, Train Acc: 0.2059\n",
      "Val Loss: 1.6095, Val Acc: 0.1980\n",
      "\n",
      "Epoch 90/100\n"
     ]
    },
    {
     "name": "stderr",
     "output_type": "stream",
     "text": [
      "Training: 100%|██████████| 69/69 [00:18<00:00,  3.68it/s, loss=1.6087, acc=0.2027]\n",
      "Validation: 100%|██████████| 4/4 [00:01<00:00,  2.48it/s]\n"
     ]
    },
    {
     "name": "stdout",
     "output_type": "stream",
     "text": [
      "Train Loss: 1.6094, Train Acc: 0.2027\n",
      "Val Loss: 1.6094, Val Acc: 0.2150\n",
      "\n",
      "Epoch 91/100\n"
     ]
    },
    {
     "name": "stderr",
     "output_type": "stream",
     "text": [
      "Training: 100%|██████████| 69/69 [00:19<00:00,  3.61it/s, loss=1.6086, acc=0.2025]\n",
      "Validation: 100%|██████████| 4/4 [00:01<00:00,  2.48it/s]\n"
     ]
    },
    {
     "name": "stdout",
     "output_type": "stream",
     "text": [
      "Train Loss: 1.6094, Train Acc: 0.2025\n",
      "Val Loss: 1.6094, Val Acc: 0.2020\n",
      "\n",
      "Epoch 92/100\n"
     ]
    },
    {
     "name": "stderr",
     "output_type": "stream",
     "text": [
      "Training: 100%|██████████| 69/69 [00:18<00:00,  3.68it/s, loss=1.6087, acc=0.1991]\n",
      "Validation: 100%|██████████| 4/4 [00:01<00:00,  2.54it/s]\n"
     ]
    },
    {
     "name": "stdout",
     "output_type": "stream",
     "text": [
      "Train Loss: 1.6096, Train Acc: 0.1991\n",
      "Val Loss: 1.6094, Val Acc: 0.2040\n",
      "\n",
      "Epoch 93/100\n"
     ]
    },
    {
     "name": "stderr",
     "output_type": "stream",
     "text": [
      "Training: 100%|██████████| 69/69 [00:18<00:00,  3.72it/s, loss=1.6102, acc=0.2032]\n",
      "Validation: 100%|██████████| 4/4 [00:01<00:00,  2.49it/s]\n"
     ]
    },
    {
     "name": "stdout",
     "output_type": "stream",
     "text": [
      "Train Loss: 1.6094, Train Acc: 0.2032\n",
      "Val Loss: 1.6094, Val Acc: 0.2180\n",
      "\n",
      "Epoch 94/100\n"
     ]
    },
    {
     "name": "stderr",
     "output_type": "stream",
     "text": [
      "Training: 100%|██████████| 69/69 [00:19<00:00,  3.56it/s, loss=1.6098, acc=0.1930]\n",
      "Validation: 100%|██████████| 4/4 [00:01<00:00,  2.41it/s]\n"
     ]
    },
    {
     "name": "stdout",
     "output_type": "stream",
     "text": [
      "Train Loss: 1.6095, Train Acc: 0.1930\n",
      "Val Loss: 1.6094, Val Acc: 0.1990\n",
      "\n",
      "Epoch 95/100\n"
     ]
    },
    {
     "name": "stderr",
     "output_type": "stream",
     "text": [
      "Training: 100%|██████████| 69/69 [00:18<00:00,  3.66it/s, loss=1.6092, acc=0.1993]\n",
      "Validation: 100%|██████████| 4/4 [00:01<00:00,  2.60it/s]\n"
     ]
    },
    {
     "name": "stdout",
     "output_type": "stream",
     "text": [
      "Train Loss: 1.6095, Train Acc: 0.1993\n",
      "Val Loss: 1.6094, Val Acc: 0.2030\n",
      "\n",
      "Epoch 96/100\n"
     ]
    },
    {
     "name": "stderr",
     "output_type": "stream",
     "text": [
      "Training: 100%|██████████| 69/69 [00:18<00:00,  3.68it/s, loss=1.6097, acc=0.1962]\n",
      "Validation: 100%|██████████| 4/4 [00:01<00:00,  2.49it/s]\n"
     ]
    },
    {
     "name": "stdout",
     "output_type": "stream",
     "text": [
      "Train Loss: 1.6095, Train Acc: 0.1962\n",
      "Val Loss: 1.6094, Val Acc: 0.2080\n",
      "\n",
      "Epoch 97/100\n"
     ]
    },
    {
     "name": "stderr",
     "output_type": "stream",
     "text": [
      "Training: 100%|██████████| 69/69 [00:19<00:00,  3.56it/s, loss=1.6092, acc=0.2040]\n",
      "Validation: 100%|██████████| 4/4 [00:01<00:00,  2.45it/s]\n"
     ]
    },
    {
     "name": "stdout",
     "output_type": "stream",
     "text": [
      "Train Loss: 1.6095, Train Acc: 0.2040\n",
      "Val Loss: 1.6094, Val Acc: 0.2060\n",
      "\n",
      "Epoch 98/100\n"
     ]
    },
    {
     "name": "stderr",
     "output_type": "stream",
     "text": [
      "Training: 100%|██████████| 69/69 [00:18<00:00,  3.69it/s, loss=1.6086, acc=0.2049]\n",
      "Validation: 100%|██████████| 4/4 [00:01<00:00,  2.65it/s]\n"
     ]
    },
    {
     "name": "stdout",
     "output_type": "stream",
     "text": [
      "Train Loss: 1.6094, Train Acc: 0.2049\n",
      "Val Loss: 1.6094, Val Acc: 0.1960\n",
      "\n",
      "Epoch 99/100\n"
     ]
    },
    {
     "name": "stderr",
     "output_type": "stream",
     "text": [
      "Training: 100%|██████████| 69/69 [00:18<00:00,  3.73it/s, loss=1.6102, acc=0.2002]\n",
      "Validation: 100%|██████████| 4/4 [00:01<00:00,  2.55it/s]\n"
     ]
    },
    {
     "name": "stdout",
     "output_type": "stream",
     "text": [
      "Train Loss: 1.6094, Train Acc: 0.2002\n",
      "Val Loss: 1.6094, Val Acc: 0.2100\n",
      "\n",
      "Epoch 100/100\n"
     ]
    },
    {
     "name": "stderr",
     "output_type": "stream",
     "text": [
      "Training: 100%|██████████| 69/69 [00:18<00:00,  3.76it/s, loss=1.6106, acc=0.2000]\n",
      "Validation: 100%|██████████| 4/4 [00:01<00:00,  2.56it/s]"
     ]
    },
    {
     "name": "stdout",
     "output_type": "stream",
     "text": [
      "Train Loss: 1.6096, Train Acc: 0.2000\n",
      "Val Loss: 1.6094, Val Acc: 0.1990\n",
      "Training completed in 34.09 minutes\n",
      "Best validation accuracy: 0.2280\n"
     ]
    },
    {
     "name": "stderr",
     "output_type": "stream",
     "text": [
      "\n"
     ]
    },
    {
     "data": {
      "text/html": [],
      "text/plain": [
       "<IPython.core.display.HTML object>"
      ]
     },
     "metadata": {},
     "output_type": "display_data"
    },
    {
     "data": {
      "text/html": [
       "<br>    <style><br>        .wandb-row {<br>            display: flex;<br>            flex-direction: row;<br>            flex-wrap: wrap;<br>            justify-content: flex-start;<br>            width: 100%;<br>        }<br>        .wandb-col {<br>            display: flex;<br>            flex-direction: column;<br>            flex-basis: 100%;<br>            flex: 1;<br>            padding: 10px;<br>        }<br>    </style><br><div class=\"wandb-row\"><div class=\"wandb-col\"><h3>Run history:</h3><br/><table class=\"wandb\"><tr><td>epoch</td><td>▁▁▁▁▂▂▂▂▃▃▃▃▃▃▃▄▄▄▄▄▅▅▅▅▅▆▆▆▆▆▆▇▇▇▇▇▇▇██</td></tr><tr><td>learning_rate</td><td>▁▁▁▁▁▁▁▁▁▁▁▁▁▁▁▁▁▁▁▁▁▁▁▁▁▁▁▁▁▁▁▁▁▁▁▁▁▁▁▁</td></tr><tr><td>train_accuracy</td><td>▃▂▃▁▂▁▅▆▇▁▄▇▁▂▇▃█▂█▃▃▃▅▂▅▅▄▄▄▅▅▁▆▅▆▇▅▄▆▅</td></tr><tr><td>train_loss</td><td>▇▄▂▇▅█▄▅▄▃▅▄▃▃▅█▂▃▃▆▆▅▄▆▁▅▅▃▄▆▃▅▅▅▃▆▄▄▃▄</td></tr><tr><td>val_accuracy</td><td>▃▂▁▃█▂▇▂▄▆▄▆▃▅▄▇▄▂▆▄▆▄▁▅▄▃▃▂▁▇▄▇▄▆█▄▅▄▆▄</td></tr><tr><td>val_loss</td><td>▅▂▅▄▄▃▅▅▃▆▄▃▄▂▅▅▂▄▁▄▄▄▅▄▄▅▅▄▂▃▄▄▂▆▅█▅▃▄▃</td></tr></table><br/></div><div class=\"wandb-col\"><h3>Run summary:</h3><br/><table class=\"wandb\"><tr><td>best_val_accuracy</td><td>0.228</td></tr><tr><td>epoch</td><td>99</td></tr><tr><td>learning_rate</td><td>0.0</td></tr><tr><td>train_accuracy</td><td>0.19998</td></tr><tr><td>train_loss</td><td>1.6096</td></tr><tr><td>val_accuracy</td><td>0.199</td></tr><tr><td>val_loss</td><td>1.60941</td></tr></table><br/></div></div>"
      ],
      "text/plain": [
       "<IPython.core.display.HTML object>"
      ]
     },
     "metadata": {},
     "output_type": "display_data"
    },
    {
     "data": {
      "text/html": [
       " View run <strong style=\"color:#cdcd00\">rnn-2025-04-05T18:16:16</strong> at: <a href='https://wandb.ai/fabian-dubach-hochschule-luzern/CommonsenseQA/runs/x1ic3q0l' target=\"_blank\">https://wandb.ai/fabian-dubach-hochschule-luzern/CommonsenseQA/runs/x1ic3q0l</a><br> View project at: <a href='https://wandb.ai/fabian-dubach-hochschule-luzern/CommonsenseQA' target=\"_blank\">https://wandb.ai/fabian-dubach-hochschule-luzern/CommonsenseQA</a><br>Synced 5 W&B file(s), 0 media file(s), 0 artifact file(s) and 0 other file(s)"
      ],
      "text/plain": [
       "<IPython.core.display.HTML object>"
      ]
     },
     "metadata": {},
     "output_type": "display_data"
    },
    {
     "data": {
      "text/html": [
       "Find logs at: <code>.\\wandb\\run-20250405_181616-x1ic3q0l\\logs</code>"
      ],
      "text/plain": [
       "<IPython.core.display.HTML object>"
      ]
     },
     "metadata": {},
     "output_type": "display_data"
    },
    {
     "name": "stdout",
     "output_type": "stream",
     "text": [
      "RNN Training complete! Best validation accuracy: 0.2280\n"
     ]
    }
   ],
   "source": [
    "def save_checkpoint(model, optimizer, epoch, best_val_accuracy, save_path):\n",
    "    checkpoint = {\n",
    "        'epoch': epoch,\n",
    "        'model_state_dict': model.state_dict(),\n",
    "        'optimizer_state_dict': optimizer.state_dict(),\n",
    "        'best_val_accuracy': best_val_accuracy\n",
    "    }\n",
    "    torch.save(checkpoint, save_path)\n",
    "    try:\n",
    "        if 'best_model' in save_path:\n",
    "            wandb.log({\n",
    "                \"best_model_checkpoint\": {\n",
    "                    \"path\": save_path,\n",
    "                    \"epoch\": epoch,\n",
    "                    \"val_accuracy\": best_val_accuracy\n",
    "                }\n",
    "            })\n",
    "    except Exception as e:\n",
    "        print(f\"Error logging checkpoint to wandb: {e}\")\n",
    "\n",
    "def train_rnn_model(model, criterion, optimizer, train_loader, valid_loader, num_epochs, device, checkpoints_path=None, log_wandb=True, gradient_clip_val=1.0):\n",
    "    best_val_accuracy = 0.0\n",
    "    training_start_time = time.time()\n",
    "    \n",
    "    for epoch in range(num_epochs):\n",
    "        print(f\"\\nEpoch {epoch+1}/{num_epochs}\")\n",
    "        \n",
    "        # Training phase\n",
    "        model.train()\n",
    "        train_loss = 0.0\n",
    "        train_correct = 0\n",
    "        train_total = 0\n",
    "        \n",
    "        with tqdm(train_loader, desc=\"Training\") as progress_bar:\n",
    "            for batch_data in progress_bar:\n",
    "                # Unpack the batch data\n",
    "                padded_sequences, sequence_lengths, indices, answers = batch_data\n",
    "                \n",
    "                # Move to device\n",
    "                padded_sequences = padded_sequences.to(device)\n",
    "                sequence_lengths = sequence_lengths.to(device)\n",
    "                indices = indices.to(device)\n",
    "                answers = answers.to(device)\n",
    "                \n",
    "                # Forward pass\n",
    "                optimizer.zero_grad()\n",
    "                outputs = model(padded_sequences, sequence_lengths, indices)\n",
    "                loss = criterion(outputs, answers)\n",
    "                \n",
    "                # Backward pass\n",
    "                loss.backward()\n",
    "                if gradient_clip_val > 0:\n",
    "                    nn.utils.clip_grad_norm_(model.parameters(), gradient_clip_val)\n",
    "                optimizer.step()\n",
    "                \n",
    "                # Statistics\n",
    "                train_loss += loss.item()\n",
    "                _, predicted = torch.max(outputs, 1)\n",
    "                train_total += answers.size(0)\n",
    "                train_correct += (predicted == answers).sum().item()\n",
    "                \n",
    "                # Update progress bar\n",
    "                progress_bar.set_postfix({\n",
    "                    'loss': f\"{loss.item():.4f}\",\n",
    "                    'acc': f\"{train_correct/train_total:.4f}\"\n",
    "                })\n",
    "        \n",
    "        train_accuracy = train_correct / train_total\n",
    "        avg_train_loss = train_loss / len(train_loader)\n",
    "        \n",
    "        # Validation phase\n",
    "        model.eval()\n",
    "        val_loss = 0.0\n",
    "        val_correct = 0\n",
    "        val_total = 0\n",
    "        \n",
    "        with torch.no_grad():\n",
    "            for batch_data in tqdm(valid_loader, desc=\"Validation\"):\n",
    "                # Unpack the batch data\n",
    "                padded_sequences, sequence_lengths, indices, answers = batch_data\n",
    "                \n",
    "                # Move to device\n",
    "                padded_sequences = padded_sequences.to(device)\n",
    "                sequence_lengths = sequence_lengths.to(device)\n",
    "                indices = indices.to(device)\n",
    "                answers = answers.to(device)\n",
    "                \n",
    "                # Forward pass\n",
    "                outputs = model(padded_sequences, sequence_lengths, indices)\n",
    "                loss = criterion(outputs, answers)\n",
    "                \n",
    "                # Statistics\n",
    "                val_loss += loss.item()\n",
    "                _, predicted = torch.max(outputs, 1)\n",
    "                val_total += answers.size(0)\n",
    "                val_correct += (predicted == answers).sum().item()\n",
    "        \n",
    "        val_accuracy = val_correct / val_total\n",
    "        avg_val_loss = val_loss / len(valid_loader)\n",
    "        \n",
    "        # Save best model\n",
    "        if val_accuracy > best_val_accuracy:\n",
    "            print(f\"Validation accuracy improved from {best_val_accuracy:.4f} to {val_accuracy:.4f}\")\n",
    "            best_val_accuracy = val_accuracy\n",
    "            best_model_path = os.path.join(checkpoints_path, 'best_rnn_model.pt')\n",
    "            save_checkpoint(model, optimizer, epoch+1, best_val_accuracy, best_model_path)\n",
    "        \n",
    "        # Print metrics\n",
    "        print(f\"Train Loss: {avg_train_loss:.4f}, Train Acc: {train_accuracy:.4f}\")\n",
    "        print(f\"Val Loss: {avg_val_loss:.4f}, Val Acc: {val_accuracy:.4f}\")\n",
    "        \n",
    "        # Log to wandb\n",
    "        if log_wandb:\n",
    "            wandb.log({\n",
    "                \"epoch\": epoch,\n",
    "                \"train_loss\": avg_train_loss,\n",
    "                \"train_accuracy\": train_accuracy,\n",
    "                \"val_loss\": avg_val_loss,\n",
    "                \"val_accuracy\": val_accuracy,\n",
    "                \"learning_rate\": optimizer.param_groups[0]['lr']\n",
    "            })\n",
    "    \n",
    "    print(f\"Training completed in {(time.time() - training_start_time)/60:.2f} minutes\")\n",
    "    print(f\"Best validation accuracy: {best_val_accuracy:.4f}\")\n",
    "    \n",
    "    # Final metrics for wandb\n",
    "    if log_wandb:\n",
    "        wandb.run.summary[\"best_val_accuracy\"] = best_val_accuracy\n",
    "        wandb.finish()\n",
    "    \n",
    "    return model, best_val_accuracy\n",
    "\n",
    "# Modify the training setup to remove scheduler from checkpoint saving\n",
    "try:\n",
    "    trained_rnn_model, best_rnn_accuracy = train_rnn_model(\n",
    "        model=rnn_model,\n",
    "        criterion=criterion,\n",
    "        optimizer=optimizer,\n",
    "        train_loader=train_rnn_loader,\n",
    "        valid_loader=valid_rnn_loader,\n",
    "        num_epochs=num_epochs,\n",
    "        device=device,\n",
    "        checkpoints_path=checkpoints_path,\n",
    "        log_wandb=True,\n",
    "        gradient_clip_val=rnn_run.config.gradient_clipping\n",
    "    )\n",
    "    print(f\"RNN Training complete! Best validation accuracy: {best_rnn_accuracy:.4f}\")\n",
    "except Exception as e:\n",
    "    print(f\"Training failed with error: {e}\")\n",
    "    import traceback\n",
    "    import sys\n",
    "    \n",
    "    # Print detailed traceback\n",
    "    print(\"Detailed error traceback:\")\n",
    "    traceback.print_exc()\n",
    "    \n",
    "    # Try to save the model\n",
    "    try:\n",
    "        torch.save(rnn_model.state_dict(), os.path.join(checkpoints_path, \"emergency_save.pt\"))\n",
    "        print(\"Model saved in emergency mode\")\n",
    "    except Exception as save_error:\n",
    "        print(f\"Failed to save model: {save_error}\")\n",
    "    \n",
    "    # Re-raise the original exception\n",
    "    raise"
   ]
  },
  {
   "cell_type": "markdown",
   "metadata": {},
   "source": [
    "# **Evaluation**"
   ]
  },
  {
   "cell_type": "markdown",
   "metadata": {},
   "source": [
    "**run1**\n",
    "batch_size = 32\n",
    "embedding_dim = 300\n",
    "hidden_dim = 64\n",
    "dropout_rate = 0.2"
   ]
  },
  {
   "cell_type": "code",
   "execution_count": null,
   "metadata": {},
   "outputs": [],
   "source": []
  },
  {
   "cell_type": "markdown",
   "metadata": {},
   "source": [
    "# **Interpretation**"
   ]
  }
 ],
 "metadata": {
  "kernelspec": {
   "display_name": "Python 3",
   "language": "python",
   "name": "python3"
  },
  "language_info": {
   "codemirror_mode": {
    "name": "ipython",
    "version": 3
   },
   "file_extension": ".py",
   "mimetype": "text/x-python",
   "name": "python",
   "nbconvert_exporter": "python",
   "pygments_lexer": "ipython3",
   "version": "3.12.8"
  }
 },
 "nbformat": 4,
 "nbformat_minor": 2
}
