{
 "cells": [
  {
   "cell_type": "markdown",
   "metadata": {},
   "source": [
    "# **FS25 NLP Project 1: Word Embeddings/Recurrent Neural Networks**"
   ]
  },
  {
   "cell_type": "markdown",
   "metadata": {},
   "source": [
    "Fabian Dubach"
   ]
  },
  {
   "cell_type": "markdown",
   "metadata": {},
   "source": [
    "# **Introduction**"
   ]
  },
  {
   "cell_type": "markdown",
   "metadata": {},
   "source": [
    "The task for this project was to answer common sense questions with the usage of two different architectures: Word embeddings (word2vec, GloVe or fastText) with a classifier and a 2-layer RNN architecture with a classifier (LSTM or GRU). We had to also track the trainings with Wandb (workspace URL: https://wandb.ai/fabian-dubach-hochschule-luzern/experiment-tracking/runs/gtg68kwg/workspace?nw=nwuserfabiandubach)."
   ]
  },
  {
   "cell_type": "markdown",
   "metadata": {},
   "source": [
    "# **Setup**"
   ]
  },
  {
   "cell_type": "markdown",
   "metadata": {},
   "source": [
    "Import all libraries needed to run the code"
   ]
  },
  {
   "cell_type": "code",
   "execution_count": 108,
   "metadata": {},
   "outputs": [],
   "source": [
    "import torch\n",
    "import torch.nn as nn\n",
    "from tqdm import trange\n",
    "from torch.utils.data import DataLoader, Dataset\n",
    "from datasets import load_dataset\n",
    "import gensim.downloader as api\n",
    "import numpy as np\n",
    "import pandas as pd\n",
    "import nltk\n",
    "from nltk.corpus import stopwords\n",
    "from nltk.tokenize import word_tokenize\n",
    "from collections import Counter\n",
    "import seaborn as sns\n",
    "import matplotlib.pyplot as plt\n",
    "import wandb\n",
    "from lightning.pytorch.loggers import WandbLogger"
   ]
  },
  {
   "cell_type": "markdown",
   "metadata": {},
   "source": [
    "Setup random seed to ensure reproducibility\n",
    "\n",
    "_Info about the seed value: The field of natural language processing began in the 1940s, after World War II. At this time, people recognized the importance of translation from one language to another and hoped to create a machine that could do this sort of translation automatically._"
   ]
  },
  {
   "cell_type": "code",
   "execution_count": 2,
   "metadata": {},
   "outputs": [],
   "source": [
    "SEED = 1940\n",
    "\n",
    "np.random.seed(SEED)\n",
    "torch.manual_seed(SEED)\n",
    "torch.cuda.manual_seed(SEED)\n",
    "torch.backends.cudnn.deterministic = True"
   ]
  },
  {
   "cell_type": "markdown",
   "metadata": {},
   "source": [
    "Download tokenizer files"
   ]
  },
  {
   "cell_type": "code",
   "execution_count": 99,
   "metadata": {},
   "outputs": [
    {
     "name": "stderr",
     "output_type": "stream",
     "text": [
      "[nltk_data] Downloading package punkt_tab to\n",
      "[nltk_data]     C:\\Users\\fabia\\AppData\\Roaming\\nltk_data...\n",
      "[nltk_data]   Package punkt_tab is already up-to-date!\n",
      "[nltk_data] Downloading package stopwords to\n",
      "[nltk_data]     C:\\Users\\fabia\\AppData\\Roaming\\nltk_data...\n",
      "[nltk_data]   Package stopwords is already up-to-date!\n"
     ]
    },
    {
     "data": {
      "text/plain": [
       "True"
      ]
     },
     "execution_count": 99,
     "metadata": {},
     "output_type": "execute_result"
    }
   ],
   "source": [
    "nltk.download('punkt_tab')\n",
    "nltk.download('stopwords')"
   ]
  },
  {
   "cell_type": "markdown",
   "metadata": {},
   "source": [
    "Load pre-trained GloVe word embeddings (300 dimensions)\n",
    "\n",
    "I chose GloVe because I've seen that GloVe performs well on semantic similarity and analogical reasoning. In comparison to FastText, Glove can't handle unknown words and typos, but this disadvantage is often outweighed by GloVe's stronger performance on semantic relationships. I used 300 dimensions because it represents word meanings more completely than smaller options (50- or 100 dimensions) while still being practical to use."
   ]
  },
  {
   "cell_type": "code",
   "execution_count": 5,
   "metadata": {},
   "outputs": [],
   "source": [
    "glove_model = api.load('glove-wiki-gigaword-300')"
   ]
  },
  {
   "cell_type": "markdown",
   "metadata": {},
   "source": [
    "For the project, we had to use the CommonsenseQA dataset, which is a multiple-choice question answering dataset that contains 12'247 different questions and was developed to benchmark machine understanding of everyday knowledge. For each questions there are 5 given answer choices, where only one of them is correct. To be able to answer these questions, \"commonsense\" is needed. The dataset is available on HuggingFace: https://huggingface.co/datasets/tau/commonsense_qa."
   ]
  },
  {
   "cell_type": "markdown",
   "metadata": {},
   "source": [
    "I split the dataset into training, validation and test sets to allow for model development and evaluation. I used the last 1'000 examples from the training set for validation and the original validation set for testing, since the real test set has no answer keys."
   ]
  },
  {
   "cell_type": "code",
   "execution_count": 6,
   "metadata": {},
   "outputs": [
    {
     "name": "stdout",
     "output_type": "stream",
     "text": [
      "8741 1000 1221\n"
     ]
    }
   ],
   "source": [
    "train = load_dataset(\"tau/commonsense_qa\", split=\"train[:-1000]\")\n",
    "valid = load_dataset(\"tau/commonsense_qa\", split=\"train[-1000:]\")\n",
    "test = load_dataset(\"tau/commonsense_qa\", split=\"validation\")\n",
    "\n",
    "print(len(train), len(valid), len(test))"
   ]
  },
  {
   "cell_type": "markdown",
   "metadata": {},
   "source": [
    "# **Data Exploration**"
   ]
  },
  {
   "cell_type": "markdown",
   "metadata": {},
   "source": [
    "In this section I tried to get some insight to understand its structure and patterns."
   ]
  },
  {
   "cell_type": "markdown",
   "metadata": {},
   "source": [
    "### 1. Explore dataset structure"
   ]
  },
  {
   "cell_type": "code",
   "execution_count": 70,
   "metadata": {},
   "outputs": [
    {
     "name": "stdout",
     "output_type": "stream",
     "text": [
      "\u001b[4mDataset Features\u001b[0m\n",
      "id\n",
      "question\n",
      "question_concept\n",
      "choices\n",
      "answerKey\n",
      "\n",
      "\u001b[4mExample\u001b[0m\n",
      "id: 075e483d21c29a511267ef62bedc0461\n",
      "question: The sanctions against the school were a punishing blow, and they seemed to what the efforts the school had made to change?\n",
      "question_concept: punishing\n",
      "choices: {'label': ['A', 'B', 'C', 'D', 'E'], 'text': ['ignore', 'enforce', 'authoritarian', 'yell at', 'avoid']}\n",
      "answerKey: A\n"
     ]
    }
   ],
   "source": [
    "print(\"\\033[4m\" + \"Dataset Features\" + \"\\033[0m\")\n",
    "for feature in train.features:\n",
    "    print(feature)\n",
    "print(\"\\n\" + \"\\033[4m\" + \"Example\" + \"\\033[0m\")\n",
    "for feature in train.features:\n",
    "    print(feature + \":\", train[0][str(feature)])"
   ]
  },
  {
   "cell_type": "markdown",
   "metadata": {},
   "source": [
    "### 2. Get a general info about each dataset"
   ]
  },
  {
   "cell_type": "code",
   "execution_count": 64,
   "metadata": {},
   "outputs": [],
   "source": [
    "def dataset_to_df(dataset):\n",
    "    return pd.DataFrame(dataset)\n",
    "\n",
    "train_df = dataset_to_df(train)\n",
    "valid_df = dataset_to_df(valid)\n",
    "test_df = dataset_to_df(test)"
   ]
  },
  {
   "cell_type": "code",
   "execution_count": 71,
   "metadata": {},
   "outputs": [
    {
     "name": "stdout",
     "output_type": "stream",
     "text": [
      "\u001b[4mTrain Info\u001b[0m\n",
      "<class 'pandas.core.frame.DataFrame'>\n",
      "RangeIndex: 8741 entries, 0 to 8740\n",
      "Data columns (total 5 columns):\n",
      " #   Column            Non-Null Count  Dtype \n",
      "---  ------            --------------  ----- \n",
      " 0   id                8741 non-null   object\n",
      " 1   question          8741 non-null   object\n",
      " 2   question_concept  8741 non-null   object\n",
      " 3   choices           8741 non-null   object\n",
      " 4   answerKey         8741 non-null   object\n",
      "dtypes: object(5)\n",
      "memory usage: 341.6+ KB\n",
      "None\n"
     ]
    }
   ],
   "source": [
    "print(\"\\033[4m\" + \"Train Info\" + \"\\033[0m\")\n",
    "print(train_df.info())"
   ]
  },
  {
   "cell_type": "code",
   "execution_count": 72,
   "metadata": {},
   "outputs": [
    {
     "name": "stdout",
     "output_type": "stream",
     "text": [
      "\u001b[4mValidation Info\u001b[0m\n",
      "<class 'pandas.core.frame.DataFrame'>\n",
      "RangeIndex: 1000 entries, 0 to 999\n",
      "Data columns (total 5 columns):\n",
      " #   Column            Non-Null Count  Dtype \n",
      "---  ------            --------------  ----- \n",
      " 0   id                1000 non-null   object\n",
      " 1   question          1000 non-null   object\n",
      " 2   question_concept  1000 non-null   object\n",
      " 3   choices           1000 non-null   object\n",
      " 4   answerKey         1000 non-null   object\n",
      "dtypes: object(5)\n",
      "memory usage: 39.2+ KB\n",
      "None\n"
     ]
    }
   ],
   "source": [
    "print(\"\\033[4m\" + \"Validation Info\" + \"\\033[0m\")\n",
    "print(valid_df.info())"
   ]
  },
  {
   "cell_type": "code",
   "execution_count": 73,
   "metadata": {},
   "outputs": [
    {
     "name": "stdout",
     "output_type": "stream",
     "text": [
      "\u001b[4mTest Info\u001b[0m\n",
      "<class 'pandas.core.frame.DataFrame'>\n",
      "RangeIndex: 1221 entries, 0 to 1220\n",
      "Data columns (total 5 columns):\n",
      " #   Column            Non-Null Count  Dtype \n",
      "---  ------            --------------  ----- \n",
      " 0   id                1221 non-null   object\n",
      " 1   question          1221 non-null   object\n",
      " 2   question_concept  1221 non-null   object\n",
      " 3   choices           1221 non-null   object\n",
      " 4   answerKey         1221 non-null   object\n",
      "dtypes: object(5)\n",
      "memory usage: 47.8+ KB\n",
      "None\n"
     ]
    }
   ],
   "source": [
    "print(\"\\033[4m\" + \"Test Info\" + \"\\033[0m\")\n",
    "print(test_df.info())"
   ]
  },
  {
   "cell_type": "markdown",
   "metadata": {},
   "source": [
    "### 3. Analyze question lengths"
   ]
  },
  {
   "cell_type": "code",
   "execution_count": 81,
   "metadata": {},
   "outputs": [
    {
     "name": "stdout",
     "output_type": "stream",
     "text": [
      "\u001b[4mQuestion length (characters)\u001b[0m\n",
      "Min: 15\n",
      "Max: 376\n",
      "Mean: 69.31\n",
      "Median: 64.0\n",
      "\n",
      "\u001b[4mQuestion Word Count\u001b[0m\n",
      "Min: 3\n",
      "Max: 63\n",
      "Mean: 13.23\n",
      "Median: 12.0\n"
     ]
    }
   ],
   "source": [
    "combined_df = pd.concat([train_df, valid_df, test_df], ignore_index=True)\n",
    "\n",
    "combined_df['question_length'] = combined_df['question'].apply(len)\n",
    "combined_df['question_word_count'] = combined_df['question'].apply(lambda x: len(x.split()))\n",
    "\n",
    "print(\"\\033[4m\" + \"Question length (characters)\" + \"\\033[0m\")\n",
    "print(f\"Min: {combined_df['question_length'].min()}\")\n",
    "print(f\"Max: {combined_df['question_length'].max()}\")\n",
    "print(f\"Mean: {combined_df['question_length'].mean():.2f}\")\n",
    "print(f\"Median: {combined_df['question_length'].median()}\")\n",
    "\n",
    "print(\"\\n\\033[4m\" + \"Question Word Count\" + \"\\033[0m\")\n",
    "print(f\"Min: {combined_df['question_word_count'].min()}\")\n",
    "print(f\"Max: {combined_df['question_word_count'].max()}\")\n",
    "print(f\"Mean: {combined_df['question_word_count'].mean():.2f}\")\n",
    "print(f\"Median: {combined_df['question_word_count'].median()}\")"
   ]
  },
  {
   "cell_type": "markdown",
   "metadata": {},
   "source": [
    "### 4. Analyze option lengths"
   ]
  },
  {
   "cell_type": "code",
   "execution_count": 83,
   "metadata": {},
   "outputs": [
    {
     "name": "stdout",
     "output_type": "stream",
     "text": [
      "\u001b[4mOption length (characters)\u001b[0m\n",
      "Min: 3\n",
      "Max: 149\n",
      "Mean: 9.34\n",
      "Median: 9.0\n",
      "\u001b[4m\n",
      "Option word count\u001b[0m\n",
      "Min: 1\n",
      "Max: 26\n",
      "Mean: 1.52\n",
      "Median: 1.0\n"
     ]
    }
   ],
   "source": [
    "def get_option_lengths(choices):\n",
    "    return [len(text) for text in choices['text']]\n",
    "\n",
    "def get_option_word_counts(choices):\n",
    "    return [len(text.split()) for text in choices['text']]\n",
    "\n",
    "combined_df['option_lengths'] = combined_df['choices'].apply(get_option_lengths)\n",
    "combined_df['option_word_counts'] = combined_df['choices'].apply(get_option_word_counts)\n",
    "\n",
    "# Flatten the lists for analysis\n",
    "all_option_lengths = [length for lengths in combined_df['option_lengths'] for length in lengths]\n",
    "all_option_word_counts = [count for counts in combined_df['option_word_counts'] for count in counts]\n",
    "\n",
    "print(\"\\033[4m\" + \"Option length (characters)\" + \"\\033[0m\")\n",
    "print(f\"Min: {min(all_option_lengths)}\")\n",
    "print(f\"Max: {max(all_option_lengths)}\")\n",
    "print(f\"Mean: {np.mean(all_option_lengths):.2f}\")\n",
    "print(f\"Median: {np.median(all_option_lengths)}\")\n",
    "\n",
    "print(\"\\033[4m\" + \"\\nOption word count\" + \"\\033[0m\")\n",
    "print(f\"Min: {min(all_option_word_counts)}\")\n",
    "print(f\"Max: {max(all_option_word_counts)}\")\n",
    "print(f\"Mean: {np.mean(all_option_word_counts):.2f}\")\n",
    "print(f\"Median: {np.median(all_option_word_counts)}\")"
   ]
  },
  {
   "cell_type": "markdown",
   "metadata": {},
   "source": [
    "### 5. Analyze answer distribution"
   ]
  },
  {
   "cell_type": "code",
   "execution_count": 94,
   "metadata": {},
   "outputs": [
    {
     "name": "stdout",
     "output_type": "stream",
     "text": [
      "\u001b[4mAnswer Distribution\u001b[0m\n",
      "answer_letter\n",
      "D    2236\n",
      "B    2228\n",
      "C    2187\n",
      "E    2163\n",
      "A    2148\n",
      "Name: count, dtype: int64 \n",
      "\n",
      "answer_letter\n",
      "D     20.4%\n",
      "B    20.32%\n",
      "C    19.95%\n",
      "E    19.73%\n",
      "A    19.59%\n",
      "Name: proportion, dtype: object\n"
     ]
    }
   ],
   "source": [
    "def extract_answer_letter(example):\n",
    "    return example['answerKey']\n",
    "\n",
    "combined_df['answer_letter'] = combined_df.apply(extract_answer_letter, axis=1)\n",
    "\n",
    "print(\"\\033[4m\" + \"Answer Distribution\" + \"\\033[0m\")\n",
    "print(combined_df['answer_letter'].value_counts(), \"\\n\")\n",
    "print(combined_df['answer_letter'].value_counts(normalize=True).mul(100).round(2).astype(str) + '%')"
   ]
  },
  {
   "cell_type": "markdown",
   "metadata": {},
   "source": [
    "### 6. Extract common question words/phrases"
   ]
  },
  {
   "cell_type": "code",
   "execution_count": 104,
   "metadata": {},
   "outputs": [
    {
     "name": "stdout",
     "output_type": "stream",
     "text": [
      "\u001b[4mCommon Words in Questions\u001b[0m\n",
      "would: 1101\n",
      "people: 694\n",
      "might: 669\n",
      "likely: 637\n",
      "someone: 556\n",
      "find: 509\n",
      "could: 502\n",
      "person: 498\n",
      "get: 372\n",
      "one: 367\n"
     ]
    }
   ],
   "source": [
    "def get_common_words(text_series, top_n=20):\n",
    "    stop_words = set(stopwords.words('english'))\n",
    "    all_words = []\n",
    "    \n",
    "    for text in text_series:\n",
    "        words = word_tokenize(text.lower())\n",
    "        filtered_words = [word for word in words if word.isalnum() and word not in stop_words]\n",
    "        all_words.extend(filtered_words)\n",
    "    \n",
    "    return Counter(all_words).most_common(top_n)\n",
    "\n",
    "print(\"\\033[4m\" + \"Common Words in Questions\" + \"\\033[0m\")\n",
    "common_words = get_common_words(train_df['question'], 10)\n",
    "for word, count in common_words:\n",
    "    print(f\"{word}: {count}\")"
   ]
  },
  {
   "cell_type": "markdown",
   "metadata": {},
   "source": [
    "### 7. Visualize question length distribution"
   ]
  },
  {
   "cell_type": "code",
   "execution_count": 118,
   "metadata": {},
   "outputs": [
    {
     "data": {
      "text/plain": [
       "Text(0, 0.5, 'Frequency')"
      ]
     },
     "execution_count": 118,
     "metadata": {},
     "output_type": "execute_result"
    },
    {
     "data": {
      "image/png": "[encoded data removed]",
      "text/plain": [
       "<Figure size 800x400 with 1 Axes>"
      ]
     },
     "metadata": {},
     "output_type": "display_data"
    }
   ],
   "source": [
    "plt.figure(figsize=(8, 4))\n",
    "sns.histplot(combined_df['question_word_count'], bins=20, kde=True)\n",
    "plt.title('Distribution of Question Word Count')\n",
    "plt.xlabel('Number of Words')\n",
    "plt.ylabel('Frequency')"
   ]
  },
  {
   "cell_type": "markdown",
   "metadata": {},
   "source": [
    "### 8. Visualize answer distribution"
   ]
  },
  {
   "cell_type": "code",
   "execution_count": 116,
   "metadata": {},
   "outputs": [
    {
     "data": {
      "text/plain": [
       "Text(0, 0.5, 'Count')"
      ]
     },
     "execution_count": 116,
     "metadata": {},
     "output_type": "execute_result"
    },
    {
     "data": {
      "image/png": "[encoded data removed]",
      "text/plain": [
       "<Figure size 800x400 with 1 Axes>"
      ]
     },
     "metadata": {},
     "output_type": "display_data"
    }
   ],
   "source": [
    "plt.figure(figsize=(8, 4))\n",
    "sns.countplot(x='answer_letter', data=combined_df, order=combined_df['answer_letter'].value_counts().index)\n",
    "plt.title('Distribution of Answers')\n",
    "plt.xlabel('Answer Option')\n",
    "plt.ylabel('Count')"
   ]
  },
  {
   "cell_type": "markdown",
   "metadata": {},
   "source": [
    "# **Preprocessing**"
   ]
  },
  {
   "cell_type": "markdown",
   "metadata": {},
   "source": [
    "For the preprocessing I looked at the following points:\n",
    "\n",
    "1. Tokenization\n",
    "2. Lowercasing, stemming, lemmatizing, stopword/punctuation removal \n",
    "3. Removal of unknown/other words \n",
    "4. Format cleaning (e.g. html-extracted text) \n",
    "5. Truncation \n",
    "6. Feature selection \n",
    "7. Input format: how is data passed to the model? \n",
    "8. Label format: what should the model predict?\n",
    "9. Batching, padding \n",
    "10. Vocabulary, embedding "
   ]
  },
  {
   "cell_type": "markdown",
   "metadata": {},
   "source": [
    "Here are my decisions and justifications for using or not using the above listed preprocessing methods:\n",
    "\n",
    "1. Tokenization is absolutely mandatory.\n",
    "2. I chose not to use lowercasing to keep the semantic meaning of the words. Stemming and lemmatizing are not needed, because GloVe already captures semantic similarities. Stopword/Punctuation removal is generally not a needed for a RNN due to the fact that the model can then learn to ignore irrelevant words by itself.\n",
    "3. "
   ]
  },
  {
   "cell_type": "code",
   "execution_count": null,
   "metadata": {},
   "outputs": [],
   "source": [
    "def preprocessing(text):\n",
    "    tokens = nltk.tokenize.word_tokenize(text)\n",
    "    return tokens"
   ]
  }
 ],
 "metadata": {
  "kernelspec": {
   "display_name": "Python 3",
   "language": "python",
   "name": "python3"
  },
  "language_info": {
   "codemirror_mode": {
    "name": "ipython",
    "version": 3
   },
   "file_extension": ".py",
   "mimetype": "text/x-python",
   "name": "python",
   "nbconvert_exporter": "python",
   "pygments_lexer": "ipython3",
   "version": "3.12.8"
  }
 },
 "nbformat": 4,
 "nbformat_minor": 2
}
