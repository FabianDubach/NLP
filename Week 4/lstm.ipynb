{
 "cells": [
  {
   "cell_type": "markdown",
   "id": "20bae9b5",
   "metadata": {},
   "source": [
    "# Long Short-Term Memory\n",
    "In this exercise, we will implement an LSTM. In the class, we have already seen the definition of the LSTM update rules at time step $t$:\n",
    "\n",
    "$$\n",
    "\\begin{align}\n",
    "f_t &= \\sigma(W_f h_{t-1} + U_f x_t + b_f) \\\\\n",
    "i_t &= \\sigma(W_i h_{t-1} + U_i x_t + b_i) \\\\\n",
    "o_t &= \\sigma(W_o h_{t-1} + U_o x_t + b_o) \\\\\n",
    "\\tilde{c}_t &= \\tanh(W_c h_{t-1} + U_c x_t + b_c) \\\\\n",
    "c_t &= f_t * c_{t-1} + i_t * \\tilde{c}_t \\\\\n",
    "h_t &= o_t * \\tanh(c_t)\n",
    "\\end{align}\n",
    "$$"
   ]
  },
  {
   "cell_type": "code",
   "execution_count": 1,
   "id": "e7619e77",
   "metadata": {},
   "outputs": [],
   "source": [
    "import torch\n",
    "import torch.nn as nn"
   ]
  },
  {
   "cell_type": "markdown",
   "id": "c18fa802",
   "metadata": {},
   "source": [
    "Implement this original version of the LSTM as an `LSTMCell`."
   ]
  },
  {
   "cell_type": "code",
   "execution_count": 3,
   "id": "5b7cf7f3",
   "metadata": {},
   "outputs": [],
   "source": [
    "class LSTMCell(nn.Module):\n",
    "    \n",
    "    def __init__(self, input_dim, hidden_dim):\n",
    "        super().__init__() \n",
    "        self.w_f = nn.Parameter(torch.empty(hidden_dim, hidden_dim))\n",
    "        self.u_f = nn.Parameter(torch.empty(hidden_dim, input_dim))\n",
    "        self.w_i = nn.Parameter(torch.empty(hidden_dim, hidden_dim))\n",
    "        self.u_i = nn.Parameter(torch.empty(hidden_dim, input_dim))\n",
    "        self.w_o = nn.Parameter(torch.empty(hidden_dim, hidden_dim))\n",
    "        self.u_o = nn.Parameter(torch.empty(hidden_dim, input_dim))\n",
    "        self.w_c = nn.Parameter(torch.empty(hidden_dim, hidden_dim))\n",
    "        self.u_c = nn.Parameter(torch.empty(hidden_dim, input_dim))\n",
    "        \n",
    "        self.b_f = nn.Parameter(torch.empty(hidden_dim))\n",
    "        self.b_i = nn.Parameter(torch.empty(hidden_dim))\n",
    "        self.b_o = nn.Parameter(torch.empty(hidden_dim))\n",
    "        self.b_c = nn.Parameter(torch.empty(hidden_dim))\n",
    "    \n",
    "    \n",
    "    def reset_parameters(self):\n",
    "        for weight in self.parameters():\n",
    "            nn.init.uniform_(weight, -1, 1)\n",
    "    \n",
    "            \n",
    "    def forward(self, x, h_t, c_t):\n",
    "        f_t = torch.sigmoid(self.w_f @ h_t + self.u_f @ x + self.b_f)\n",
    "        i_t = torch.sigmoid(self.w_i @ h_t + self.u_i @ x + self.b_i)\n",
    "        o_t = torch.sigmoid(self.w_o @ h_t + self.u_o @ x + self.b_o)\n",
    "        c_memory = torch.tanh(self.w_c @ h_t + self.u_c @ x + self.b_c)\n",
    "        \n",
    "        c_t = f_t * c_t + i_t * c_memory\n",
    "        h_t = o_t * torch.tanh(c_t)\n",
    "        \n",
    "        return h_t, c_t"
   ]
  },
  {
   "cell_type": "markdown",
   "id": "f49ac90b",
   "metadata": {},
   "source": [
    "Create a 2-layer LSTM from your LSTMCell base class and run a forward pass with a random input sequence to test that all your dimensions are correct."
   ]
  },
  {
   "cell_type": "code",
   "execution_count": null,
   "id": "1562d0bb",
   "metadata": {},
   "outputs": [],
   "source": []
  },
  {
   "cell_type": "markdown",
   "id": "dbc4028e",
   "metadata": {},
   "source": [
    "Implement a subclass of your LSTM that uses a coupled forget and input gate, i.e. the cell state update becomes:\n",
    "\n",
    "$$c_t = f_t * c_{t-1} + (1-f_t) * \\tilde{c}_t$$"
   ]
  },
  {
   "cell_type": "code",
   "execution_count": null,
   "id": "821ee42c",
   "metadata": {},
   "outputs": [],
   "source": []
  },
  {
   "cell_type": "markdown",
   "id": "371c955b",
   "metadata": {},
   "source": [
    "**Bonus:** Implement *peephole connections* as described at the start of the Section *Variants on Long Short Term Memory* in [this blog post explaining LSTMs](https://colah.github.io/posts/2015-08-Understanding-LSTMs/).\n",
    "\n",
    "The gate update definitions get an additional term that looks at the cell state:\n",
    "$$\n",
    "\\begin{align}\n",
    "f_t &= \\sigma(W_f h_{t-1} + U_f x_t + b_f \\boldsymbol{+ V_f c_{t-1}}) \\\\\n",
    "i_t &= \\sigma(W_i h_{t-1} + U_i x_t + b_i \\boldsymbol{+ V_i c_{t-1}}) \\\\\n",
    "o_t &= \\sigma(W_o h_{t-1} + U_o x_t + b_o \\boldsymbol{+ V_o c_t})\n",
    "\\end{align}\n",
    "$$\n",
    "\n",
    "To make the task a bit easier, we will implement the last equation with the cell state of the previous time step $t-1$ as $$o_t = \\sigma(W_o h_{t-1} + U_o x_t + b_o \\boldsymbol{+ V_o c_{t-1}})$$ instead."
   ]
  },
  {
   "cell_type": "code",
   "execution_count": null,
   "id": "97f33705",
   "metadata": {},
   "outputs": [],
   "source": []
  }
 ],
 "metadata": {
  "kernelspec": {
   "display_name": "Python 3",
   "language": "python",
   "name": "python3"
  },
  "language_info": {
   "codemirror_mode": {
    "name": "ipython",
    "version": 3
   },
   "file_extension": ".py",
   "mimetype": "text/x-python",
   "name": "python",
   "nbconvert_exporter": "python",
   "pygments_lexer": "ipython3",
   "version": "3.10.7"
  }
 },
 "nbformat": 4,
 "nbformat_minor": 5
}
