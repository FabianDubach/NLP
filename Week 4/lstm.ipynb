{
 "cells": [
  {
   "cell_type": "markdown",
   "id": "20bae9b5",
   "metadata": {},
   "source": [
    "# Long Short-Term Memory\n",
    "In this exercise, we will implement an LSTM. In the class, we have already seen the definition of the LSTM update rules at time step $t$:\n",
    "\n",
    "$$\n",
    "\\begin{align}\n",
    "f_t &= \\sigma(W_f h_{t-1} + U_f x_t + b_f) \\\\\n",
    "i_t &= \\sigma(W_i h_{t-1} + U_i x_t + b_i) \\\\\n",
    "o_t &= \\sigma(W_o h_{t-1} + U_o x_t + b_o) \\\\\n",
    "\\tilde{c}_t &= \\tanh(W_c h_{t-1} + U_c x_t + b_c) \\\\\n",
    "c_t &= f_t * c_{t-1} + i_t * \\tilde{c}_t \\\\\n",
    "h_t &= o_t * \\tanh(c_t)\n",
    "\\end{align}\n",
    "$$"
   ]
  },
  {
   "cell_type": "code",
   "execution_count": 1,
   "id": "e7619e77",
   "metadata": {},
   "outputs": [],
   "source": [
    "import torch\n",
    "import torch.nn as nn"
   ]
  },
  {
   "cell_type": "markdown",
   "id": "c18fa802",
   "metadata": {},
   "source": [
    "Implement this original version of the LSTM as an `LSTMCell`."
   ]
  },
  {
   "cell_type": "code",
   "execution_count": 2,
   "id": "5b7cf7f3",
   "metadata": {},
   "outputs": [],
   "source": [
    "class LSTMCell(nn.Module):\n",
    "    \n",
    "    def __init__(self, input_dim, hidden_dim, num_chunks=4):\n",
    "        super().__init__()\n",
    "        self.hidden_dim = hidden_dim\n",
    "        self.num_chunks = num_chunks\n",
    "        \n",
    "        # stack weights and biases\n",
    "        self.w = nn.Linear(hidden_dim, num_chunks * hidden_dim, bias=False)\n",
    "        self.u = nn.Linear(input_dim, num_chunks * hidden_dim, bias=False)\n",
    "        self.b = nn.Parameter(torch.empty(num_chunks * hidden_dim))\n",
    "        \n",
    "    def reset_parameters(self):\n",
    "        for weight in self.parameters():\n",
    "            nn.init.normal_(weight, mean=0, std=1)\n",
    "    \n",
    "    def forward(self, x, cell_state, hidden_state):\n",
    "        updates = self.w(hidden_state) + self.u(x) + self.b\n",
    "        updates = updates.reshape(self.num_chunks, self.hidden_dim)\n",
    "        forget_gate = torch.sigmoid(updates[0])\n",
    "        input_gate = torch.sigmoid(updates[1])\n",
    "        output_gate = torch.sigmoid(updates[2])\n",
    "        new_cell_memory = torch.tanh(updates[3])\n",
    "        new_cell_state = forget_gate * cell_state + input_gate * new_cell_memory  # element-wise multiplications\n",
    "        new_hidden_state = output_gate * torch.tanh(new_cell_state)\n",
    "        return new_cell_state, new_hidden_state"
   ]
  },
  {
   "cell_type": "markdown",
   "id": "f49ac90b",
   "metadata": {},
   "source": [
    "Create a 2-layer LSTM from your LSTMCell base class and run a forward pass with a random input sequence to test that all your dimensions are correct."
   ]
  },
  {
   "cell_type": "code",
   "execution_count": 3,
   "id": "1562d0bb",
   "metadata": {},
   "outputs": [
    {
     "name": "stdout",
     "output_type": "stream",
     "text": [
      "LSTM outputs: torch.Size([2, 10]) torch.Size([2, 10])\n",
      "tensor([[ 2.6558e-02, -4.7880e-01, -3.8033e-01, -5.0786e-01, -2.5652e-01,\n",
      "         -6.8788e-01, -1.8028e-01,  1.5213e-01,  1.4925e-01, -3.4361e-01],\n",
      "        [ 7.8318e-02,  2.1964e-01, -1.4630e-02, -7.0103e-04, -3.5553e-01,\n",
      "         -3.4361e-01,  4.7176e-01,  7.3530e-01,  4.8829e-01,  1.5587e-01]],\n",
      "       grad_fn=<CopySlices>)\n"
     ]
    }
   ],
   "source": [
    "class LSTM(nn.Module):\n",
    "    \n",
    "    def __init__(self, input_dim, hidden_dim, num_layers):\n",
    "        super().__init__()\n",
    "        self.layers = nn.ModuleList([])\n",
    "        for i in range(num_layers):\n",
    "            in_dim = input_dim if i == 0 else hidden_dim\n",
    "            self.layers.append(LSTMCell(in_dim, hidden_dim))\n",
    "    \n",
    "    def reset_parameters(self):\n",
    "        for layer in self.layers:\n",
    "            layer.reset_parameters()\n",
    "    \n",
    "    def _forward(self, x, cell_state, hidden_state):\n",
    "        assert cell_state.dim() == 2, \"Cell state has the wrong number of dimensions\"\n",
    "        assert cell_state.size(0) == len(self.layers), \"First dimension should be the number of layers\"\n",
    "        assert cell_state.size() == hidden_state.size(), \"Hidden state has the wrong dimensions\"\n",
    "        new_cell_state = torch.empty_like(cell_state)\n",
    "        new_hidden_state = torch.empty_like(hidden_state)\n",
    "        for i, layer in enumerate(self.layers):\n",
    "            new_cell_state[i], new_hidden_state[i] = layer(x, cell_state[i], hidden_state[i])\n",
    "            x = new_hidden_state[i]  # input to layers above first is output hidden state\n",
    "        return new_cell_state, new_hidden_state\n",
    "    \n",
    "    def forward(self, x, cell_state, hidden_state):\n",
    "        assert x.dim() == 2, \"input needs to be of shape [sequence length, input dim]\"\n",
    "        for x_i in x:\n",
    "            cell_state, hidden_state = self._forward(x_i, cell_state, hidden_state)\n",
    "        return cell_state, hidden_state\n",
    "        \n",
    "\n",
    "input_dim = 5\n",
    "hidden_dim = 10\n",
    "output_dim = 8\n",
    "sequence_length = 6\n",
    "num_layers = 2\n",
    "x = torch.randn(sequence_length, input_dim)\n",
    "c0 = torch.randn(num_layers, hidden_dim)\n",
    "h0 = torch.randn(num_layers, hidden_dim)\n",
    "lstm = LSTM(input_dim, hidden_dim, num_layers)\n",
    "lstm.reset_parameters()\n",
    "cn, hn = lstm(x, c0, h0)\n",
    "print('LSTM outputs:', cn.shape, hn.shape)\n",
    "print(hn)"
   ]
  },
  {
   "cell_type": "markdown",
   "id": "dbc4028e",
   "metadata": {},
   "source": [
    "Implement a subclass of your LSTM that uses a coupled forget and input gate, i.e. the cell state update becomes:\n",
    "\n",
    "$$c_t = f_t * c_{t-1} + (1-f_t) * \\tilde{c}_t$$"
   ]
  },
  {
   "cell_type": "code",
   "execution_count": 4,
   "id": "821ee42c",
   "metadata": {},
   "outputs": [
    {
     "name": "stdout",
     "output_type": "stream",
     "text": [
      "torch.Size([2, 10]) torch.Size([2, 10])\n"
     ]
    }
   ],
   "source": [
    "class CoupledLSTMCell(LSTMCell):\n",
    "    \n",
    "    def __init__(self, input_dim, hidden_dim):\n",
    "        super().__init__(input_dim, hidden_dim, num_chunks=3)\n",
    "    \n",
    "    def forward(self, x, cell_state, hidden_state):\n",
    "        updates = self.w(hidden_state) + self.u(x) + self.b\n",
    "        updates = updates.reshape(self.num_chunks, hidden_dim)\n",
    "        forget_gate = torch.sigmoid(updates[0])\n",
    "        output_gate = torch.sigmoid(updates[1])  # updated index\n",
    "        new_cell_memory = torch.tanh(updates[2])  # updated index\n",
    "        new_cell_state = forget_gate * cell_state + (1 - forget_gate) * new_cell_memory  # updated gate\n",
    "        new_hidden_state = output_gate * torch.tanh(new_cell_state)\n",
    "        return new_cell_state, new_hidden_state\n",
    "\n",
    "class CoupledLSTM(LSTM):    \n",
    "    \n",
    "    def __init__(self, input_dim, hidden_dim, num_layers):\n",
    "        super().__init__(input_dim, hidden_dim, num_layers)\n",
    "        self.layers = nn.ModuleList([])  # reset layers\n",
    "        for i in range(num_layers):\n",
    "            in_dim = input_dim if i == 0 else hidden_dim\n",
    "            self.layers.append(CoupledLSTMCell(in_dim, hidden_dim))\n",
    "\n",
    "coupled_lstm = CoupledLSTM(input_dim, hidden_dim, num_layers)\n",
    "coupled_lstm.reset_parameters()\n",
    "cn, hn = coupled_lstm(x, c0, h0)\n",
    "print(cn.size(), hn.shape)"
   ]
  },
  {
   "cell_type": "markdown",
   "id": "371c955b",
   "metadata": {},
   "source": [
    "**Bonus:** Implement *peephole connections* as described at the start of the Section *Variants on Long Short Term Memory* in [this blog post explaining LSTMs](https://colah.github.io/posts/2015-08-Understanding-LSTMs/).\n",
    "\n",
    "The gate update definitions get an additional term that looks at the cell state:\n",
    "$$\n",
    "\\begin{align}\n",
    "f_t &= \\sigma(W_f h_{t-1} + U_f x_t + b_f \\boldsymbol{+ V_f c_{t-1}}) \\\\\n",
    "i_t &= \\sigma(W_i h_{t-1} + U_i x_t + b_i \\boldsymbol{+ V_i c_{t-1}}) \\\\\n",
    "o_t &= \\sigma(W_o h_{t-1} + U_o x_t + b_o \\boldsymbol{+ V_o c_t})\n",
    "\\end{align}\n",
    "$$\n",
    "\n",
    "To make the task a bit easier, we will implement the last equation with the cell state of the previous time step $t-1$ as $$o_t = \\sigma(W_o h_{t-1} + U_o x_t + b_o \\boldsymbol{+ V_o c_{t-1}})$$ instead."
   ]
  },
  {
   "cell_type": "code",
   "execution_count": 5,
   "id": "97f33705",
   "metadata": {},
   "outputs": [
    {
     "name": "stdout",
     "output_type": "stream",
     "text": [
      "torch.Size([2, 10]) torch.Size([2, 10])\n"
     ]
    }
   ],
   "source": [
    "class PeepholeLSTMCell(LSTMCell):\n",
    "    \n",
    "    def __init__(self, input_dim, hidden_dim, num_chunks=4):\n",
    "        super().__init__(input_dim, hidden_dim, num_chunks)\n",
    "        \n",
    "        # add weights for additional term\n",
    "        self.v = nn.Linear(hidden_dim, 3 * hidden_dim, bias=False)\n",
    "    \n",
    "    def forward(self, x, cell_state, hidden_state):\n",
    "        # add peephole updates and stack it with an all-zero tensor\n",
    "        # to avoid changing the new cell memory's computation\n",
    "        peephole_updates = torch.cat([self.v(hidden_state), torch.zeros(self.hidden_dim)])\n",
    "        updates = self.w(hidden_state) + self.u(x) + self.b + peephole_updates\n",
    "        # rest stays the same\n",
    "        updates = updates.reshape(self.num_chunks, hidden_dim)\n",
    "        updates = torch.unbind(updates)\n",
    "        forget_gate = torch.sigmoid(updates[0])\n",
    "        input_gate = torch.sigmoid(updates[1])\n",
    "        output_gate = torch.sigmoid(updates[2])\n",
    "        new_cell_memory = torch.tanh(updates[3])\n",
    "        new_cell_state = forget_gate * cell_state + input_gate * new_cell_memory  # element-wise multiplications\n",
    "        new_hidden_state = output_gate * torch.tanh(new_cell_state)\n",
    "        return new_cell_state, new_hidden_state\n",
    "\n",
    "class PeepholeLSTM(LSTM):    \n",
    "    \n",
    "    def __init__(self, input_dim, hidden_dim, num_layers):\n",
    "        super().__init__(input_dim, hidden_dim, num_layers)\n",
    "        self.layers = nn.ModuleList([])  # reset layers\n",
    "        for i in range(num_layers):\n",
    "            in_dim = input_dim if i == 0 else hidden_dim\n",
    "            self.layers.append(PeepholeLSTMCell(in_dim, hidden_dim))\n",
    "\n",
    "peephole_lstm = PeepholeLSTM(input_dim, hidden_dim, num_layers)\n",
    "peephole_lstm.reset_parameters()\n",
    "cn, hn = peephole_lstm(x, c0, h0)\n",
    "print(cn.size(), hn.shape)"
   ]
  }
 ],
 "metadata": {
  "kernelspec": {
   "display_name": "Python 3",
   "language": "python",
   "name": "python3"
  },
  "language_info": {
   "codemirror_mode": {
    "name": "ipython",
    "version": 3
   },
   "file_extension": ".py",
   "mimetype": "text/x-python",
   "name": "python",
   "nbconvert_exporter": "python",
   "pygments_lexer": "ipython3",
   "version": "3.12.8"
  }
 },
 "nbformat": 4,
 "nbformat_minor": 5
}
