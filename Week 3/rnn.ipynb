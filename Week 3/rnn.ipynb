{
 "cells": [
  {
   "cell_type": "markdown",
   "id": "d3a1078d",
   "metadata": {},
   "source": [
    "# Recurrent Neural Networks\n",
    "In this exercise, we will implement a simple one-layer recurrent neural network. We will use the formula for an [Elman RNN](https://en.wikipedia.org/wiki/Recurrent_neural_network#Elman_networks_and_Jordan_networks), one of the most basic and classical RNNs. The hidden state update and output at time $t$ are defined like this:\n",
    "\n",
    "$$\n",
    "\\begin{align}\n",
    "h_t &= \\tanh(W_h x_t + U_h h_{t-1} + b_h) \\\\\n",
    "y_t &= \\tanh(W_y h_t + b_y)\n",
    "\\end{align}\n",
    "$$"
   ]
  },
  {
   "cell_type": "code",
   "execution_count": 1,
   "id": "cd53e848",
   "metadata": {},
   "outputs": [],
   "source": [
    "import torch\n",
    "import torch.nn as nn"
   ]
  },
  {
   "cell_type": "markdown",
   "id": "96717180",
   "metadata": {},
   "source": [
    "We start by defining the RNN as a subclass of `nn.Module`. The network's parameters are created in the `__init__` method. Use `input_dim`, `hidden_dim` and `output_dim` as arguments that define the dimensionality of the input/hidden/output vectors. Define your parameters as `nn.Parameter` with the appropriate dimensions. The documentation of `torch.nn` can be found [here](https://pytorch.org/docs/stable/nn.html)."
   ]
  },
  {
   "cell_type": "code",
   "execution_count": null,
   "id": "3046a484",
   "metadata": {},
   "outputs": [],
   "source": [
    "class RNN(nn.Module):\n",
    "    \n",
    "    def __init__(self, input_dim, hidden_dim, output_dim):\n",
    "        super().__init__()        \n",
    "        self.w_h = nn.Parameter(torch.empty(hidden_dim, input_dim))\n",
    "        self.u_h = nn.Parameter(torch.empty(hidden_dim, hidden_dim))\n",
    "        self.w_y = nn.Parameter(torch.empty(output_dim, hidden_dim))\n",
    "        \n",
    "        self.b_h = nn.Parameter(torch.empty(hidden_dim))\n",
    "        self.b_y = nn.Parameter(torch.empty(output_dim))      "
   ]
  },
  {
   "cell_type": "markdown",
   "id": "2f1d42c7",
   "metadata": {},
   "source": [
    "Add a function `reset_parameters` that initializes your parameters. Pick a suitable distribution from [nn.init](https://pytorch.org/docs/stable/nn.init.html)."
   ]
  },
  {
   "cell_type": "code",
   "execution_count": 17,
   "id": "0f7f786e",
   "metadata": {},
   "outputs": [],
   "source": [
    "def reset_parameters(self):\n",
    "    for weight in self.parameters():\n",
    "        nn.init.uniform_(weight, -1, 1)\n",
    "        \n",
    "RNN.reset_parameters = reset_parameters"
   ]
  },
  {
   "cell_type": "markdown",
   "id": "b2f8081d",
   "metadata": {},
   "source": [
    "Add a `forward` function that takes an input and a starting hidden state $h_{t-1}$ and returns the updated hidden state $h_t$ and output $y$ as outputs. The initial hidden state $h_0$ can be initialized randomly/to all zeros."
   ]
  },
  {
   "cell_type": "code",
   "execution_count": 22,
   "id": "be12dc16",
   "metadata": {},
   "outputs": [],
   "source": [
    "def forward(self, x, h_t):\n",
    "    new_h_t = torch.tanh(self.w_h @ x + self.u_h @ h_t + self.b_h)\n",
    "    y_t = torch.tanh(self.w_y @ new_h_t - self.b_y)\n",
    "    return y_t, new_h_t\n",
    "\n",
    "RNN.forward = forward"
   ]
  },
  {
   "cell_type": "markdown",
   "id": "79bfa8a9",
   "metadata": {},
   "source": [
    "Test your RNN with a single input."
   ]
  },
  {
   "cell_type": "code",
   "execution_count": 27,
   "id": "8521f93b",
   "metadata": {},
   "outputs": [
    {
     "name": "stdout",
     "output_type": "stream",
     "text": [
      "y shape:  torch.Size([10])\n",
      "y:  tensor([-0.8376,  0.9170,  0.9925,  0.9643, -0.4893,  0.5281, -0.8434,  0.9928,\n",
      "        -0.6311,  0.0650], grad_fn=<TanhBackward0>)\n",
      "h shape:  torch.Size([20])\n"
     ]
    }
   ],
   "source": [
    "input_dim = 5\n",
    "hidden_dim = 20\n",
    "output_dim = 10\n",
    "rnn = RNN(input_dim, hidden_dim, output_dim)\n",
    "rnn.reset_parameters()\n",
    "x = torch.randn(input_dim)\n",
    "h0 = torch.zeros(hidden_dim)\n",
    "y, new_h_t = rnn(x, h0)\n",
    "print('y shape: ', y.shape)\n",
    "print('y: ', y)\n",
    "print('h shape: ', new_h_t.shape)"
   ]
  },
  {
   "cell_type": "markdown",
   "id": "bcbd792b",
   "metadata": {},
   "source": [
    "Now create an input sequence and run it through your RNN."
   ]
  },
  {
   "cell_type": "code",
   "execution_count": null,
   "id": "f7570b70",
   "metadata": {},
   "outputs": [],
   "source": [
    "seq_length = 4\n",
    "inputs = [torch.randn(input_dim) for _ in range(seq_length)]\n",
    "h0 = torch.zeros(hidden_dim)\n",
    "outputs = []\n",
    "for x in inputs:\n",
    "    y, new_h_t = rnn(x, h0)\n",
    "    h_t = new_h_t\n",
    "    outputs.append(y)"
   ]
  },
  {
   "cell_type": "markdown",
   "id": "9c258a2f",
   "metadata": {},
   "source": [
    "The final hidden state encodes all the information present in the input sequence. It can be used as a feature for classification, or to initialize a decoder RNN to do translation, for example.\n",
    "\n",
    "Now look at PyTorch's documentation for the [`nn.RNN`](https://pytorch.org/docs/stable/generated/torch.nn.RNN.html) and the [`nn.RNNCell`](https://pytorch.org/docs/stable/generated/torch.nn.RNNCell.html) classes. What is the difference between the two? What is the difference to the definition from Wikipedia we used above? Run your input sequence through both the `nn.RNN` and the `nn.RNNCell`."
   ]
  },
  {
   "cell_type": "code",
   "execution_count": null,
   "id": "7c5ce3f8",
   "metadata": {},
   "outputs": [],
   "source": []
  }
 ],
 "metadata": {
  "kernelspec": {
   "display_name": "Python 3",
   "language": "python",
   "name": "python3"
  },
  "language_info": {
   "codemirror_mode": {
    "name": "ipython",
    "version": 3
   },
   "file_extension": ".py",
   "mimetype": "text/x-python",
   "name": "python",
   "nbconvert_exporter": "python",
   "pygments_lexer": "ipython3",
   "version": "3.10.7"
  }
 },
 "nbformat": 4,
 "nbformat_minor": 5
}
